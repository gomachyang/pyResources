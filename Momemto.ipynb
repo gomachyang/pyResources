{
 "cells": [
  {
   "cell_type": "code",
   "execution_count": 2,
   "metadata": {},
   "outputs": [
    {
     "name": "stdout",
     "output_type": "stream",
     "text": [
      "Writing 20190430_python101_note.md\n"
     ]
    }
   ],
   "source": [
    "%%writefile 20190430_python101_note.md\n",
    "\n",
    "1.%load - load file but not exe\n",
    "\n",
    "2.%run - load and exe\n",
    "\n",
    "3.%%writefile file.py - can create a file\n",
    "\n",
    "4.if + elif + else\n",
    "\n",
    "5.if 可以單獨存在 可以不用寫 else\n",
    "\n",
    "6.\n",
    "if a :\n",
    "    print(a)\n",
    "elif b :\n",
    "    print(b)\n",
    "elif c :\n",
    "    print(c)\n",
    "else :\n",
    "    print(d)\n",
    "\n",
    "可用於搜尋檔案時，有出現結果就 print 東西出來。\n",
    "\n",
    "7.\n",
    "my_list = ['a', 'star', 6, 7.9, True, False]\n",
    "my_questions = ['Q1', 'Q2', 'Q3', 'Q4', 'Q5']\n",
    "my_questions[0]\n",
    "my_questions[0:5]\n",
    "my_questions[:]\n",
    "my_questions[::2]\n",
    "len(my_questions)\n",
    "my_questions.append('Q6') 增加list內容\n",
    "my_questions.remove('Q2') 刪除list內容\n",
    "my_questions.insert(0, 'str') 增加list內容，可指定位置。\n",
    "\n",
    "8.\n",
    "for loop 可以有不同寫法，解決同樣的事情。\n",
    "\n",
    "9.\n",
    "創造一個資料夾，內含一堆excel檔，列出所有的excel檔，並同時列出所有檔案的檔名長度。\n",
    "\n",
    "10.\n",
    "字串和list有某種程度的相似，可以用類似手法取得其內的資訊。但沒有全部的功能都相同，例如不能新增或刪除字串內的元素。\n",
    "\n",
    "11.\n",
    "num = num + 1 可以寫成 num += 1 \n",
    "\n",
    "12.\n",
    "return 的概念\n",
    "\n",
    "13.\n",
    "module和function的使用\n",
    "\n",
    "14.\n",
    "資料結構概念，dictionary\n",
    "\n",
    "15.\n",
    "利用內建的字串處理功能即可處理大部分的字串編輯，要不然要用for迴圈處理很久。\n",
    "\n",
    "16.\n",
    "迴圈以及判別式\n",
    "\n",
    "17.\n",
    "function的目的是可以讓一個簡單的功能被重複利用，不必重複寫很多次一樣的東西，\n",
    "\n",
    "18.\n",
    "tuple和list很像，只是放進去的東西無法被更改，但可以刪減，只是無法被置換。\n",
    "\n",
    "19.\n",
    "dict，字典\n",
    "\n",
    "20.\n",
    "*args 會將所輸入的值放入tuple \n",
    "\n",
    "21.\n",
    "read function會把內容存成字串\n"
   ]
  },
  {
   "cell_type": "code",
   "execution_count": null,
   "metadata": {},
   "outputs": [],
   "source": []
  }
 ],
 "metadata": {
  "kernelspec": {
   "display_name": "Python 3",
   "language": "python",
   "name": "python3"
  },
  "language_info": {
   "codemirror_mode": {
    "name": "ipython",
    "version": 3
   },
   "file_extension": ".py",
   "mimetype": "text/x-python",
   "name": "python",
   "nbconvert_exporter": "python",
   "pygments_lexer": "ipython3",
   "version": "3.7.4"
  }
 },
 "nbformat": 4,
 "nbformat_minor": 4
}
