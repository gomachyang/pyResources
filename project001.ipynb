{
 "cells": [
  {
   "cell_type": "markdown",
   "metadata": {},
   "source": [
    "## First project\n",
    "\n",
    "### search .ipynb in projects\n",
    "\n",
    " - number\n",
    " - file name"
   ]
  },
  {
   "cell_type": "code",
   "execution_count": 1,
   "metadata": {},
   "outputs": [],
   "source": [
    "import os"
   ]
  },
  {
   "cell_type": "code",
   "execution_count": 2,
   "metadata": {},
   "outputs": [
    {
     "data": {
      "text/plain": [
       "['demo002.ipynb',\n",
       " 'demo000.ipynb',\n",
       " 'demo004.py',\n",
       " 'demo001.ipynb',\n",
       " 'demo003.ipynb',\n",
       " 'README.md',\n",
       " 'python_code.py',\n",
       " 'index.md',\n",
       " '_config.yml',\n",
       " 'project001.ipynb',\n",
       " '.ipynb_checkpoints',\n",
       " '.git',\n",
       " 'animals_hero_lizards.jpg']"
      ]
     },
     "execution_count": 2,
     "metadata": {},
     "output_type": "execute_result"
    }
   ],
   "source": [
    "os.listdir()"
   ]
  },
  {
   "cell_type": "code",
   "execution_count": 3,
   "metadata": {},
   "outputs": [
    {
     "data": {
      "text/plain": [
       "['demo002.ipynb',\n",
       " 'demo000.ipynb',\n",
       " 'demo004.py',\n",
       " 'demo001.ipynb',\n",
       " 'demo003.ipynb',\n",
       " 'README.md',\n",
       " 'python_code.py',\n",
       " 'index.md',\n",
       " '_config.yml',\n",
       " 'project001.ipynb',\n",
       " '.ipynb_checkpoints',\n",
       " '.git',\n",
       " 'animals_hero_lizards.jpg']"
      ]
     },
     "execution_count": 3,
     "metadata": {},
     "output_type": "execute_result"
    }
   ],
   "source": [
    "os.listdir()"
   ]
  },
  {
   "cell_type": "code",
   "execution_count": 24,
   "metadata": {},
   "outputs": [],
   "source": [
    "files = os.listdir()"
   ]
  },
  {
   "cell_type": "code",
   "execution_count": 8,
   "metadata": {},
   "outputs": [
    {
     "data": {
      "text/plain": [
       "['demo002.ipynb',\n",
       " 'demo000.ipynb',\n",
       " 'demo004.py',\n",
       " 'demo001.ipynb',\n",
       " 'demo003.ipynb',\n",
       " 'README.md',\n",
       " 'python_code.py',\n",
       " 'index.md',\n",
       " '_config.yml',\n",
       " 'project001.ipynb',\n",
       " '.ipynb_checkpoints',\n",
       " '.git',\n",
       " 'animals_hero_lizards.jpg']"
      ]
     },
     "execution_count": 8,
     "metadata": {},
     "output_type": "execute_result"
    }
   ],
   "source": [
    "files"
   ]
  },
  {
   "cell_type": "code",
   "execution_count": 9,
   "metadata": {},
   "outputs": [
    {
     "data": {
      "text/plain": [
       "13"
      ]
     },
     "execution_count": 9,
     "metadata": {},
     "output_type": "execute_result"
    }
   ],
   "source": [
    "len(files)"
   ]
  },
  {
   "cell_type": "code",
   "execution_count": 4,
   "metadata": {},
   "outputs": [
    {
     "data": {
      "text/plain": [
       "range(0, 10)"
      ]
     },
     "execution_count": 4,
     "metadata": {},
     "output_type": "execute_result"
    }
   ],
   "source": [
    "range(10)"
   ]
  },
  {
   "cell_type": "code",
   "execution_count": 5,
   "metadata": {},
   "outputs": [
    {
     "ename": "SyntaxError",
     "evalue": "unexpected EOF while parsing (<ipython-input-5-e61162350cc4>, line 1)",
     "output_type": "error",
     "traceback": [
      "\u001b[0;36m  File \u001b[0;32m\"<ipython-input-5-e61162350cc4>\"\u001b[0;36m, line \u001b[0;32m1\u001b[0m\n\u001b[0;31m    for i in range(10):\u001b[0m\n\u001b[0m                       ^\u001b[0m\n\u001b[0;31mSyntaxError\u001b[0m\u001b[0;31m:\u001b[0m unexpected EOF while parsing\n"
     ]
    }
   ],
   "source": [
    "for i in range(10):"
   ]
  },
  {
   "cell_type": "code",
   "execution_count": 6,
   "metadata": {},
   "outputs": [
    {
     "name": "stdout",
     "output_type": "stream",
     "text": [
      "0\n",
      "1\n",
      "2\n",
      "3\n",
      "4\n",
      "5\n",
      "6\n",
      "7\n",
      "8\n",
      "9\n"
     ]
    }
   ],
   "source": [
    "for i in range(10):\n",
    "    print(i)"
   ]
  },
  {
   "cell_type": "code",
   "execution_count": 10,
   "metadata": {},
   "outputs": [
    {
     "data": {
      "text/plain": [
       "'demo002.ipynb'"
      ]
     },
     "execution_count": 10,
     "metadata": {},
     "output_type": "execute_result"
    }
   ],
   "source": [
    "files[0]"
   ]
  },
  {
   "cell_type": "code",
   "execution_count": 11,
   "metadata": {},
   "outputs": [
    {
     "ename": "TypeError",
     "evalue": "'int' object is not iterable",
     "output_type": "error",
     "traceback": [
      "\u001b[0;31m---------------------------------------------------------------------------\u001b[0m",
      "\u001b[0;31mTypeError\u001b[0m                                 Traceback (most recent call last)",
      "\u001b[0;32m<ipython-input-11-232e21df73bb>\u001b[0m in \u001b[0;36m<module>\u001b[0;34m\u001b[0m\n\u001b[0;32m----> 1\u001b[0;31m \u001b[0;32mfor\u001b[0m \u001b[0mi\u001b[0m \u001b[0;32min\u001b[0m \u001b[0mlen\u001b[0m\u001b[0;34m(\u001b[0m\u001b[0mfiles\u001b[0m\u001b[0;34m)\u001b[0m\u001b[0;34m:\u001b[0m\u001b[0;34m\u001b[0m\u001b[0;34m\u001b[0m\u001b[0m\n\u001b[0m\u001b[1;32m      2\u001b[0m     \u001b[0mprint\u001b[0m\u001b[0;34m(\u001b[0m\u001b[0mi\u001b[0m\u001b[0;34m)\u001b[0m\u001b[0;34m\u001b[0m\u001b[0;34m\u001b[0m\u001b[0m\n",
      "\u001b[0;31mTypeError\u001b[0m: 'int' object is not iterable"
     ]
    }
   ],
   "source": [
    "for i in len(files):\n",
    "    print(i)"
   ]
  },
  {
   "cell_type": "code",
   "execution_count": 12,
   "metadata": {},
   "outputs": [
    {
     "name": "stdout",
     "output_type": "stream",
     "text": [
      "0\n",
      "1\n",
      "2\n",
      "3\n",
      "4\n",
      "5\n",
      "6\n",
      "7\n",
      "8\n",
      "9\n",
      "10\n",
      "11\n",
      "12\n"
     ]
    }
   ],
   "source": [
    "for i in range(len(files)):\n",
    "    print(i)"
   ]
  },
  {
   "cell_type": "code",
   "execution_count": 13,
   "metadata": {},
   "outputs": [
    {
     "name": "stdout",
     "output_type": "stream",
     "text": [
      "demo002.ipynb\n",
      "demo000.ipynb\n",
      "demo004.py\n",
      "demo001.ipynb\n",
      "demo003.ipynb\n",
      "README.md\n",
      "python_code.py\n",
      "index.md\n",
      "_config.yml\n",
      "project001.ipynb\n",
      ".ipynb_checkpoints\n",
      ".git\n",
      "animals_hero_lizards.jpg\n"
     ]
    }
   ],
   "source": [
    "for i in files:\n",
    "    print(i)"
   ]
  },
  {
   "cell_type": "code",
   "execution_count": 18,
   "metadata": {},
   "outputs": [
    {
     "name": "stdout",
     "output_type": "stream",
     "text": [
      "0demo002.ipynb\n",
      "0demo000.ipynb\n",
      "0demo004.py\n",
      "0demo001.ipynb\n",
      "0demo003.ipynb\n",
      "0README.md\n",
      "0python_code.py\n",
      "0index.md\n",
      "0_config.yml\n",
      "0project001.ipynb\n",
      "0.ipynb_checkpoints\n",
      "0.git\n",
      "0animals_hero_lizards.jpg\n"
     ]
    }
   ],
   "source": [
    "i = 0\n",
    "for files in files:\n",
    "    print (str(i+i) + files)"
   ]
  },
  {
   "cell_type": "code",
   "execution_count": 19,
   "metadata": {},
   "outputs": [
    {
     "name": "stdout",
     "output_type": "stream",
     "text": [
      "0a\n",
      "0n\n",
      "0i\n",
      "0m\n",
      "0a\n",
      "0l\n",
      "0s\n",
      "0_\n",
      "0h\n",
      "0e\n",
      "0r\n",
      "0o\n",
      "0_\n",
      "0l\n",
      "0i\n",
      "0z\n",
      "0a\n",
      "0r\n",
      "0d\n",
      "0s\n",
      "0.\n",
      "0j\n",
      "0p\n",
      "0g\n"
     ]
    }
   ],
   "source": [
    "i = 0\n",
    "for files in files:\n",
    "    print (str(i+i) + files)"
   ]
  },
  {
   "cell_type": "code",
   "execution_count": 20,
   "metadata": {},
   "outputs": [
    {
     "name": "stdout",
     "output_type": "stream",
     "text": [
      "1g\n"
     ]
    }
   ],
   "source": [
    "i = 0\n",
    "for files in files:\n",
    "    print (str(i+1) + files)"
   ]
  },
  {
   "cell_type": "code",
   "execution_count": 21,
   "metadata": {},
   "outputs": [
    {
     "name": "stdout",
     "output_type": "stream",
     "text": [
      "0g\n"
     ]
    }
   ],
   "source": [
    "i = 0\n",
    "for _ in files :\n",
    "    print (str(i+i) + files)"
   ]
  },
  {
   "cell_type": "code",
   "execution_count": 22,
   "metadata": {},
   "outputs": [],
   "source": [
    "i = 0\n",
    "for _ in files :\n",
    "    i = i + 1\n",
    "    if '.ipynb' in _ : \n",
    "        print (str(i) + files)"
   ]
  },
  {
   "cell_type": "code",
   "execution_count": 23,
   "metadata": {},
   "outputs": [],
   "source": [
    "i = 0\n",
    "for files in files :\n",
    "    i = i + 1\n",
    "    if '.ipynb' in files : \n",
    "        print (str(i) + files)"
   ]
  },
  {
   "cell_type": "code",
   "execution_count": 25,
   "metadata": {},
   "outputs": [],
   "source": [
    "files = os.listdir()"
   ]
  },
  {
   "cell_type": "code",
   "execution_count": 26,
   "metadata": {},
   "outputs": [
    {
     "data": {
      "text/plain": [
       "['demo002.ipynb',\n",
       " 'demo000.ipynb',\n",
       " 'demo004.py',\n",
       " 'demo001.ipynb',\n",
       " 'demo003.ipynb',\n",
       " 'README.md',\n",
       " 'python_code.py',\n",
       " 'index.md',\n",
       " '_config.yml',\n",
       " 'project001.ipynb',\n",
       " '.ipynb_checkpoints',\n",
       " '.git',\n",
       " 'animals_hero_lizards.jpg']"
      ]
     },
     "execution_count": 26,
     "metadata": {},
     "output_type": "execute_result"
    }
   ],
   "source": [
    "files\n"
   ]
  },
  {
   "cell_type": "code",
   "execution_count": 28,
   "metadata": {},
   "outputs": [],
   "source": [
    "i = 0\n",
    "j = 0\n",
    "for files in files :\n",
    "    i = i + 1\n",
    "    if '.ipynb' in files : \n",
    "        j = j + 1\n",
    "        print (str(i) + files)"
   ]
  },
  {
   "cell_type": "code",
   "execution_count": 32,
   "metadata": {},
   "outputs": [],
   "source": [
    "i = 0\n",
    "for files in files :\n",
    "    if '.ipynb' in files : \n",
    "        print (str(i+1) + files)\n",
    "        i = i + 1"
   ]
  },
  {
   "cell_type": "code",
   "execution_count": 33,
   "metadata": {},
   "outputs": [],
   "source": [
    "files = os.listdir()\n"
   ]
  },
  {
   "cell_type": "code",
   "execution_count": 34,
   "metadata": {},
   "outputs": [
    {
     "name": "stdout",
     "output_type": "stream",
     "text": [
      "1demo002.ipynb\n",
      "2demo000.ipynb\n",
      "3demo001.ipynb\n",
      "4demo003.ipynb\n",
      "5project001.ipynb\n",
      "6.ipynb_checkpoints\n"
     ]
    }
   ],
   "source": [
    "i = 0\n",
    "for files in files :\n",
    "    if '.ipynb' in files : \n",
    "        print (str(i+1) + files)\n",
    "        i = i + 1"
   ]
  },
  {
   "cell_type": "code",
   "execution_count": 35,
   "metadata": {},
   "outputs": [],
   "source": [
    "i = 0\n",
    "for files in files :\n",
    "    if '.ipynb' in files : \n",
    "        print (str(i+1) + files)\n",
    "        i = i + 1"
   ]
  },
  {
   "cell_type": "code",
   "execution_count": 36,
   "metadata": {},
   "outputs": [],
   "source": [
    "i = 0\n",
    "for files in files :\n",
    "    if '.ipynb' in files : \n",
    "        print (str(i+1) + files)\n",
    "        i = i + 1"
   ]
  },
  {
   "cell_type": "code",
   "execution_count": 41,
   "metadata": {},
   "outputs": [],
   "source": [
    "files = os.listdir()"
   ]
  },
  {
   "cell_type": "code",
   "execution_count": 42,
   "metadata": {},
   "outputs": [
    {
     "name": "stdout",
     "output_type": "stream",
     "text": [
      "1demo002.ipynb\n",
      "2demo000.ipynb\n",
      "3demo001.ipynb\n",
      "4demo003.ipynb\n",
      "5project001.ipynb\n",
      "6.ipynb_checkpoints\n"
     ]
    }
   ],
   "source": [
    "i = 0\n",
    "for files in files :\n",
    "    if '.ipynb' in files : \n",
    "        print (str(i+1) + files)\n",
    "        i = i + 1"
   ]
  },
  {
   "cell_type": "code",
   "execution_count": 43,
   "metadata": {},
   "outputs": [],
   "source": [
    "i = 0\n",
    "for files in files :\n",
    "    if '.ipynb' in files : \n",
    "        print (str(i+1) + files)\n",
    "        i = i + 1"
   ]
  },
  {
   "cell_type": "code",
   "execution_count": 44,
   "metadata": {},
   "outputs": [],
   "source": [
    "files = os.listdir()"
   ]
  },
  {
   "cell_type": "code",
   "execution_count": 48,
   "metadata": {},
   "outputs": [],
   "source": [
    "i = 0\n",
    "for file in files :\n",
    "    if '.ipynb' in files : \n",
    "        print (str(i+1) + files)\n",
    "        i = i + 1"
   ]
  },
  {
   "cell_type": "code",
   "execution_count": 46,
   "metadata": {},
   "outputs": [
    {
     "data": {
      "text/plain": [
       "'animals_hero_lizards.jpg'"
      ]
     },
     "execution_count": 46,
     "metadata": {},
     "output_type": "execute_result"
    }
   ],
   "source": [
    "files\n"
   ]
  },
  {
   "cell_type": "code",
   "execution_count": 47,
   "metadata": {},
   "outputs": [
    {
     "data": {
      "text/plain": [
       "'animals_hero_lizards.jpg'"
      ]
     },
     "execution_count": 47,
     "metadata": {},
     "output_type": "execute_result"
    }
   ],
   "source": [
    "files"
   ]
  },
  {
   "cell_type": "code",
   "execution_count": 49,
   "metadata": {},
   "outputs": [],
   "source": [
    "files = os.listdir()\n"
   ]
  },
  {
   "cell_type": "code",
   "execution_count": 52,
   "metadata": {},
   "outputs": [
    {
     "name": "stdout",
     "output_type": "stream",
     "text": [
      "1demo002.ipynb\n",
      "2demo000.ipynb\n",
      "3demo001.ipynb\n",
      "4demo003.ipynb\n",
      "5project001.ipynb\n",
      "6.ipynb_checkpoints\n"
     ]
    }
   ],
   "source": [
    "i = 0\n",
    "for a in files :\n",
    "    if '.ipynb' in a : \n",
    "        print (str(i+1) + a)\n",
    "        i = i + 1"
   ]
  },
  {
   "cell_type": "code",
   "execution_count": 53,
   "metadata": {},
   "outputs": [
    {
     "data": {
      "text/plain": [
       "['demo002.ipynb',\n",
       " 'demo000.ipynb',\n",
       " 'demo004.py',\n",
       " 'demo001.ipynb',\n",
       " 'demo003.ipynb',\n",
       " 'README.md',\n",
       " 'python_code.py',\n",
       " 'index.md',\n",
       " '_config.yml',\n",
       " 'project001.ipynb',\n",
       " '.ipynb_checkpoints',\n",
       " '.git',\n",
       " 'animals_hero_lizards.jpg']"
      ]
     },
     "execution_count": 53,
     "metadata": {},
     "output_type": "execute_result"
    }
   ],
   "source": [
    "files\n"
   ]
  },
  {
   "cell_type": "code",
   "execution_count": 54,
   "metadata": {},
   "outputs": [
    {
     "name": "stdout",
     "output_type": "stream",
     "text": [
      "1demo002.ipynb\n",
      "2demo000.ipynb\n",
      "3demo001.ipynb\n",
      "4demo003.ipynb\n",
      "5project001.ipynb\n",
      "6.ipynb_checkpoints\n",
      "6\n"
     ]
    }
   ],
   "source": [
    "i = 0\n",
    "for a in files :\n",
    "    if '.ipynb' in a : \n",
    "        print (str(i+1) + a)\n",
    "        i = i + 1\n",
    "print(i)"
   ]
  },
  {
   "cell_type": "code",
   "execution_count": 1,
   "metadata": {},
   "outputs": [
    {
     "name": "stdout",
     "output_type": "stream",
     "text": [
      "I am Thomas\n"
     ]
    }
   ],
   "source": [
    "print(\"I am Thomas\")"
   ]
  },
  {
   "cell_type": "code",
   "execution_count": null,
   "metadata": {},
   "outputs": [],
   "source": []
  }
 ],
 "metadata": {
  "kernelspec": {
   "display_name": "Python 3",
   "language": "python",
   "name": "python3"
  },
  "language_info": {
   "codemirror_mode": {
    "name": "ipython",
    "version": 3
   },
   "file_extension": ".py",
   "mimetype": "text/x-python",
   "name": "python",
   "nbconvert_exporter": "python",
   "pygments_lexer": "ipython3",
   "version": "3.7.0"
  }
 },
 "nbformat": 4,
 "nbformat_minor": 2
}
