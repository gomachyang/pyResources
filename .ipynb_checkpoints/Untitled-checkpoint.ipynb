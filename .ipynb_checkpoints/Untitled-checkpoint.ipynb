{
 "cells": [
  {
   "cell_type": "code",
   "execution_count": 1,
   "metadata": {},
   "outputs": [
    {
     "name": "stdout",
     "output_type": "stream",
     "text": [
      "Overwriting 20190402_python101_note.md\n"
     ]
    }
   ],
   "source": [
    "%%writefile 20190402_python101_note.md\n",
    "\n",
    "1.%load - load file but not exe\n",
    "\n",
    "2.%run - load and exe\n",
    "\n",
    "3.%%writefile file.py - can create a file\n",
    "\n",
    "4.if + elif + else\n",
    "\n",
    "5.if 可以單獨存在 可以不用寫 else\n",
    "\n",
    "6.\n",
    "if a :\n",
    "    print(a)\n",
    "elif b :\n",
    "    print(b)\n",
    "elif c :\n",
    "    print(c)\n",
    "else :\n",
    "    print(d)\n",
    "\n",
    "可用於搜尋檔案時，有出現結果就 print 東西出來。\n",
    "\n",
    "7.\n",
    "my_list = ['a', 'star', 6, 7.9, True, False]\n",
    "my_questions = ['Q1', 'Q2', 'Q3', 'Q4', 'Q5']\n",
    "my_questions[0]\n",
    "my_questions[0:5]\n",
    "my_questions[:]\n",
    "my_questions[::2]\n",
    "len(my_questions)\n",
    "my_questions.append('Q6') 增加list內容\n",
    "my_questions.remove('Q2') 刪除list內容\n",
    "my_questions.insert(0, 'str') 增加list內容，可指定位置。\n",
    "\n",
    "8.\n",
    "for loop 可以有不同寫法，解決同樣的事情。\n",
    "\n",
    "9.\n",
    "創造一個資料夾，內含一堆excel檔，列出所有的excel檔，並同時列出所有檔案的檔名長度。\n",
    "\n",
    "10.\n",
    "字串和list有某種程度的相似，可以用類似手法取得其內的資訊。但沒有全部的功能都相同，例如不能新增或刪除字串內的元素。\n"
   ]
  },
  {
   "cell_type": "code",
   "execution_count": null,
   "metadata": {},
   "outputs": [],
   "source": []
  }
 ],
 "metadata": {
  "kernelspec": {
   "display_name": "Python 3",
   "language": "python",
   "name": "python3"
  },
  "language_info": {
   "codemirror_mode": {
    "name": "ipython",
    "version": 3
   },
   "file_extension": ".py",
   "mimetype": "text/x-python",
   "name": "python",
   "nbconvert_exporter": "python",
   "pygments_lexer": "ipython3",
   "version": "3.7.1"
  }
 },
 "nbformat": 4,
 "nbformat_minor": 2
}
