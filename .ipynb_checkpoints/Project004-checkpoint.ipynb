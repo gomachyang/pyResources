{
 "cells": [
  {
   "cell_type": "code",
   "execution_count": 1,
   "metadata": {},
   "outputs": [],
   "source": [
    "# read file content\n",
    "# search file path"
   ]
  },
  {
   "cell_type": "code",
   "execution_count": null,
   "metadata": {},
   "outputs": [],
   "source": [
    "# path\n",
    "# relative path \n",
    "# absolute path"
   ]
  },
  {
   "cell_type": "code",
   "execution_count": 2,
   "metadata": {},
   "outputs": [],
   "source": [
    "file_path = '/Users/diploderma/Documents/GitHub/pyResources'"
   ]
  },
  {
   "cell_type": "code",
   "execution_count": 3,
   "metadata": {},
   "outputs": [],
   "source": [
    "import os"
   ]
  },
  {
   "cell_type": "code",
   "execution_count": 4,
   "metadata": {},
   "outputs": [
    {
     "data": {
      "text/plain": [
       "['Notes_001.ipynb',\n",
       " '.DS_Store',\n",
       " '20190430_python101_note.md',\n",
       " 'python101_0326.md',\n",
       " '20190507.ipynb',\n",
       " '__pycache__',\n",
       " 'my_python.py',\n",
       " 'README.md',\n",
       " 'python101_demo_data',\n",
       " 'python_code.py',\n",
       " 'simpleCal.py',\n",
       " 'index.md',\n",
       " 'Momemto.ipynb',\n",
       " '_config.yml',\n",
       " 'Project001.ipynb',\n",
       " 'Project003.ipynb',\n",
       " '.ipynb_checkpoints',\n",
       " 'Project004.ipynb',\n",
       " '.git',\n",
       " 'Project002.ipynb']"
      ]
     },
     "execution_count": 4,
     "metadata": {},
     "output_type": "execute_result"
    }
   ],
   "source": [
    "os.listdir(file_path)"
   ]
  },
  {
   "cell_type": "code",
   "execution_count": 5,
   "metadata": {},
   "outputs": [
    {
     "name": "stdout",
     "output_type": "stream",
     "text": [
      "Notes_001.ipynb\n",
      "20190507.ipynb\n",
      "Momemto.ipynb\n",
      "Project001.ipynb\n",
      "Project003.ipynb\n",
      "Project004.ipynb\n",
      "Project002.ipynb\n"
     ]
    }
   ],
   "source": [
    "for file in os.listdir(file_path) :\n",
    "    if file.endswith('ipynb') :\n",
    "        print(file)"
   ]
  },
  {
   "cell_type": "code",
   "execution_count": 11,
   "metadata": {},
   "outputs": [
    {
     "name": "stdout",
     "output_type": "stream",
     "text": [
      "Notes_001.ipynb\n",
      "20190507.ipynb\n",
      "Momemto.ipynb\n",
      "Project001.ipynb\n",
      "Project003.ipynb\n",
      "Project004.ipynb\n",
      "Project002.ipynb\n",
      "Project003-checkpoint.ipynb\n",
      "Project002-checkpoint.ipynb\n",
      "Momemto-checkpoint.ipynb\n",
      "20190507-checkpoint.ipynb\n",
      "Project001-checkpoint.ipynb\n",
      "Project004-checkpoint.ipynb\n",
      "Notes_001-checkpoint.ipynb\n"
     ]
    }
   ],
   "source": [
    "for root, subdirs, files in os.walk(file_path) :\n",
    "    for file in files :\n",
    "        if file.endswith('ipynb') :\n",
    "            print(file)\n",
    "# 用walk把所有底下的subdir內的檔案找出來"
   ]
  },
  {
   "cell_type": "code",
   "execution_count": 10,
   "metadata": {},
   "outputs": [
    {
     "name": "stdout",
     "output_type": "stream",
     "text": [
      "/Users/diploderma/Documents/GitHub/pyResources/Notes_001.ipynb\n",
      "/Users/diploderma/Documents/GitHub/pyResources/20190507.ipynb\n",
      "/Users/diploderma/Documents/GitHub/pyResources/Momemto.ipynb\n",
      "/Users/diploderma/Documents/GitHub/pyResources/Project001.ipynb\n",
      "/Users/diploderma/Documents/GitHub/pyResources/Project003.ipynb\n",
      "/Users/diploderma/Documents/GitHub/pyResources/Project004.ipynb\n",
      "/Users/diploderma/Documents/GitHub/pyResources/Project002.ipynb\n",
      "/Users/diploderma/Documents/GitHub/pyResources/.ipynb_checkpoints/Project003-checkpoint.ipynb\n",
      "/Users/diploderma/Documents/GitHub/pyResources/.ipynb_checkpoints/Project002-checkpoint.ipynb\n",
      "/Users/diploderma/Documents/GitHub/pyResources/.ipynb_checkpoints/Momemto-checkpoint.ipynb\n",
      "/Users/diploderma/Documents/GitHub/pyResources/.ipynb_checkpoints/20190507-checkpoint.ipynb\n",
      "/Users/diploderma/Documents/GitHub/pyResources/.ipynb_checkpoints/Project001-checkpoint.ipynb\n",
      "/Users/diploderma/Documents/GitHub/pyResources/.ipynb_checkpoints/Project004-checkpoint.ipynb\n",
      "/Users/diploderma/Documents/GitHub/pyResources/.ipynb_checkpoints/Notes_001-checkpoint.ipynb\n"
     ]
    }
   ],
   "source": [
    "for root, subdirs, files in os.walk(file_path) :\n",
    "    for file in files :\n",
    "        if file.endswith('ipynb') :\n",
    "            print(os.path.join(root, file))\n",
    "# path.join是把路徑和你要的東西合併"
   ]
  },
  {
   "cell_type": "code",
   "execution_count": 27,
   "metadata": {},
   "outputs": [
    {
     "name": "stdout",
     "output_type": "stream",
     "text": [
      "Notes_001.ipynb\n",
      " ['{', ' \"cells\": [', '  {', '   \"cell_type\": \"code\",', '   \"execution_count\": 1,']\n",
      "20190507.ipynb\n",
      " ['{', ' \"cells\": [', '  {', '   \"cell_type\": \"code\",', '   \"execution_count\": 3,']\n",
      "Momemto.ipynb\n",
      " ['{', ' \"cells\": [', '  {', '   \"cell_type\": \"code\",', '   \"execution_count\": 2,']\n",
      "Project001.ipynb\n",
      " ['{', ' \"cells\": [', '  {', '   \"cell_type\": \"code\",', '   \"execution_count\": null,']\n",
      "Project003.ipynb\n",
      " ['{', ' \"cells\": [', '  {', '   \"cell_type\": \"code\",', '   \"execution_count\": 1,']\n",
      "Project004.ipynb\n",
      " ['{', ' \"cells\": [', '  {', '   \"cell_type\": \"code\",', '   \"execution_count\": 1,']\n",
      "Project002.ipynb\n",
      " ['{', ' \"cells\": [', '  {', '   \"cell_type\": \"code\",', '   \"execution_count\": 1,']\n",
      "Project003-checkpoint.ipynb\n",
      " ['{', ' \"cells\": [', '  {', '   \"cell_type\": \"code\",', '   \"execution_count\": 1,']\n",
      "Project002-checkpoint.ipynb\n",
      " ['{', ' \"cells\": [', '  {', '   \"cell_type\": \"code\",', '   \"execution_count\": 1,']\n",
      "Momemto-checkpoint.ipynb\n",
      " ['{', ' \"cells\": [', '  {', '   \"cell_type\": \"code\",', '   \"execution_count\": 2,']\n",
      "20190507-checkpoint.ipynb\n",
      " ['{', ' \"cells\": [', '  {', '   \"cell_type\": \"code\",', '   \"execution_count\": 3,']\n",
      "Project001-checkpoint.ipynb\n",
      " ['{', ' \"cells\": [', '  {', '   \"cell_type\": \"code\",', '   \"execution_count\": null,']\n",
      "Project004-checkpoint.ipynb\n",
      " ['{', ' \"cells\": [],', ' \"metadata\": {},', ' \"nbformat\": 4,', ' \"nbformat_minor\": 2']\n",
      "Notes_001-checkpoint.ipynb\n",
      " ['{', ' \"cells\": [', '  {', '   \"cell_type\": \"code\",', '   \"execution_count\": 1,']\n"
     ]
    }
   ],
   "source": [
    "for root, subdirs, files in os.walk(file_path) :\n",
    "    for file in files :\n",
    "        if file.endswith('ipynb') :\n",
    "            with open(os.path.join(root, file)) as rf :\n",
    "                print(file + '\\n', rf.read().splitlines()[0:5])\n",
    "# path.join是把路徑和你要的東西合併"
   ]
  },
  {
   "cell_type": "code",
   "execution_count": 22,
   "metadata": {},
   "outputs": [],
   "source": [
    "data_path = '/Users/diploderma/Documents/GitHub/pyResources/python101_demo_data/data_wo_subdir/Proton_A_878_20190305_IonXpress_072.stats.cov.txt'"
   ]
  },
  {
   "cell_type": "code",
   "execution_count": 23,
   "metadata": {},
   "outputs": [],
   "source": [
    "open_data = open(data_path, 'r')\n",
    "content = open_data.readlines()\n",
    "open_data.close()"
   ]
  },
  {
   "cell_type": "code",
   "execution_count": 24,
   "metadata": {},
   "outputs": [
    {
     "data": {
      "text/plain": [
       "['Coverage Analysis Report\\n',\n",
       " '\\n',\n",
       " 'Sample Name: F00371_D1\\n',\n",
       " 'Reference Genome: hg19\\n',\n",
       " 'Target Regions: Onco2M7_Designed_20180402\\n',\n",
       " 'Alignments: IonXpress_072_Auto_ICA_20190304_2_act-genomics-proton-a-server_1929\\n',\n",
       " 'bbctools version: 1.301\\n',\n",
       " '\\n',\n",
       " 'Number of mapped reads:         37068274\\n',\n",
       " 'Percent reads on target:        97.70%\\n',\n",
       " '\\n',\n",
       " 'Number of amplicons:                18431\\n',\n",
       " 'Total assigned amplicon reads:      36215798\\n',\n",
       " 'Percent assigned amplicon reads:    97.70%\\n',\n",
       " 'Average reads per amplicon:         1965\\n',\n",
       " 'Uniformity of amplicon coverage:    91.35%\\n',\n",
       " 'Amplicons with at least 1 read: 99.65%\\n',\n",
       " 'Amplicons with at least 1 reads:    99.65%\\n',\n",
       " 'Amplicons with at least 10 reads:   99.10%\\n',\n",
       " 'Amplicons with at least 20 reads:   98.87%\\n',\n",
       " 'Amplicons with at least 50 reads:   98.09%\\n',\n",
       " 'Amplicons with at least 100 reads:  96.67%\\n',\n",
       " 'Amplicons with at least 200 reads:  94.48%\\n',\n",
       " 'Amplicons with at least 500 reads:  89.82%\\n',\n",
       " 'Amplicons with at least 1000 reads: 80.47%\\n',\n",
       " 'Amplicons with at least 2000 reads: 43.51%\\n',\n",
       " 'Amplicons with no strand bias:      96.55%\\n',\n",
       " 'Amplicons reading end-to-end:       94.99%\\n',\n",
       " 'Amplicon base composition bias:     2.045\\n',\n",
       " '\\n',\n",
       " 'Total aligned base reads:          4159401372\\n',\n",
       " 'Total base reads on target:        3948755243\\n',\n",
       " 'Bases in target regions:           1848322\\n',\n",
       " 'Percent base reads on target:      94.94%\\n',\n",
       " 'Average base coverage depth:       2136\\n',\n",
       " 'Uniformity of base coverage:       91.78%\\n',\n",
       " 'Target base coverage at 1x:        99.77%\\n',\n",
       " 'Target base coverage at 1x:        99.77%\\n',\n",
       " 'Target base coverage at 10x:       99.36%\\n',\n",
       " 'Target base coverage at 20x:       99.14%\\n',\n",
       " 'Target base coverage at 50x:       98.35%\\n',\n",
       " 'Target base coverage at 100x:      97.06%\\n',\n",
       " 'Target base coverage at 200x:      95.12%\\n',\n",
       " 'Target base coverage at 500x:      90.77%\\n',\n",
       " 'Target base coverage at 1000x:     81.30%\\n',\n",
       " 'Target base coverage at 2000x:     45.92%\\n',\n",
       " 'Target bases with no strand bias:  96.04%\\n',\n",
       " 'Percent end-to-end reads:          91.86%\\n']"
      ]
     },
     "execution_count": 24,
     "metadata": {},
     "output_type": "execute_result"
    }
   ],
   "source": [
    "content"
   ]
  },
  {
   "cell_type": "code",
   "execution_count": 25,
   "metadata": {},
   "outputs": [],
   "source": [
    "# read content lines without \"\\n\"\n",
    "open_data = open(data_path, 'r')\n",
    "content = open_data.read().splitlines()\n",
    "open_data.close()"
   ]
  },
  {
   "cell_type": "code",
   "execution_count": 26,
   "metadata": {},
   "outputs": [
    {
     "data": {
      "text/plain": [
       "['Coverage Analysis Report',\n",
       " '',\n",
       " 'Sample Name: F00371_D1',\n",
       " 'Reference Genome: hg19',\n",
       " 'Target Regions: Onco2M7_Designed_20180402',\n",
       " 'Alignments: IonXpress_072_Auto_ICA_20190304_2_act-genomics-proton-a-server_1929',\n",
       " 'bbctools version: 1.301',\n",
       " '',\n",
       " 'Number of mapped reads:         37068274',\n",
       " 'Percent reads on target:        97.70%',\n",
       " '',\n",
       " 'Number of amplicons:                18431',\n",
       " 'Total assigned amplicon reads:      36215798',\n",
       " 'Percent assigned amplicon reads:    97.70%',\n",
       " 'Average reads per amplicon:         1965',\n",
       " 'Uniformity of amplicon coverage:    91.35%',\n",
       " 'Amplicons with at least 1 read: 99.65%',\n",
       " 'Amplicons with at least 1 reads:    99.65%',\n",
       " 'Amplicons with at least 10 reads:   99.10%',\n",
       " 'Amplicons with at least 20 reads:   98.87%',\n",
       " 'Amplicons with at least 50 reads:   98.09%',\n",
       " 'Amplicons with at least 100 reads:  96.67%',\n",
       " 'Amplicons with at least 200 reads:  94.48%',\n",
       " 'Amplicons with at least 500 reads:  89.82%',\n",
       " 'Amplicons with at least 1000 reads: 80.47%',\n",
       " 'Amplicons with at least 2000 reads: 43.51%',\n",
       " 'Amplicons with no strand bias:      96.55%',\n",
       " 'Amplicons reading end-to-end:       94.99%',\n",
       " 'Amplicon base composition bias:     2.045',\n",
       " '',\n",
       " 'Total aligned base reads:          4159401372',\n",
       " 'Total base reads on target:        3948755243',\n",
       " 'Bases in target regions:           1848322',\n",
       " 'Percent base reads on target:      94.94%',\n",
       " 'Average base coverage depth:       2136',\n",
       " 'Uniformity of base coverage:       91.78%',\n",
       " 'Target base coverage at 1x:        99.77%',\n",
       " 'Target base coverage at 1x:        99.77%',\n",
       " 'Target base coverage at 10x:       99.36%',\n",
       " 'Target base coverage at 20x:       99.14%',\n",
       " 'Target base coverage at 50x:       98.35%',\n",
       " 'Target base coverage at 100x:      97.06%',\n",
       " 'Target base coverage at 200x:      95.12%',\n",
       " 'Target base coverage at 500x:      90.77%',\n",
       " 'Target base coverage at 1000x:     81.30%',\n",
       " 'Target base coverage at 2000x:     45.92%',\n",
       " 'Target bases with no strand bias:  96.04%',\n",
       " 'Percent end-to-end reads:          91.86%']"
      ]
     },
     "execution_count": 26,
     "metadata": {},
     "output_type": "execute_result"
    }
   ],
   "source": [
    "content"
   ]
  },
  {
   "cell_type": "code",
   "execution_count": 38,
   "metadata": {},
   "outputs": [
    {
     "name": "stdout",
     "output_type": "stream",
     "text": [
      "['Target base coverage at 500x:      82.55%', 'Target base coverage at 1000x:     54.98%', 'Target base coverage at 2000x:     14.43%', 'Target bases with no strand bias:  97.82%', 'Percent end-to-end reads:          92.27%']\n",
      "['Target base coverage at 500x:      82.94%', 'Target base coverage at 1000x:     58.12%', 'Target base coverage at 2000x:     21.00%', 'Target bases with no strand bias:  97.07%', 'Percent end-to-end reads:          92.50%']\n",
      "['Target base coverage at 500x:      85.92%', 'Target base coverage at 1000x:     63.67%', 'Target base coverage at 2000x:     23.58%', 'Target bases with no strand bias:  97.65%', 'Percent end-to-end reads:          92.53%']\n",
      "['Target base coverage at 500x:      70.84%', 'Target base coverage at 1000x:     27.87%', 'Target base coverage at 2000x:     3.98%', 'Target bases with no strand bias:  97.87%', 'Percent end-to-end reads:          92.84%']\n",
      "['Target base coverage at 500x:      89.02%', 'Target base coverage at 1000x:     79.52%', 'Target base coverage at 2000x:     47.33%', 'Target bases with no strand bias:  97.34%', 'Percent end-to-end reads:          92.53%']\n",
      "['Target base coverage at 500x:      98.95%', 'Target base coverage at 1000x:     98.55%', 'Target base coverage at 2000x:     95.56%', 'Target bases with no strand bias:  97.11%', 'Percent end-to-end reads:          89.12%']\n",
      "['Target base coverage at 500x:      90.77%', 'Target base coverage at 1000x:     81.30%', 'Target base coverage at 2000x:     45.92%', 'Target bases with no strand bias:  96.04%', 'Percent end-to-end reads:          91.86%']\n",
      "['Target base coverage at 500x:      98.11%', 'Target base coverage at 1000x:     92.73%', 'Target base coverage at 2000x:     75.07%', 'Target bases with no strand bias:  99.14%', 'Percent end-to-end reads:          90.71%']\n",
      "['Target base coverage at 500x:      0.00%', 'Target base coverage at 1000x:     0.00%', 'Target base coverage at 2000x:     0.00%', 'Target bases with no strand bias:  99.86%', 'Percent end-to-end reads:          2.17%']\n",
      "['Target base coverage at 500x:      95.93%', 'Target base coverage at 1000x:     87.65%', 'Target base coverage at 2000x:     54.74%', 'Target bases with no strand bias:  93.99%', 'Percent end-to-end reads:          76.23%']\n",
      "['Target base coverage at 500x:      63.98%', 'Target base coverage at 1000x:     22.29%', 'Target base coverage at 2000x:     2.88%', 'Target bases with no strand bias:  97.49%', 'Percent end-to-end reads:          92.42%']\n",
      "['Target base coverage at 500x:      100.00%', 'Target base coverage at 1000x:     100.00%', 'Target base coverage at 2000x:     100.00%', 'Target bases with no strand bias:  100.00%', 'Percent end-to-end reads:          91.84%']\n",
      "['Target base coverage at 500x:      89.12%', 'Target base coverage at 1000x:     66.14%', 'Target base coverage at 2000x:     22.00%', 'Target bases with no strand bias:  98.16%', 'Percent end-to-end reads:          92.94%']\n",
      "['Target base coverage at 500x:      86.66%', 'Target base coverage at 1000x:     55.85%', 'Target base coverage at 2000x:     14.06%', 'Target bases with no strand bias:  98.08%', 'Percent end-to-end reads:          92.97%']\n",
      "['Target base coverage at 500x:      87.05%', 'Target base coverage at 1000x:     65.10%', 'Target base coverage at 2000x:     24.75%', 'Target bases with no strand bias:  97.81%', 'Percent end-to-end reads:          92.31%']\n"
     ]
    }
   ],
   "source": [
    "for root, subdirs, files in os.walk('/Users/diploderma/Documents/GitHub/pyResources/python101_demo_data/data_wo_subdir') :\n",
    "    for file in files :\n",
    "        if file.endswith('txt') :\n",
    "            with open(os.path.join(root, file)) as rf :\n",
    "                print(rf.read().splitlines()[-5:])\n",
    "# 所有txt檔案的最後五行印出來"
   ]
  },
  {
   "cell_type": "code",
   "execution_count": 41,
   "metadata": {},
   "outputs": [
    {
     "name": "stdout",
     "output_type": "stream",
     "text": [
      "['Target base coverage at 500x:      82.55%', 'Target base coverage at 1000x:     54.98%', 'Target base coverage at 2000x:     14.43%', 'Target bases with no strand bias:  97.82%', 'Percent end-to-end reads:          92.27%']\n",
      "['Target base coverage at 500x:      82.94%', 'Target base coverage at 1000x:     58.12%', 'Target base coverage at 2000x:     21.00%', 'Target bases with no strand bias:  97.07%', 'Percent end-to-end reads:          92.50%']\n",
      "['Target base coverage at 500x:      85.92%', 'Target base coverage at 1000x:     63.67%', 'Target base coverage at 2000x:     23.58%', 'Target bases with no strand bias:  97.65%', 'Percent end-to-end reads:          92.53%']\n",
      "['Target base coverage at 500x:      70.84%', 'Target base coverage at 1000x:     27.87%', 'Target base coverage at 2000x:     3.98%', 'Target bases with no strand bias:  97.87%', 'Percent end-to-end reads:          92.84%']\n",
      "['Target base coverage at 500x:      89.02%', 'Target base coverage at 1000x:     79.52%', 'Target base coverage at 2000x:     47.33%', 'Target bases with no strand bias:  97.34%', 'Percent end-to-end reads:          92.53%']\n",
      "['Target base coverage at 500x:      98.95%', 'Target base coverage at 1000x:     98.55%', 'Target base coverage at 2000x:     95.56%', 'Target bases with no strand bias:  97.11%', 'Percent end-to-end reads:          89.12%']\n",
      "['Target base coverage at 500x:      90.77%', 'Target base coverage at 1000x:     81.30%', 'Target base coverage at 2000x:     45.92%', 'Target bases with no strand bias:  96.04%', 'Percent end-to-end reads:          91.86%']\n",
      "['Target base coverage at 500x:      98.11%', 'Target base coverage at 1000x:     92.73%', 'Target base coverage at 2000x:     75.07%', 'Target bases with no strand bias:  99.14%', 'Percent end-to-end reads:          90.71%']\n",
      "['Target base coverage at 500x:      0.00%', 'Target base coverage at 1000x:     0.00%', 'Target base coverage at 2000x:     0.00%', 'Target bases with no strand bias:  99.86%', 'Percent end-to-end reads:          2.17%']\n",
      "['Target base coverage at 500x:      95.93%', 'Target base coverage at 1000x:     87.65%', 'Target base coverage at 2000x:     54.74%', 'Target bases with no strand bias:  93.99%', 'Percent end-to-end reads:          76.23%']\n",
      "['Target base coverage at 500x:      63.98%', 'Target base coverage at 1000x:     22.29%', 'Target base coverage at 2000x:     2.88%', 'Target bases with no strand bias:  97.49%', 'Percent end-to-end reads:          92.42%']\n",
      "['Target base coverage at 500x:      100.00%', 'Target base coverage at 1000x:     100.00%', 'Target base coverage at 2000x:     100.00%', 'Target bases with no strand bias:  100.00%', 'Percent end-to-end reads:          91.84%']\n",
      "['Target base coverage at 500x:      89.12%', 'Target base coverage at 1000x:     66.14%', 'Target base coverage at 2000x:     22.00%', 'Target bases with no strand bias:  98.16%', 'Percent end-to-end reads:          92.94%']\n",
      "['Target base coverage at 500x:      86.66%', 'Target base coverage at 1000x:     55.85%', 'Target base coverage at 2000x:     14.06%', 'Target bases with no strand bias:  98.08%', 'Percent end-to-end reads:          92.97%']\n",
      "['Target base coverage at 500x:      87.05%', 'Target base coverage at 1000x:     65.10%', 'Target base coverage at 2000x:     24.75%', 'Target bases with no strand bias:  97.81%', 'Percent end-to-end reads:          92.31%']\n"
     ]
    }
   ],
   "source": [
    "for file in os.listdir('/Users/diploderma/Documents/GitHub/pyResources/python101_demo_data/data_wo_subdir') :\n",
    "    if file.endswith('txt') :\n",
    "        with open(os.path.join(root, file)) as rf :\n",
    "            print(rf.read().splitlines()[-5:])\n",
    "# 所有txt檔案的最後五行印出來，不使用os.walk"
   ]
  },
  {
   "cell_type": "code",
   "execution_count": 34,
   "metadata": {},
   "outputs": [],
   "source": [
    "list_a = ['a', 'b', 'c']"
   ]
  },
  {
   "cell_type": "code",
   "execution_count": 36,
   "metadata": {},
   "outputs": [
    {
     "name": "stdout",
     "output_type": "stream",
     "text": [
      "None\n"
     ]
    }
   ],
   "source": [
    "print(list_a.reverse())"
   ]
  },
  {
   "cell_type": "code",
   "execution_count": 42,
   "metadata": {},
   "outputs": [
    {
     "name": "stdout",
     "output_type": "stream",
     "text": [
      "['Average reads per amplicon:         1100', 'Uniformity of amplicon coverage:    93.19%', 'Amplicons with at least 1 read: 99.83%', 'Amplicons with at least 1 reads:    99.83%', 'Amplicons with at least 10 reads:   99.16%', 'Amplicons with at least 20 reads:   98.84%', 'Amplicons with at least 50 reads:   97.81%', 'Amplicons with at least 100 reads:  96.66%', 'Amplicons with at least 200 reads:  93.93%', 'Amplicons with at least 500 reads:  80.06%', 'Amplicons with at least 1000 reads: 50.31%']\n",
      "['Average reads per amplicon:         1239', 'Uniformity of amplicon coverage:    91.95%', 'Amplicons with at least 1 read: 99.83%', 'Amplicons with at least 1 reads:    99.83%', 'Amplicons with at least 10 reads:   99.14%', 'Amplicons with at least 20 reads:   98.74%', 'Amplicons with at least 50 reads:   97.80%', 'Amplicons with at least 100 reads:  96.60%', 'Amplicons with at least 200 reads:  93.65%', 'Amplicons with at least 500 reads:  80.63%', 'Amplicons with at least 1000 reads: 53.59%']\n",
      "['Average reads per amplicon:         1311', 'Uniformity of amplicon coverage:    92.81%', 'Amplicons with at least 1 read: 99.82%', 'Amplicons with at least 1 reads:    99.82%', 'Amplicons with at least 10 reads:   99.18%', 'Amplicons with at least 20 reads:   98.82%', 'Amplicons with at least 50 reads:   97.92%', 'Amplicons with at least 100 reads:  96.76%', 'Amplicons with at least 200 reads:  94.53%', 'Amplicons with at least 500 reads:  83.86%', 'Amplicons with at least 1000 reads: 59.55%']\n",
      "['Average reads per amplicon:         758.7', 'Uniformity of amplicon coverage:    92.11%', 'Amplicons with at least 1 read: 99.46%', 'Amplicons with at least 1 reads:    99.46%', 'Amplicons with at least 10 reads:   98.68%', 'Amplicons with at least 20 reads:   97.96%', 'Amplicons with at least 50 reads:   95.99%', 'Amplicons with at least 100 reads:  93.93%', 'Amplicons with at least 200 reads:  90.41%', 'Amplicons with at least 500 reads:  70.13%', 'Amplicons with at least 1000 reads: 24.33%']\n",
      "['Average reads per amplicon:         1923', 'Uniformity of amplicon coverage:    89.89%', 'Amplicons with at least 1 read: 99.52%', 'Amplicons with at least 1 reads:    99.52%', 'Amplicons with at least 10 reads:   98.69%', 'Amplicons with at least 20 reads:   98.11%', 'Amplicons with at least 50 reads:   96.79%', 'Amplicons with at least 100 reads:  95.14%', 'Amplicons with at least 200 reads:  92.93%', 'Amplicons with at least 500 reads:  87.97%', 'Amplicons with at least 1000 reads: 78.34%']\n",
      "['Average reads per amplicon:         10519', 'Uniformity of amplicon coverage:    95.61%', 'Amplicons with at least 1 read: 100.00%', 'Amplicons with at least 1 reads:    100.00%', 'Amplicons with at least 10 reads:   100.00%', 'Amplicons with at least 20 reads:   100.00%', 'Amplicons with at least 50 reads:   100.00%', 'Amplicons with at least 100 reads:  100.00%', 'Amplicons with at least 200 reads:  100.00%', 'Amplicons with at least 500 reads:  99.37%', 'Amplicons with at least 1000 reads: 98.75%']\n",
      "['Average reads per amplicon:         1965', 'Uniformity of amplicon coverage:    91.35%', 'Amplicons with at least 1 read: 99.65%', 'Amplicons with at least 1 reads:    99.65%', 'Amplicons with at least 10 reads:   99.10%', 'Amplicons with at least 20 reads:   98.87%', 'Amplicons with at least 50 reads:   98.09%', 'Amplicons with at least 100 reads:  96.67%', 'Amplicons with at least 200 reads:  94.48%', 'Amplicons with at least 500 reads:  89.82%', 'Amplicons with at least 1000 reads: 80.47%']\n",
      "['Average reads per amplicon:         3229', 'Uniformity of amplicon coverage:    96.84%', 'Amplicons with at least 1 read: 100.00%', 'Amplicons with at least 1 reads:    100.00%', 'Amplicons with at least 10 reads:   99.71%', 'Amplicons with at least 20 reads:   99.71%', 'Amplicons with at least 50 reads:   99.71%', 'Amplicons with at least 100 reads:  99.43%', 'Amplicons with at least 200 reads:  98.56%', 'Amplicons with at least 500 reads:  97.70%', 'Amplicons with at least 1000 reads: 92.82%']\n",
      "['Average reads per amplicon:         0.222', 'Uniformity of amplicon coverage:    95.77%', 'Amplicons with at least 1 read: 4.83%', 'Amplicons with at least 1 reads:    4.83%', 'Amplicons with at least 10 reads:   0.48%', 'Amplicons with at least 20 reads:   0.48%', 'Amplicons with at least 50 reads:   0.00%', 'Amplicons with at least 100 reads:  0.00%', 'Amplicons with at least 200 reads:  0.00%', 'Amplicons with at least 500 reads:  0.00%', 'Amplicons with at least 1000 reads: 0.00%']\n",
      "['Average reads per amplicon:         2519', 'Uniformity of amplicon coverage:    96.40%', 'Amplicons with at least 1 read: 100.00%', 'Amplicons with at least 1 reads:    100.00%', 'Amplicons with at least 10 reads:   99.88%', 'Amplicons with at least 20 reads:   99.88%', 'Amplicons with at least 50 reads:   99.15%', 'Amplicons with at least 100 reads:  98.67%', 'Amplicons with at least 200 reads:  98.55%', 'Amplicons with at least 500 reads:  96.62%', 'Amplicons with at least 1000 reads: 89.86%']\n",
      "['Average reads per amplicon:         691.8', 'Uniformity of amplicon coverage:    92.39%', 'Amplicons with at least 1 read: 99.45%', 'Amplicons with at least 1 reads:    99.45%', 'Amplicons with at least 10 reads:   98.71%', 'Amplicons with at least 20 reads:   98.05%', 'Amplicons with at least 50 reads:   96.30%', 'Amplicons with at least 100 reads:  93.94%', 'Amplicons with at least 200 reads:  89.53%', 'Amplicons with at least 500 reads:  62.73%', 'Amplicons with at least 1000 reads: 19.56%']\n",
      "['Average reads per amplicon:         46250', 'Uniformity of amplicon coverage:    95.12%', 'Amplicons with at least 1 read: 100.00%', 'Amplicons with at least 1 reads:    100.00%', 'Amplicons with at least 10 reads:   100.00%', 'Amplicons with at least 20 reads:   100.00%', 'Amplicons with at least 50 reads:   100.00%', 'Amplicons with at least 100 reads:  100.00%', 'Amplicons with at least 200 reads:  100.00%', 'Amplicons with at least 500 reads:  100.00%', 'Amplicons with at least 1000 reads: 100.00%']\n",
      "['Average reads per amplicon:         1378', 'Uniformity of amplicon coverage:    93.26%', 'Amplicons with at least 1 read: 99.60%', 'Amplicons with at least 1 reads:    99.60%', 'Amplicons with at least 10 reads:   98.83%', 'Amplicons with at least 20 reads:   98.31%', 'Amplicons with at least 50 reads:   97.27%', 'Amplicons with at least 100 reads:  96.10%', 'Amplicons with at least 200 reads:  94.41%', 'Amplicons with at least 500 reads:  88.61%', 'Amplicons with at least 1000 reads: 65.92%']\n",
      "['Average reads per amplicon:         1151', 'Uniformity of amplicon coverage:    93.40%', 'Amplicons with at least 1 read: 99.60%', 'Amplicons with at least 1 reads:    99.60%', 'Amplicons with at least 10 reads:   98.89%', 'Amplicons with at least 20 reads:   98.34%', 'Amplicons with at least 50 reads:   97.26%', 'Amplicons with at least 100 reads:  95.84%', 'Amplicons with at least 200 reads:  94.05%', 'Amplicons with at least 500 reads:  86.08%', 'Amplicons with at least 1000 reads: 54.69%']\n",
      "['Average reads per amplicon:         1355', 'Uniformity of amplicon coverage:    93.38%', 'Amplicons with at least 1 read: 99.83%', 'Amplicons with at least 1 reads:    99.83%', 'Amplicons with at least 10 reads:   99.21%', 'Amplicons with at least 20 reads:   98.90%', 'Amplicons with at least 50 reads:   98.09%', 'Amplicons with at least 100 reads:  97.16%', 'Amplicons with at least 200 reads:  95.14%', 'Amplicons with at least 500 reads:  85.19%', 'Amplicons with at least 1000 reads: 61.26%']\n"
     ]
    }
   ],
   "source": [
    "for file in os.listdir('/Users/diploderma/Documents/GitHub/pyResources/python101_demo_data/data_wo_subdir') :\n",
    "    if file.endswith('txt') :\n",
    "        with open(os.path.join(root, file)) as rf :\n",
    "            print(rf.read().splitlines()[14:25])\n",
    "# 所有txt檔案的15~25行印出來，不使用os.walk"
   ]
  },
  {
   "cell_type": "code",
   "execution_count": 50,
   "metadata": {},
   "outputs": [
    {
     "name": "stdout",
     "output_type": "stream",
     "text": [
      "/Users/diploderma/Documents/GitHub/pyResources/python101_demo_data/data_with_subdir/CNV/Proton_A_816_20181115/Proton_A_816_20181115_IonXpress_011.stats.cov.txt\n",
      " ['Coverage Analysis Report', '', 'Sample Name: ACT1338_D1', 'Reference Genome: hg19', 'Target Regions: Onco2M7_Designed_20180402', 'Alignments: IonXpress_011_Auto_ICA_20181114_2_act-genomics-proton-a-server_1805', 'bbctools version: 1.301', '', 'Number of mapped reads:         19385754', 'Percent reads on target:        97.29%'] \n",
      "\n",
      "/Users/diploderma/Documents/GitHub/pyResources/python101_demo_data/data_with_subdir/CNV/Proton_A_816_20181115/Proton_A_816_20181115_IonXpress_012.stats.cov.txt\n",
      " ['Coverage Analysis Report', '', 'Sample Name: ACT1339_D1', 'Reference Genome: hg19', 'Target Regions: Onco2M7_Designed_20180402', 'Alignments: IonXpress_012_Auto_ICA_20181114_2_act-genomics-proton-a-server_1805', 'bbctools version: 1.301', '', 'Number of mapped reads:         10250190', 'Percent reads on target:        97.53%'] \n",
      "\n",
      "/Users/diploderma/Documents/GitHub/pyResources/python101_demo_data/data_with_subdir/CNV/Proton_A_816_20181115/Proton_A_816_20181115_IonXpress_036.stats.cov.txt\n",
      " ['Coverage Analysis Report', '', 'Sample Name: ACT0953_D1', 'Reference Genome: hg19', 'Target Regions: ACTDrugv4_PNID_PA027M2', 'Alignments: IonXpress_036_Auto_ICA_20181114_2_act-genomics-proton-a-server_1805', 'bbctools version: 1.301', '', 'Number of mapped reads:         591560', 'Percent reads on target:        97.62%'] \n",
      "\n",
      "/Users/diploderma/Documents/GitHub/pyResources/python101_demo_data/data_with_subdir/CNV/Proton_A_816_20181115/Proton_A_816_20181115_IonXpress_009.stats.cov.txt\n",
      " ['Coverage Analysis Report', '', 'Sample Name: ACT1336_D1', 'Reference Genome: hg19', 'Target Regions: Onco2M7_Designed_20180402', 'Alignments: IonXpress_009_Auto_ICA_20181114_2_act-genomics-proton-a-server_1805', 'bbctools version: 1.301', '', 'Number of mapped reads:         17228531', 'Percent reads on target:        97.78%'] \n",
      "\n",
      "/Users/diploderma/Documents/GitHub/pyResources/python101_demo_data/data_with_subdir/CNV/Proton_A_816_20181115/Proton_A_816_20181115_IonXpress_037.stats.cov.txt\n",
      " ['Coverage Analysis Report', '', 'Sample Name: ACT0025_D1', 'Reference Genome: hg19', 'Target Regions: ACTDrugv4_PNID_PA027M2', 'Alignments: IonXpress_037_Auto_ICA_20181114_2_act-genomics-proton-a-server_1805', 'bbctools version: 1.301', '', 'Number of mapped reads:         559845', 'Percent reads on target:        96.72%'] \n",
      "\n",
      "/Users/diploderma/Documents/GitHub/pyResources/python101_demo_data/data_with_subdir/CNV/Proton_A_816_20181115/Proton_A_816_20181115_IonXpress_013.stats.cov.txt\n",
      " ['Coverage Analysis Report', '', 'Sample Name: ACT1340_D1', 'Reference Genome: hg19', 'Target Regions: Onco2M7_Designed_20180402', 'Alignments: IonXpress_013_Auto_ICA_20181114_2_act-genomics-proton-a-server_1805', 'bbctools version: 1.301', '', 'Number of mapped reads:         17802106', 'Percent reads on target:        97.03%'] \n",
      "\n",
      "/Users/diploderma/Documents/GitHub/pyResources/python101_demo_data/data_with_subdir/CNV/Proton_A_816_20181115/Proton_A_816_20181115_IonXpress_007.stats.cov.txt\n",
      " ['Coverage Analysis Report', '', 'Sample Name: E01798_D1', 'Reference Genome: hg19', 'Target Regions: ACTDrugv4_PNID_PA027M1', 'Alignments: IonXpress_007_Auto_ICA_20181114_2_act-genomics-proton-a-server_1805', 'bbctools version: 1.301', '', 'Number of mapped reads:         850532', 'Percent reads on target:        93.65%'] \n",
      "\n",
      "/Users/diploderma/Documents/GitHub/pyResources/python101_demo_data/data_with_subdir/CNV/Proton_A_816_20181115/Proton_A_816_20181115_IonXpress_010.stats.cov.txt\n",
      " ['Coverage Analysis Report', '', 'Sample Name: ACT1337_D1', 'Reference Genome: hg19', 'Target Regions: Onco2M7_Designed_20180402', 'Alignments: IonXpress_010_Auto_ICA_20181114_2_act-genomics-proton-a-server_1805', 'bbctools version: 1.301', '', 'Number of mapped reads:         13016294', 'Percent reads on target:        97.34%'] \n",
      "\n",
      "/Users/diploderma/Documents/GitHub/pyResources/python101_demo_data/data_with_subdir/CNV/Proton_A_816_20181115/Proton_A_816_20181115_IonXpress_014.stats.cov.txt\n",
      " ['Coverage Analysis Report', '', 'Sample Name: ACT1341_D1', 'Reference Genome: hg19', 'Target Regions: Onco2M7_Designed_20180402', 'Alignments: IonXpress_014_Auto_ICA_20181114_2_act-genomics-proton-a-server_1805', 'bbctools version: 1.301', '', 'Number of mapped reads:         11319336', 'Percent reads on target:        97.72%'] \n",
      "\n",
      "/Users/diploderma/Documents/GitHub/pyResources/python101_demo_data/data_with_subdir/CNV/Proton_A_858_20181228/Proton_A_858_20181228_IonXpress_083.stats.cov.txt\n",
      " ['Coverage Analysis Report', '', 'Sample Name: E02213_D1', 'Reference Genome: hg19', 'Target Regions: Onco2M7_Designed_20180402', 'Alignments: IonXpress_083_Auto_ICA_20181227_2_act-genomics-proton-a-server_1889', 'bbctools version: 1.301', '', 'Number of mapped reads:         21222657', 'Percent reads on target:        97.25%'] \n",
      "\n",
      "/Users/diploderma/Documents/GitHub/pyResources/python101_demo_data/data_with_subdir/CNV/Proton_A_858_20181228/Proton_A_858_20181228_IonXpress_080.stats.cov.txt\n",
      " ['Coverage Analysis Report', '', 'Sample Name: E02212_D1', 'Reference Genome: hg19', 'Target Regions: Onco2M7_Designed_20180402', 'Alignments: IonXpress_080_Auto_ICA_20181227_2_act-genomics-proton-a-server_1889', 'bbctools version: 1.301', '', 'Number of mapped reads:         19852140', 'Percent reads on target:        97.25%'] \n",
      "\n",
      "/Users/diploderma/Documents/GitHub/pyResources/python101_demo_data/data_with_subdir/CNV/Proton_A_858_20181228/Proton_A_858_20181228_IonXpress_081.stats.cov.txt\n",
      " ['Coverage Analysis Report', '', 'Sample Name: E02212_D1', 'Reference Genome: hg19', 'Target Regions: Onco2M7_Designed_20180402', 'Alignments: IonXpress_081_Auto_ICA_20181227_2_act-genomics-proton-a-server_1889', 'bbctools version: 1.301', '', 'Number of mapped reads:         23219048', 'Percent reads on target:        97.15%'] \n",
      "\n",
      "/Users/diploderma/Documents/GitHub/pyResources/python101_demo_data/data_with_subdir/CNV/Proton_A_858_20181228/Proton_A_858_20181228_IonXpress_082.stats.cov.txt\n",
      " ['Coverage Analysis Report', '', 'Sample Name: E02213_D1', 'Reference Genome: hg19', 'Target Regions: Onco2M7_Designed_20180402', 'Alignments: IonXpress_082_Auto_ICA_20181227_2_act-genomics-proton-a-server_1889', 'bbctools version: 1.301', '', 'Number of mapped reads:         28096744', 'Percent reads on target:        97.30%'] \n",
      "\n",
      "/Users/diploderma/Documents/GitHub/pyResources/python101_demo_data/data_with_subdir/CNV/Proton_A_884_20190315/Proton_A_884_20190315_IonXpress_076.stats.cov.txt\n",
      " ['Coverage Analysis Report', '', 'Sample Name: F00496_D1', 'Reference Genome: hg19', 'Target Regions: 4Pool_ONCOv2_Designed_plus_PGx_20170704', 'Alignments: IonXpress_076_Auto_ICA_20190314_2_act-genomics-proton-a-server_1941', 'bbctools version: 1.301', '', 'Number of mapped reads:         26733192', 'Percent reads on target:        97.14%'] \n",
      "\n",
      "/Users/diploderma/Documents/GitHub/pyResources/python101_demo_data/data_with_subdir/CNV/Proton_A_884_20190315/Proton_A_884_20190315_IonXpress_075.stats.cov.txt\n",
      " ['Coverage Analysis Report', '', 'Sample Name: E02136_D1', 'Reference Genome: hg19', 'Target Regions: 4Pool_ONCOv2_Designed_plus_PGx_20170704', 'Alignments: IonXpress_075_Auto_ICA_20190314_2_act-genomics-proton-a-server_1941', 'bbctools version: 1.301', '', 'Number of mapped reads:         36387948', 'Percent reads on target:        97.16%'] \n",
      "\n",
      "/Users/diploderma/Documents/GitHub/pyResources/python101_demo_data/data_with_subdir/CNV/Proton_A_884_20190315/Proton_A_884_20190315_IonXpress_074.stats.cov.txt\n",
      " ['Coverage Analysis Report', '', 'Sample Name: E02142_D1', 'Reference Genome: hg19', 'Target Regions: 4Pool_ONCOv2_Designed_plus_PGx_20170704', 'Alignments: IonXpress_074_Auto_ICA_20190314_2_act-genomics-proton-a-server_1941', 'bbctools version: 1.301', '', 'Number of mapped reads:         30377968', 'Percent reads on target:        97.06%'] \n",
      "\n"
     ]
    }
   ],
   "source": [
    "for root, subdirs, files in os.walk('/Users/diploderma/Documents/GitHub/pyResources/python101_demo_data/data_with_subdir') :\n",
    "    for file in files :\n",
    "        if file.endswith('.txt') :\n",
    "            with open(os.path.join(root, file)) as rf :\n",
    "                print(os.path.join(root, file) + '\\n', rf.read().splitlines()[0:10], '\\n')\n",
    "# 印出所有txt檔案的檔案路徑以及前十行資料"
   ]
  },
  {
   "cell_type": "code",
   "execution_count": 55,
   "metadata": {},
   "outputs": [],
   "source": [
    "wf = open('demo_write.txt', 'w')\n",
    "wf.write('i am happy')\n",
    "wf.close()"
   ]
  },
  {
   "cell_type": "code",
   "execution_count": 56,
   "metadata": {},
   "outputs": [],
   "source": [
    "wf = open('demo_write.txt', 'a')\n",
    "wf.write('you are happy too\\n')\n",
    "wf.close()"
   ]
  },
  {
   "cell_type": "code",
   "execution_count": 57,
   "metadata": {},
   "outputs": [],
   "source": [
    "wf = open('demo_write.txt', 'w')\n",
    "wf.write('nothing')\n",
    "wf.close()"
   ]
  },
  {
   "cell_type": "code",
   "execution_count": 59,
   "metadata": {},
   "outputs": [],
   "source": [
    "with open('demo_write.txt', 'w') as wf :\n",
    "    wf.write('using with function')"
   ]
  },
  {
   "cell_type": "code",
   "execution_count": 61,
   "metadata": {},
   "outputs": [],
   "source": [
    "with open('demo_write.txt', 'a') as wf :\n",
    "    wf.write('\\n nothing')"
   ]
  },
  {
   "cell_type": "code",
   "execution_count": null,
   "metadata": {},
   "outputs": [],
   "source": []
  },
  {
   "cell_type": "code",
   "execution_count": null,
   "metadata": {},
   "outputs": [],
   "source": []
  },
  {
   "cell_type": "code",
   "execution_count": null,
   "metadata": {},
   "outputs": [],
   "source": []
  },
  {
   "cell_type": "code",
   "execution_count": null,
   "metadata": {},
   "outputs": [],
   "source": []
  },
  {
   "cell_type": "code",
   "execution_count": null,
   "metadata": {},
   "outputs": [],
   "source": []
  },
  {
   "cell_type": "code",
   "execution_count": null,
   "metadata": {},
   "outputs": [],
   "source": []
  },
  {
   "cell_type": "code",
   "execution_count": null,
   "metadata": {},
   "outputs": [],
   "source": []
  },
  {
   "cell_type": "code",
   "execution_count": null,
   "metadata": {},
   "outputs": [],
   "source": []
  }
 ],
 "metadata": {
  "kernelspec": {
   "display_name": "Python 3",
   "language": "python",
   "name": "python3"
  },
  "language_info": {
   "codemirror_mode": {
    "name": "ipython",
    "version": 3
   },
   "file_extension": ".py",
   "mimetype": "text/x-python",
   "name": "python",
   "nbconvert_exporter": "python",
   "pygments_lexer": "ipython3",
   "version": "3.7.1"
  }
 },
 "nbformat": 4,
 "nbformat_minor": 2
}
