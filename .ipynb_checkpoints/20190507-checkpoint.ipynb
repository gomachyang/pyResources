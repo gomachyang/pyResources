{
 "cells": [
  {
   "cell_type": "code",
   "execution_count": 3,
   "metadata": {},
   "outputs": [],
   "source": [
    "#review  -- basic"
   ]
  },
  {
   "cell_type": "code",
   "execution_count": 4,
   "metadata": {},
   "outputs": [],
   "source": [
    "# 4 data type"
   ]
  },
  {
   "cell_type": "code",
   "execution_count": 5,
   "metadata": {},
   "outputs": [
    {
     "name": "stdout",
     "output_type": "stream",
     "text": [
      "<class 'str'> <class 'int'> <class 'float'> <class 'bool'>\n"
     ]
    }
   ],
   "source": [
    "a = 'string'\n",
    "b = 4\n",
    "c = 4.6\n",
    "d = True\n",
    "print (type(a), type(b), type(c), type(d))"
   ]
  },
  {
   "cell_type": "code",
   "execution_count": 6,
   "metadata": {},
   "outputs": [],
   "source": [
    "# data container"
   ]
  },
  {
   "cell_type": "code",
   "execution_count": 7,
   "metadata": {},
   "outputs": [
    {
     "name": "stdout",
     "output_type": "stream",
     "text": [
      "['string', 4, 4.6, True] <class 'list'> ('string', 4, 4.6, True) <class 'tuple'> {'string': 4, 4.6: True} <class 'dict'>\n"
     ]
    }
   ],
   "source": [
    "my_list = [a, b, c, d]\n",
    "my_tuple = (a, b, c, d)\n",
    "my_dict = {a:b, c:d}\n",
    "\n",
    "print (my_list, type(my_list), my_tuple, type(my_tuple),\n",
    "       my_dict, type(my_dict))"
   ]
  },
  {
   "cell_type": "code",
   "execution_count": 8,
   "metadata": {},
   "outputs": [],
   "source": [
    "# container function"
   ]
  },
  {
   "cell_type": "code",
   "execution_count": 10,
   "metadata": {},
   "outputs": [
    {
     "name": "stdout",
     "output_type": "stream",
     "text": [
      "['string', 4, 4.6, True, 'Flase', 'Flase']\n",
      "['string', 4.6, True, 'Flase', 'Flase']\n"
     ]
    }
   ],
   "source": [
    "my_list.append('Flase')\n",
    "print (my_list)\n",
    "my_list.pop(1)\n",
    "print (my_list)"
   ]
  },
  {
   "cell_type": "code",
   "execution_count": 11,
   "metadata": {},
   "outputs": [],
   "source": [
    "# list slicing"
   ]
  },
  {
   "cell_type": "code",
   "execution_count": 18,
   "metadata": {},
   "outputs": [
    {
     "data": {
      "text/plain": [
       "['string', 4.6, True, 'Flase', 'Flase']"
      ]
     },
     "execution_count": 18,
     "metadata": {},
     "output_type": "execute_result"
    }
   ],
   "source": [
    "my_list[:]"
   ]
  },
  {
   "cell_type": "code",
   "execution_count": 19,
   "metadata": {},
   "outputs": [],
   "source": [
    "my_list_1 = ['a', 'b', 'c', 'd']\n",
    "my_list_2 = ['b', 'd', 'a', 'c']"
   ]
  },
  {
   "cell_type": "code",
   "execution_count": 22,
   "metadata": {},
   "outputs": [
    {
     "data": {
      "text/plain": [
       "False"
      ]
     },
     "execution_count": 22,
     "metadata": {},
     "output_type": "execute_result"
    }
   ],
   "source": [
    "my_list_1 == my_list_2"
   ]
  },
  {
   "cell_type": "code",
   "execution_count": 24,
   "metadata": {},
   "outputs": [
    {
     "data": {
      "text/plain": [
       "True"
      ]
     },
     "execution_count": 24,
     "metadata": {},
     "output_type": "execute_result"
    }
   ],
   "source": [
    "my_dict_1 = {'a' : 'b', 'c' : 'd', 'e' : 'f'}\n",
    "my_dict_2 = {'c' : 'd', 'a' : 'b', 'e' : 'f'}\n",
    "\n",
    "my_dict_1 == my_dict_2"
   ]
  },
  {
   "cell_type": "code",
   "execution_count": 33,
   "metadata": {},
   "outputs": [],
   "source": [
    "my_dict_1 = {'a' : 1, 'a' : 2}"
   ]
  },
  {
   "cell_type": "code",
   "execution_count": 34,
   "metadata": {},
   "outputs": [
    {
     "data": {
      "text/plain": [
       "{'a': 2}"
      ]
     },
     "execution_count": 34,
     "metadata": {},
     "output_type": "execute_result"
    }
   ],
   "source": [
    "my_dict_1"
   ]
  },
  {
   "cell_type": "code",
   "execution_count": 35,
   "metadata": {},
   "outputs": [],
   "source": [
    "# tuple inmutable"
   ]
  },
  {
   "cell_type": "code",
   "execution_count": 36,
   "metadata": {},
   "outputs": [
    {
     "data": {
      "text/plain": [
       "['string', 4.6, True, 'Flase', 'Flase']"
      ]
     },
     "execution_count": 36,
     "metadata": {},
     "output_type": "execute_result"
    }
   ],
   "source": [
    "my_list"
   ]
  },
  {
   "cell_type": "code",
   "execution_count": 37,
   "metadata": {},
   "outputs": [],
   "source": [
    "my_list[0] = 78"
   ]
  },
  {
   "cell_type": "code",
   "execution_count": 38,
   "metadata": {},
   "outputs": [
    {
     "data": {
      "text/plain": [
       "[78, 4.6, True, 'Flase', 'Flase']"
      ]
     },
     "execution_count": 38,
     "metadata": {},
     "output_type": "execute_result"
    }
   ],
   "source": [
    "my_list"
   ]
  },
  {
   "cell_type": "code",
   "execution_count": 39,
   "metadata": {},
   "outputs": [
    {
     "data": {
      "text/plain": [
       "('string', 4, 4.6, True)"
      ]
     },
     "execution_count": 39,
     "metadata": {},
     "output_type": "execute_result"
    }
   ],
   "source": [
    "my_tuple"
   ]
  },
  {
   "cell_type": "code",
   "execution_count": 40,
   "metadata": {},
   "outputs": [
    {
     "ename": "TypeError",
     "evalue": "'tuple' object does not support item assignment",
     "output_type": "error",
     "traceback": [
      "\u001b[1;31m---------------------------------------------------------------------------\u001b[0m",
      "\u001b[1;31mTypeError\u001b[0m                                 Traceback (most recent call last)",
      "\u001b[1;32m<ipython-input-40-a2106e4a5e96>\u001b[0m in \u001b[0;36m<module>\u001b[1;34m\u001b[0m\n\u001b[1;32m----> 1\u001b[1;33m \u001b[0mmy_tuple\u001b[0m\u001b[1;33m[\u001b[0m\u001b[1;36m0\u001b[0m\u001b[1;33m]\u001b[0m \u001b[1;33m=\u001b[0m \u001b[1;36m78\u001b[0m\u001b[1;33m\u001b[0m\u001b[1;33m\u001b[0m\u001b[0m\n\u001b[0m",
      "\u001b[1;31mTypeError\u001b[0m: 'tuple' object does not support item assignment"
     ]
    }
   ],
   "source": [
    "my_tuple[0] = 78"
   ]
  },
  {
   "cell_type": "code",
   "execution_count": 41,
   "metadata": {},
   "outputs": [],
   "source": [
    "# for loop"
   ]
  },
  {
   "cell_type": "code",
   "execution_count": 42,
   "metadata": {},
   "outputs": [
    {
     "name": "stdout",
     "output_type": "stream",
     "text": [
      "78\n",
      "4.6\n",
      "True\n",
      "Flase\n",
      "Flase\n"
     ]
    }
   ],
   "source": [
    "for _ in my_list :\n",
    "    print (_)"
   ]
  },
  {
   "cell_type": "code",
   "execution_count": 43,
   "metadata": {},
   "outputs": [
    {
     "name": "stdout",
     "output_type": "stream",
     "text": [
      "string\n",
      "4\n",
      "4.6\n",
      "True\n"
     ]
    }
   ],
   "source": [
    "for _ in my_tuple :\n",
    "    print (_)"
   ]
  },
  {
   "cell_type": "code",
   "execution_count": 48,
   "metadata": {},
   "outputs": [
    {
     "data": {
      "text/plain": [
       "{'string': 4, 4.6: True}"
      ]
     },
     "execution_count": 48,
     "metadata": {},
     "output_type": "execute_result"
    }
   ],
   "source": [
    "my_dict"
   ]
  },
  {
   "cell_type": "code",
   "execution_count": 47,
   "metadata": {},
   "outputs": [
    {
     "name": "stdout",
     "output_type": "stream",
     "text": [
      "dict_keys(['string', 4.6])\n",
      "string\n",
      "dict_keys(['string', 4.6])\n",
      "4.6\n",
      "dict_values([4, True])\n",
      "4\n",
      "dict_values([4, True])\n",
      "True\n",
      "dict_items([('string', 4), (4.6, True)])\n",
      "string 4\n",
      "dict_items([('string', 4), (4.6, True)])\n",
      "4.6 True\n"
     ]
    }
   ],
   "source": [
    "for key in my_dict.keys() :\n",
    "    print (my_dict.keys())\n",
    "    print (key)\n",
    "    \n",
    "for value in my_dict.values() :\n",
    "    print (my_dict.values())\n",
    "    print (value)\n",
    "    \n",
    "for key, value in my_dict.items() :\n",
    "    print (my_dict.items())\n",
    "    print (key, value)"
   ]
  },
  {
   "cell_type": "code",
   "execution_count": 49,
   "metadata": {},
   "outputs": [],
   "source": [
    "my_dict_3 = {1 : 'a', 2 : 'b', 3 : 'c'}"
   ]
  },
  {
   "cell_type": "code",
   "execution_count": 50,
   "metadata": {},
   "outputs": [
    {
     "data": {
      "text/plain": [
       "'c'"
      ]
     },
     "execution_count": 50,
     "metadata": {},
     "output_type": "execute_result"
    }
   ],
   "source": [
    "my_dict_3[3]"
   ]
  },
  {
   "cell_type": "code",
   "execution_count": 51,
   "metadata": {},
   "outputs": [],
   "source": [
    "# reivew if statment"
   ]
  },
  {
   "cell_type": "code",
   "execution_count": 52,
   "metadata": {},
   "outputs": [],
   "source": [
    "my_list = [1, 2, 4, 6, 99, 100, 29]"
   ]
  },
  {
   "cell_type": "code",
   "execution_count": 54,
   "metadata": {},
   "outputs": [
    {
     "name": "stdout",
     "output_type": "stream",
     "text": [
      "less than 5 : 1\n",
      "less than 5 : 2\n",
      "less than 5 : 4\n",
      "do nothing\n",
      "greater than 50 : 99\n",
      "greater than 50 : 100\n",
      "greater than 10 :29\n"
     ]
    }
   ],
   "source": [
    "for _ in my_list :\n",
    "    if _ >50 :\n",
    "        print ('greater than 50 : ' + str(_))\n",
    "    elif _ < 5 :\n",
    "        print ('less than 5 : ' + str(_))\n",
    "    elif _ > 10 :\n",
    "        print ('greater than 10 :' + str(_))\n",
    "    else :\n",
    "        print ('do nothing')"
   ]
  },
  {
   "cell_type": "code",
   "execution_count": 59,
   "metadata": {},
   "outputs": [
    {
     "name": "stdout",
     "output_type": "stream",
     "text": [
      "less than 5 : 1\n",
      "less than 5 : 2\n",
      "oh i found it : 4\n"
     ]
    }
   ],
   "source": [
    "for _ in my_list :\n",
    "    if _ == 4 :\n",
    "        print ('oh i found it : ' + str(_))\n",
    "        break\n",
    "    elif _ >50 :\n",
    "        print ('greater than 50 : ' + str(_))\n",
    "    elif _ < 5 :\n",
    "        print ('less than 5 : ' + str(_))\n",
    "    elif _ > 10 :\n",
    "        print ('greater than 10 :' + str(_))\n",
    "    else :\n",
    "        print ('do nothing')"
   ]
  },
  {
   "cell_type": "code",
   "execution_count": 61,
   "metadata": {},
   "outputs": [],
   "source": [
    "# function"
   ]
  },
  {
   "cell_type": "code",
   "execution_count": 65,
   "metadata": {},
   "outputs": [],
   "source": [
    "def add(a, b, c, d) :\n",
    "    return (a+b, c+d)"
   ]
  },
  {
   "cell_type": "code",
   "execution_count": 66,
   "metadata": {},
   "outputs": [],
   "source": [
    "sum_ = add(5, 7, 3, 8)"
   ]
  },
  {
   "cell_type": "code",
   "execution_count": 69,
   "metadata": {},
   "outputs": [],
   "source": [
    "h, k = add(5, 7, 3, 8)"
   ]
  },
  {
   "cell_type": "code",
   "execution_count": 67,
   "metadata": {},
   "outputs": [
    {
     "data": {
      "text/plain": [
       "(12, 11)"
      ]
     },
     "execution_count": 67,
     "metadata": {},
     "output_type": "execute_result"
    }
   ],
   "source": [
    "sum_"
   ]
  },
  {
   "cell_type": "code",
   "execution_count": 70,
   "metadata": {},
   "outputs": [
    {
     "name": "stdout",
     "output_type": "stream",
     "text": [
      "12 11\n"
     ]
    }
   ],
   "source": [
    "print (h, k)"
   ]
  },
  {
   "cell_type": "code",
   "execution_count": 68,
   "metadata": {},
   "outputs": [
    {
     "data": {
      "text/plain": [
       "tuple"
      ]
     },
     "execution_count": 68,
     "metadata": {},
     "output_type": "execute_result"
    }
   ],
   "source": [
    "type(sum_)"
   ]
  },
  {
   "cell_type": "code",
   "execution_count": 60,
   "metadata": {},
   "outputs": [],
   "source": [
    "# func paramters"
   ]
  },
  {
   "cell_type": "code",
   "execution_count": 76,
   "metadata": {},
   "outputs": [],
   "source": [
    "def add(arg, *args) :\n",
    "    if args :\n",
    "        print (args)\n",
    "        for each_arg in args :\n",
    "            print (each_arg)"
   ]
  },
  {
   "cell_type": "code",
   "execution_count": 77,
   "metadata": {},
   "outputs": [
    {
     "name": "stdout",
     "output_type": "stream",
     "text": [
      "(1, 6, 8, 9)\n",
      "1\n",
      "6\n",
      "8\n",
      "9\n"
     ]
    }
   ],
   "source": [
    "add(5, 1, 6, 8, 9)"
   ]
  },
  {
   "cell_type": "code",
   "execution_count": 78,
   "metadata": {},
   "outputs": [],
   "source": [
    "# for loop & loop & func"
   ]
  },
  {
   "cell_type": "code",
   "execution_count": 79,
   "metadata": {},
   "outputs": [],
   "source": [
    "my_list = [3, 5, 7, 9, 90, 100, 105, 999, 888, 777]"
   ]
  },
  {
   "cell_type": "code",
   "execution_count": 80,
   "metadata": {},
   "outputs": [],
   "source": [
    "# creat a function : 個位數，十位數，百位數，千位數"
   ]
  },
  {
   "cell_type": "code",
   "execution_count": 81,
   "metadata": {},
   "outputs": [],
   "source": [
    "# 判斷完之後， 個位數的總和，十位數的總合，百位數總合，"
   ]
  },
  {
   "cell_type": "code",
   "execution_count": 82,
   "metadata": {},
   "outputs": [],
   "source": [
    "# function 先create好，在用在for loop 中"
   ]
  },
  {
   "cell_type": "markdown",
   "metadata": {},
   "source": [
    "```python\n",
    "def my_fun(a) :\n",
    "    bala bala\n",
    " \n",
    "for i in my_list :\n",
    "    sum = my_fun(i)\n",
    "```"
   ]
  },
  {
   "cell_type": "code",
   "execution_count": 84,
   "metadata": {},
   "outputs": [],
   "source": [
    "def check_len_sum(ls):\n",
    "    n_digit = []\n",
    "    n_ten = []\n",
    "    n_hundred = []\n",
    "    n_thousand = []\n",
    "    for i in ls:\n",
    "        if len(str(i)) == 1:\n",
    "            n_digit.append(i)\n",
    "        elif len(str(i)) == 2:\n",
    "            n_ten.append(i)\n",
    "        elif len(str(i)) == 3:\n",
    "            n_hundred.append(i)\n",
    "        elif len(str(i)) == 4:\n",
    "            n_thousand.append(i)\n",
    "    print(\n",
    "        \"Number of units digit =\", len(n_digit), \"and sum =\", sum(n_digit), \"\\n\",\n",
    "        \"Number of tens digit =\", len(n_ten), \"and sum =\", sum(n_ten), \"\\n\",\n",
    "        \"Number of hundreds digit =\", len(n_hundred), \"and sum =\", sum(n_hundred), \"\\n\",\n",
    "        \"Number of thousands digit =\", len(n_thousand), \"and sum =\", sum(n_thousand)\n",
    "    )"
   ]
  },
  {
   "cell_type": "code",
   "execution_count": 85,
   "metadata": {},
   "outputs": [
    {
     "name": "stdout",
     "output_type": "stream",
     "text": [
      "Number of units digit = 4 and sum = 24 \n",
      " Number of tens digit = 1 and sum = 90 \n",
      " Number of hundreds digit = 5 and sum = 2869 \n",
      " Number of thousands digit = 0 and sum = 0\n"
     ]
    }
   ],
   "source": [
    "check_len_sum(my_list)"
   ]
  },
  {
   "cell_type": "code",
   "execution_count": 86,
   "metadata": {},
   "outputs": [],
   "source": [
    "# another thinking"
   ]
  },
  {
   "cell_type": "code",
   "execution_count": null,
   "metadata": {},
   "outputs": [],
   "source": []
  },
  {
   "cell_type": "code",
   "execution_count": null,
   "metadata": {},
   "outputs": [],
   "source": []
  },
  {
   "cell_type": "code",
   "execution_count": 115,
   "metadata": {},
   "outputs": [],
   "source": [
    "number1 =[]\n",
    "number2 = []\n",
    "number3 = []"
   ]
  },
  {
   "cell_type": "code",
   "execution_count": 118,
   "metadata": {},
   "outputs": [],
   "source": [
    "def my_func(*number) :\n",
    "    number1= []\n",
    "    number2 = []\n",
    "    number3 = []\n",
    "    for each in number :\n",
    "        if each  < 10 :\n",
    "            number1.append(each)\n",
    "        elif 10 <= each < 100 :\n",
    "            number2.append(each)\n",
    "        elif 100 <= each < 1000 :\n",
    "            number3.append(each)\n",
    "        else :\n",
    "            pass\n",
    "    return (sum(number1), sum(number2), sum(number3))"
   ]
  },
  {
   "cell_type": "code",
   "execution_count": 119,
   "metadata": {},
   "outputs": [
    {
     "data": {
      "text/plain": [
       "(24, 90, 2869)"
      ]
     },
     "execution_count": 119,
     "metadata": {},
     "output_type": "execute_result"
    }
   ],
   "source": [
    "my_func(*my_list)"
   ]
  },
  {
   "cell_type": "code",
   "execution_count": 109,
   "metadata": {},
   "outputs": [],
   "source": [
    "def my_func(each) :\n",
    "    if each< 10 :\n",
    "        return ('<10 : ' + str(each))\n",
    "    elif 10 <= each < 100 :\n",
    "        return ('10<=x<100 : ' + str(each))\n",
    "    elif 100 <= each < 1000 :\n",
    "        return ('100<=x<1000 : ' + str(each))\n",
    "        "
   ]
  },
  {
   "cell_type": "code",
   "execution_count": 114,
   "metadata": {},
   "outputs": [
    {
     "name": "stdout",
     "output_type": "stream",
     "text": [
      "24 90 2869\n"
     ]
    }
   ],
   "source": [
    "a = []\n",
    "b = []\n",
    "c = []\n",
    "for i in my_list :\n",
    "    if my_func(i).startswith('<10') :\n",
    "        a.append(i)\n",
    "    elif my_func(i).startswith('10<='):\n",
    "        b.append(i)\n",
    "    elif my_func(i).startswith('100<=') :\n",
    "        c.append(i)\n",
    "print (sum(a), sum(b), sum(c))"
   ]
  },
  {
   "cell_type": "code",
   "execution_count": 111,
   "metadata": {},
   "outputs": [
    {
     "name": "stdout",
     "output_type": "stream",
     "text": [
      "['<10 : 3', '<10 : 5', '<10 : 7', '<10 : 9', '10<=x<100 : 90', '100<=x<1000 : 100', '100<=x<1000 : 105', '100<=x<1000 : 999', '100<=x<1000 : 888', '100<=x<1000 : 777']\n"
     ]
    }
   ],
   "source": [
    "print (all_output)"
   ]
  },
  {
   "cell_type": "code",
   "execution_count": 116,
   "metadata": {},
   "outputs": [],
   "source": [
    "a = [1]\n",
    "a = []"
   ]
  },
  {
   "cell_type": "code",
   "execution_count": 117,
   "metadata": {},
   "outputs": [
    {
     "data": {
      "text/plain": [
       "[]"
      ]
     },
     "execution_count": 117,
     "metadata": {},
     "output_type": "execute_result"
    }
   ],
   "source": [
    "a"
   ]
  },
  {
   "cell_type": "code",
   "execution_count": null,
   "metadata": {},
   "outputs": [],
   "source": []
  }
 ],
 "metadata": {
  "kernelspec": {
   "display_name": "Python 3",
   "language": "python",
   "name": "python3"
  },
  "language_info": {
   "codemirror_mode": {
    "name": "ipython",
    "version": 3
   },
   "file_extension": ".py",
   "mimetype": "text/x-python",
   "name": "python",
   "nbconvert_exporter": "python",
   "pygments_lexer": "ipython3",
   "version": "3.7.1"
  }
 },
 "nbformat": 4,
 "nbformat_minor": 2
}
