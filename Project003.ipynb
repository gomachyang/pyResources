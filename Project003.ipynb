{
 "cells": [
  {
   "cell_type": "code",
   "execution_count": 1,
   "metadata": {},
   "outputs": [],
   "source": [
    "# function review"
   ]
  },
  {
   "cell_type": "code",
   "execution_count": 8,
   "metadata": {},
   "outputs": [],
   "source": [
    "def len_of_sring(*args) :\n",
    "    if args :\n",
    "        for i in args :\n",
    "            print(i, len(i))"
   ]
  },
  {
   "cell_type": "code",
   "execution_count": 9,
   "metadata": {},
   "outputs": [
    {
     "name": "stdout",
     "output_type": "stream",
     "text": [
      "dog 3\n",
      "cats 4\n",
      "lizard 6\n"
     ]
    }
   ],
   "source": [
    "len_of_sring('dog', 'cats', 'lizard')"
   ]
  },
  {
   "cell_type": "code",
   "execution_count": 6,
   "metadata": {},
   "outputs": [],
   "source": [
    "def len_of_sring2(arg1, arg2, arg3) :\n",
    "    print(arg1, len(arg1))\n",
    "    print(arg2, len(arg2))\n",
    "    print(arg3, len(arg3))"
   ]
  },
  {
   "cell_type": "code",
   "execution_count": 7,
   "metadata": {},
   "outputs": [
    {
     "name": "stdout",
     "output_type": "stream",
     "text": [
      "pen 3\n",
      "pigs 4\n",
      "human 5\n"
     ]
    }
   ],
   "source": [
    "len_of_sring2('pen', 'pigs', 'human')"
   ]
  },
  {
   "cell_type": "code",
   "execution_count": 10,
   "metadata": {},
   "outputs": [
    {
     "ename": "TypeError",
     "evalue": "len_of_sring2() missing 1 required positional argument: 'arg3'",
     "output_type": "error",
     "traceback": [
      "\u001b[0;31m---------------------------------------------------------------------------\u001b[0m",
      "\u001b[0;31mTypeError\u001b[0m                                 Traceback (most recent call last)",
      "\u001b[0;32m<ipython-input-10-6fb0da86ed16>\u001b[0m in \u001b[0;36m<module>\u001b[0;34m\u001b[0m\n\u001b[0;32m----> 1\u001b[0;31m \u001b[0mlen_of_sring2\u001b[0m\u001b[0;34m(\u001b[0m\u001b[0;34m'pen'\u001b[0m\u001b[0;34m,\u001b[0m \u001b[0;34m'pigs'\u001b[0m\u001b[0;34m)\u001b[0m\u001b[0;34m\u001b[0m\u001b[0;34m\u001b[0m\u001b[0m\n\u001b[0m",
      "\u001b[0;31mTypeError\u001b[0m: len_of_sring2() missing 1 required positional argument: 'arg3'"
     ]
    }
   ],
   "source": [
    "len_of_sring2('pen', 'pigs')"
   ]
  },
  {
   "cell_type": "code",
   "execution_count": 11,
   "metadata": {},
   "outputs": [],
   "source": [
    "# find, open, close, read, write and kill file"
   ]
  },
  {
   "cell_type": "code",
   "execution_count": 12,
   "metadata": {},
   "outputs": [],
   "source": [
    "import os"
   ]
  },
  {
   "cell_type": "code",
   "execution_count": 13,
   "metadata": {},
   "outputs": [
    {
     "data": {
      "text/plain": [
       "['Notes_001.ipynb',\n",
       " '.DS_Store',\n",
       " '20190430_python101_note.md',\n",
       " 'python101_0326.md',\n",
       " '20190507.ipynb',\n",
       " '__pycache__',\n",
       " 'my_python.py',\n",
       " 'README.md',\n",
       " 'python101_demo_data',\n",
       " 'python_code.py',\n",
       " 'simpleCal.py',\n",
       " 'index.md',\n",
       " 'Momemto.ipynb',\n",
       " '_config.yml',\n",
       " 'Project001.ipynb',\n",
       " 'Project003.ipynb',\n",
       " '.ipynb_checkpoints',\n",
       " '.git',\n",
       " 'Project002.ipynb']"
      ]
     },
     "execution_count": 13,
     "metadata": {},
     "output_type": "execute_result"
    }
   ],
   "source": [
    "os.listdir()"
   ]
  },
  {
   "cell_type": "code",
   "execution_count": 14,
   "metadata": {},
   "outputs": [
    {
     "name": "stdout",
     "output_type": "stream",
     "text": [
      "['Notes_001.ipynb', '.DS_Store', '20190430_python101_note.md', 'python101_0326.md', '20190507.ipynb', '__pycache__', 'my_python.py', 'README.md', 'python101_demo_data', 'python_code.py', 'simpleCal.py', 'index.md', 'Momemto.ipynb', '_config.yml', 'Project001.ipynb', 'Project003.ipynb', '.ipynb_checkpoints', '.git', 'Project002.ipynb']\n"
     ]
    }
   ],
   "source": [
    "print(os.listdir())"
   ]
  },
  {
   "cell_type": "code",
   "execution_count": 15,
   "metadata": {},
   "outputs": [
    {
     "name": "stdout",
     "output_type": "stream",
     "text": [
      "<class 'list'>\n"
     ]
    }
   ],
   "source": [
    "print(type(os.listdir()))"
   ]
  },
  {
   "cell_type": "code",
   "execution_count": 16,
   "metadata": {},
   "outputs": [
    {
     "data": {
      "text/plain": [
       "['.DS_Store', '.localized', 'Wallpapers', 'GitHub']"
      ]
     },
     "execution_count": 16,
     "metadata": {},
     "output_type": "execute_result"
    }
   ],
   "source": [
    "os.listdir('/Users/diploderma/Documents/')"
   ]
  },
  {
   "cell_type": "code",
   "execution_count": 18,
   "metadata": {},
   "outputs": [
    {
     "name": "stdout",
     "output_type": "stream",
     "text": [
      "my_python.py\n"
     ]
    }
   ],
   "source": [
    "for file in os.listdir() :\n",
    "    if 'my_python.py' == file :\n",
    "        print(file)"
   ]
  },
  {
   "cell_type": "code",
   "execution_count": 27,
   "metadata": {},
   "outputs": [
    {
     "name": "stdout",
     "output_type": "stream",
     "text": [
      "['def add(a, b):\\n', '    return (a + b)']\n"
     ]
    }
   ],
   "source": [
    "for file in os.listdir() :\n",
    "    if 'my_python.py' == file :\n",
    "        open_file = open(file)\n",
    "        #print(open_file)\n",
    "        #print(open_file.read())\n",
    "        #print(type(open_file.read()))\n",
    "        print(open_file.readlines())\n",
    "# 會印出有斷行符號"
   ]
  },
  {
   "cell_type": "code",
   "execution_count": 28,
   "metadata": {},
   "outputs": [
    {
     "name": "stdout",
     "output_type": "stream",
     "text": [
      "['def add(a, b):', '    return (a + b)']\n"
     ]
    }
   ],
   "source": [
    "for file in os.listdir() :\n",
    "    if 'my_python.py' == file :\n",
    "        open_file = open(file)\n",
    "        reading = open_file.read().splitlines()\n",
    "        print(reading)\n",
    "        break\n",
    "# 不會有斷行符號"
   ]
  },
  {
   "cell_type": "code",
   "execution_count": 32,
   "metadata": {},
   "outputs": [
    {
     "name": "stdout",
     "output_type": "stream",
     "text": [
      "['def add(a, b):', '    return (a + b)']\n",
      "[]\n"
     ]
    }
   ],
   "source": [
    "for file in os.listdir() :\n",
    "    if 'my_python.py' == file :\n",
    "        open_file = open(file)\n",
    "        reading1 = open_file.read().splitlines()\n",
    "        reading2 = open_file.read().splitlines()\n",
    "        print(reading1)\n",
    "        print(reading2)\n",
    "# 不能同時開兩次一樣的檔案，要先關掉才能再打開一次"
   ]
  },
  {
   "cell_type": "code",
   "execution_count": 33,
   "metadata": {},
   "outputs": [
    {
     "name": "stdout",
     "output_type": "stream",
     "text": [
      "['def add(a, b):', '    return (a + b)']\n",
      "['def add(a, b):', '    return (a + b)']\n"
     ]
    }
   ],
   "source": [
    "for file in os.listdir() :\n",
    "    if 'my_python.py' == file :\n",
    "        open_file = open(file)\n",
    "        reading1 = open_file.read().splitlines()\n",
    "        open_file.close()\n",
    "        open_file = open(file)\n",
    "        reading2 = open_file.read().splitlines()\n",
    "        print(reading1)\n",
    "        print(reading2)"
   ]
  },
  {
   "cell_type": "code",
   "execution_count": 37,
   "metadata": {},
   "outputs": [
    {
     "name": "stdout",
     "output_type": "stream",
     "text": [
      "<_io.TextIOWrapper name='my_python.py' mode='r' encoding='UTF-8'>\n",
      "['def add(a, b):', '    return (a + b)']\n",
      "<_io.TextIOWrapper name='my_python.py' mode='r' encoding='UTF-8'>\n",
      "['def add(a, b):', '    return (a + b)']\n"
     ]
    }
   ],
   "source": [
    "for file in os.listdir() :\n",
    "    if 'my_python.py' == file :\n",
    "        with open(file) as rf1 :\n",
    "            print(rf1)\n",
    "            print(rf1.read().splitlines())\n",
    "        with open(file) as rf2 :\n",
    "            print(rf2)\n",
    "            print(rf2.read().splitlines())\n",
    "# 用with可以不用使用close function"
   ]
  },
  {
   "cell_type": "code",
   "execution_count": 39,
   "metadata": {},
   "outputs": [],
   "source": [
    "# open --> read --> close\n",
    "# with open ... (auto close the file you open)"
   ]
  },
  {
   "cell_type": "code",
   "execution_count": 40,
   "metadata": {},
   "outputs": [
    {
     "data": {
      "text/plain": [
       "['Proton_A_890_20190328_IonXpress_063.base.cov.xls',\n",
       " 'Proton_A_868_20190125_IonXpress_002_TSVC_variants.vcf',\n",
       " 'Proton_A_868_20190125_IonXpress_064_TSVC_variants.vcf',\n",
       " 'Proton_A_890_20190328_IonXpress_066.stats.cov.txt',\n",
       " 'Proton_A_890_20190328_IonXpress_062.stats.cov.txt',\n",
       " 'Proton_A_878_20190305_IonXpress_072.amplicon.cov.xls',\n",
       " 'Proton_A_890_20190328_IonXpress_065.stats.cov.txt',\n",
       " 'Proton_A_890_20190328_IonXpress_063.amplicon.cov.xls',\n",
       " 'Proton_A_878_20190305_IonXpress_076.amplicon.cov.xls',\n",
       " 'Proton_A_868_20190125_IonXpress_003_TSVC_variants.vcf',\n",
       " 'Proton_A_890_20190328_IonXpress_065.base.cov.xls',\n",
       " 'Proton_A_890_20190328_IonXpress_062.base.cov.xls',\n",
       " 'Proton_A_868_20190125_IonXpress_065_TSVC_variants.vcf',\n",
       " 'Proton_A_845_20181220_IonXpress_038.stats.cov.txt',\n",
       " 'Proton_A_868_20190125_IonXpress_060_TSVC_variants.vcf',\n",
       " 'Proton_A_878_20190305_IonXpress_073.base.cov.xls',\n",
       " 'Proton_A_878_20190305_IonXpress_074.base.cov.xls',\n",
       " 'Proton_A_878_20190305_IonXpress_071.stats.cov.txt',\n",
       " 'Proton_A_878_20190305_IonXpress_075.stats.cov.txt',\n",
       " 'Proton_A_868_20190125_IonXpress_066_TSVC_variants.vcf',\n",
       " 'Proton_A_878_20190305_IonXpress_073.amplicon.cov.xls',\n",
       " 'Proton_A_890_20190328_IonXpress_066.amplicon.cov.xls',\n",
       " 'Proton_A_845_20181220_IonXpress_037.base.cov.xls',\n",
       " 'Proton_A_891_20190402_IonXpress_067_TSVC_variants.vcf',\n",
       " 'Proton_A_868_20190125_IonXpress_063_TSVC_variants.vcf',\n",
       " 'Proton_A_868_20190125_IonXpress_001_TSVC_variants.vcf',\n",
       " 'Proton_A_878_20190305_IonXpress_077.amplicon.cov.xls',\n",
       " 'Proton_A_890_20190328_IonXpress_062.amplicon.cov.xls',\n",
       " 'Proton_A_878_20190305_IonXpress_075.base.cov.xls',\n",
       " 'Proton_A_845_20181220_IonXpress_040.base.cov.xls',\n",
       " 'Proton_A_878_20190305_IonXpress_072.base.cov.xls',\n",
       " 'Proton_A_878_20190305_IonXpress_072.stats.cov.txt',\n",
       " 'Proton_A_845_20181220_IonXpress_040.amplicon.cov.xls',\n",
       " 'Proton_A_868_20190125_IonXpress_062_TSVC_variants.vcf',\n",
       " 'Proton_A_878_20190305_IonXpress_076.stats.cov.txt',\n",
       " 'Proton_A_890_20190328_IonXpress_065.amplicon.cov.xls',\n",
       " 'Proton_A_878_20190305_IonXpress_077.base.cov.xls',\n",
       " 'Proton_A_868_20190125_IonXpress_093_TSVC_variants.vcf',\n",
       " 'Proton_A_878_20190305_IonXpress_077.stats.cov.txt',\n",
       " 'Proton_A_878_20190305_IonXpress_073.stats.cov.txt',\n",
       " 'Proton_A_845_20181220_IonXpress_040.stats.cov.txt',\n",
       " 'Proton_A_868_20190125_IonXpress_096_TSVC_variants.vcf',\n",
       " 'Proton_A_878_20190305_IonXpress_076.base.cov.xls',\n",
       " 'Proton_A_878_20190305_IonXpress_074.stats.cov.txt',\n",
       " 'Proton_A_878_20190305_IonXpress_071.base.cov.xls',\n",
       " 'Proton_A_845_20181220_IonXpress_039.amplicon.cov.xls',\n",
       " 'Proton_A_845_20181220_IonXpress_037.stats.cov.txt',\n",
       " 'Proton_A_878_20190305_IonXpress_074.amplicon.cov.xls',\n",
       " 'Proton_A_845_20181220_IonXpress_039.stats.cov.txt',\n",
       " 'Proton_A_891_20190402_IonXpress_071_TSVC_variants.vcf',\n",
       " 'Proton_A_845_20181220_IonXpress_037.amplicon.cov.xls',\n",
       " 'Proton_A_845_20181220_IonXpress_038.base.cov.xls',\n",
       " 'Proton_A_878_20190305_IonXpress_071.amplicon.cov.xls',\n",
       " 'Proton_A_891_20190402_IonXpress_068_TSVC_variants.vcf',\n",
       " 'Proton_A_868_20190125_IonXpress_094_TSVC_variants.vcf',\n",
       " 'Proton_A_890_20190328_IonXpress_066.base.cov.xls',\n",
       " 'Proton_A_845_20181220_IonXpress_039.base.cov.xls',\n",
       " 'Proton_A_891_20190402_IonXpress_070_TSVC_variants.vcf',\n",
       " 'Proton_A_845_20181220_IonXpress_038.amplicon.cov.xls',\n",
       " 'Proton_A_868_20190125_IonXpress_090_TSVC_variants.vcf',\n",
       " 'Proton_A_868_20190125_IonXpress_059_TSVC_variants.vcf',\n",
       " 'Proton_A_878_20190305_IonXpress_075.amplicon.cov.xls',\n",
       " 'Proton_A_890_20190328_IonXpress_063.stats.cov.txt',\n",
       " 'Proton_A_868_20190125_IonXpress_095_TSVC_variants.vcf']"
      ]
     },
     "execution_count": 40,
     "metadata": {},
     "output_type": "execute_result"
    }
   ],
   "source": [
    "os.listdir('/Users/diploderma/Documents/GitHub/pyResources/python101_demo_data/data_wo_subdir/')"
   ]
  },
  {
   "cell_type": "code",
   "execution_count": 46,
   "metadata": {},
   "outputs": [
    {
     "ename": "SyntaxError",
     "evalue": "unexpected EOF while parsing (<ipython-input-46-5102a42de806>, line 4)",
     "output_type": "error",
     "traceback": [
      "\u001b[0;36m  File \u001b[0;32m\"<ipython-input-46-5102a42de806>\"\u001b[0;36m, line \u001b[0;32m4\u001b[0m\n\u001b[0;31m    \u001b[0m\n\u001b[0m    ^\u001b[0m\n\u001b[0;31mSyntaxError\u001b[0m\u001b[0;31m:\u001b[0m unexpected EOF while parsing\n"
     ]
    }
   ],
   "source": [
    "for file in os.listdir('/Users/diploderma/Documents/GitHub/pyResources/python101_demo_data/data_wo_subdir/') :\n",
    "    if '.txt' in file :\n",
    "        with open(i) as t5 :\n",
    "            "
   ]
  },
  {
   "cell_type": "code",
   "execution_count": 70,
   "metadata": {},
   "outputs": [
    {
     "name": "stdout",
     "output_type": "stream",
     "text": [
      "Proton_A_890_20190328_IonXpress_066.stats.cov.txt\n",
      " ['Coverage Analysis Report', '', 'Sample Name: F00535_D1', 'Reference Genome: hg19', 'Target Regions: 4Pool_ONCOv2_Designed_plus_PGx_20170704']\n",
      "Proton_A_890_20190328_IonXpress_062.stats.cov.txt\n",
      " ['Coverage Analysis Report', '', 'Sample Name: F00532_D1', 'Reference Genome: hg19', 'Target Regions: 4Pool_ONCOv2_Designed_plus_PGx_20170704']\n",
      "Proton_A_890_20190328_IonXpress_065.stats.cov.txt\n",
      " ['Coverage Analysis Report', '', 'Sample Name: F00534_D1', 'Reference Genome: hg19', 'Target Regions: 4Pool_ONCOv2_Designed_plus_PGx_20170704']\n",
      "Proton_A_845_20181220_IonXpress_038.stats.cov.txt\n",
      " ['Coverage Analysis Report', '', 'Sample Name: E02148_D1', 'Reference Genome: hg19', 'Target Regions: 4Pool_ONCOv2_Designed_plus_PGx_20170704']\n",
      "Proton_A_878_20190305_IonXpress_071.stats.cov.txt\n",
      " ['Coverage Analysis Report', '', 'Sample Name: F00369_D1', 'Reference Genome: hg19', 'Target Regions: Onco2M7_Designed_20180402']\n",
      "Proton_A_878_20190305_IonXpress_075.stats.cov.txt\n",
      " ['Coverage Analysis Report', '', 'Sample Name: F00373_D1', 'Reference Genome: hg19', 'Target Regions: ACTBRCA_ACTBRCAv2_PA026_20180425']\n",
      "Proton_A_878_20190305_IonXpress_072.stats.cov.txt\n",
      " ['Coverage Analysis Report', '', 'Sample Name: F00371_D1', 'Reference Genome: hg19', 'Target Regions: Onco2M7_Designed_20180402']\n",
      "Proton_A_878_20190305_IonXpress_076.stats.cov.txt\n",
      " ['Coverage Analysis Report', '', 'Sample Name: F00378_D1', 'Reference Genome: hg19', 'Target Regions: ACTDrugv4_PNID_PA027M1']\n",
      "Proton_A_878_20190305_IonXpress_077.stats.cov.txt\n",
      " ['Coverage Analysis Report', '', 'Sample Name: F00378_R1', 'Reference Genome: hg19', 'Target Regions: CHP2.20131001.designed']\n",
      "Proton_A_878_20190305_IonXpress_073.stats.cov.txt\n",
      " ['Coverage Analysis Report', '', 'Sample Name: F00365_D1', 'Reference Genome: hg19', 'Target Regions: PA013_ACTRisk_IAD93167_182_Designed']\n",
      "Proton_A_845_20181220_IonXpress_040.stats.cov.txt\n",
      " ['Coverage Analysis Report', '', 'Sample Name: E02163_D1', 'Reference Genome: hg19', 'Target Regions: 4Pool_ONCOv2_Designed_plus_PGx_20170704']\n",
      "Proton_A_878_20190305_IonXpress_074.stats.cov.txt\n",
      " ['Coverage Analysis Report', '', 'Sample Name: F00374_D1', 'Reference Genome: hg19', 'Target Regions: PA015_MoniLungv2_IAD124247_231_Designed_addMET']\n",
      "Proton_A_845_20181220_IonXpress_037.stats.cov.txt\n",
      " ['Coverage Analysis Report', '', 'Sample Name: E02140_D1', 'Reference Genome: hg19', 'Target Regions: 4Pool_ONCOv2_Designed_plus_PGx_20170704']\n",
      "Proton_A_845_20181220_IonXpress_039.stats.cov.txt\n",
      " ['Coverage Analysis Report', '', 'Sample Name: E02162_D1', 'Reference Genome: hg19', 'Target Regions: 4Pool_ONCOv2_Designed_plus_PGx_20170704']\n",
      "Proton_A_890_20190328_IonXpress_063.stats.cov.txt\n",
      " ['Coverage Analysis Report', '', 'Sample Name: F00533_D1', 'Reference Genome: hg19', 'Target Regions: 4Pool_ONCOv2_Designed_plus_PGx_20170704']\n"
     ]
    }
   ],
   "source": [
    "for file in os.listdir('/Users/diploderma/Documents/GitHub/pyResources/python101_demo_data/data_wo_subdir/') :\n",
    "    if file.endswith('txt') :\n",
    "        file_path = '/Users/diploderma/Documents/GitHub/pyResources/python101_demo_data/data_wo_subdir/' + file\n",
    "        with open(file_path) as rf :\n",
    "            row_5 = rf.read().splitlines()[0:5]\n",
    "            print(file + '\\n', row_5)"
   ]
  },
  {
   "cell_type": "code",
   "execution_count": 71,
   "metadata": {},
   "outputs": [
    {
     "name": "stdout",
     "output_type": "stream",
     "text": [
      "/Users/diploderma/Documents/GitHub/pyResources/python101_demo_data/data_wo_subdir/Proton_A_890_20190328_IonXpress_066.stats.cov.txt\n",
      "/Users/diploderma/Documents/GitHub/pyResources/python101_demo_data/data_wo_subdir/Proton_A_890_20190328_IonXpress_062.stats.cov.txt\n",
      "/Users/diploderma/Documents/GitHub/pyResources/python101_demo_data/data_wo_subdir/Proton_A_890_20190328_IonXpress_065.stats.cov.txt\n",
      "/Users/diploderma/Documents/GitHub/pyResources/python101_demo_data/data_wo_subdir/Proton_A_845_20181220_IonXpress_038.stats.cov.txt\n",
      "/Users/diploderma/Documents/GitHub/pyResources/python101_demo_data/data_wo_subdir/Proton_A_878_20190305_IonXpress_071.stats.cov.txt\n",
      "/Users/diploderma/Documents/GitHub/pyResources/python101_demo_data/data_wo_subdir/Proton_A_878_20190305_IonXpress_075.stats.cov.txt\n",
      "/Users/diploderma/Documents/GitHub/pyResources/python101_demo_data/data_wo_subdir/Proton_A_878_20190305_IonXpress_072.stats.cov.txt\n",
      "/Users/diploderma/Documents/GitHub/pyResources/python101_demo_data/data_wo_subdir/Proton_A_878_20190305_IonXpress_076.stats.cov.txt\n",
      "/Users/diploderma/Documents/GitHub/pyResources/python101_demo_data/data_wo_subdir/Proton_A_878_20190305_IonXpress_077.stats.cov.txt\n",
      "/Users/diploderma/Documents/GitHub/pyResources/python101_demo_data/data_wo_subdir/Proton_A_878_20190305_IonXpress_073.stats.cov.txt\n",
      "/Users/diploderma/Documents/GitHub/pyResources/python101_demo_data/data_wo_subdir/Proton_A_845_20181220_IonXpress_040.stats.cov.txt\n",
      "/Users/diploderma/Documents/GitHub/pyResources/python101_demo_data/data_wo_subdir/Proton_A_878_20190305_IonXpress_074.stats.cov.txt\n",
      "/Users/diploderma/Documents/GitHub/pyResources/python101_demo_data/data_wo_subdir/Proton_A_845_20181220_IonXpress_037.stats.cov.txt\n",
      "/Users/diploderma/Documents/GitHub/pyResources/python101_demo_data/data_wo_subdir/Proton_A_845_20181220_IonXpress_039.stats.cov.txt\n",
      "/Users/diploderma/Documents/GitHub/pyResources/python101_demo_data/data_wo_subdir/Proton_A_890_20190328_IonXpress_063.stats.cov.txt\n"
     ]
    }
   ],
   "source": [
    "for root, subdirs, files in os.walk('/Users/diploderma/Documents/GitHub/pyResources/python101_demo_data/data_wo_subdir/') :\n",
    "    for file in files :\n",
    "        if file.endswith('txt') :\n",
    "            print(os.path.join(root, file))"
   ]
  },
  {
   "cell_type": "code",
   "execution_count": 64,
   "metadata": {},
   "outputs": [
    {
     "name": "stdout",
     "output_type": "stream",
     "text": [
      "/Users/diploderma/Documents/GitHub/pyResources/python101_demo_data/data_wo_subdir/ [] ['Proton_A_890_20190328_IonXpress_063.base.cov.xls', 'Proton_A_868_20190125_IonXpress_002_TSVC_variants.vcf', 'Proton_A_868_20190125_IonXpress_064_TSVC_variants.vcf', 'Proton_A_890_20190328_IonXpress_066.stats.cov.txt', 'Proton_A_890_20190328_IonXpress_062.stats.cov.txt', 'Proton_A_878_20190305_IonXpress_072.amplicon.cov.xls', 'Proton_A_890_20190328_IonXpress_065.stats.cov.txt', 'Proton_A_890_20190328_IonXpress_063.amplicon.cov.xls', 'Proton_A_878_20190305_IonXpress_076.amplicon.cov.xls', 'Proton_A_868_20190125_IonXpress_003_TSVC_variants.vcf', 'Proton_A_890_20190328_IonXpress_065.base.cov.xls', 'Proton_A_890_20190328_IonXpress_062.base.cov.xls', 'Proton_A_868_20190125_IonXpress_065_TSVC_variants.vcf', 'Proton_A_845_20181220_IonXpress_038.stats.cov.txt', 'Proton_A_868_20190125_IonXpress_060_TSVC_variants.vcf', 'Proton_A_878_20190305_IonXpress_073.base.cov.xls', 'Proton_A_878_20190305_IonXpress_074.base.cov.xls', 'Proton_A_878_20190305_IonXpress_071.stats.cov.txt', 'Proton_A_878_20190305_IonXpress_075.stats.cov.txt', 'Proton_A_868_20190125_IonXpress_066_TSVC_variants.vcf', 'Proton_A_878_20190305_IonXpress_073.amplicon.cov.xls', 'Proton_A_890_20190328_IonXpress_066.amplicon.cov.xls', 'Proton_A_845_20181220_IonXpress_037.base.cov.xls', 'Proton_A_891_20190402_IonXpress_067_TSVC_variants.vcf', 'Proton_A_868_20190125_IonXpress_063_TSVC_variants.vcf', 'Proton_A_868_20190125_IonXpress_001_TSVC_variants.vcf', 'Proton_A_878_20190305_IonXpress_077.amplicon.cov.xls', 'Proton_A_890_20190328_IonXpress_062.amplicon.cov.xls', 'Proton_A_878_20190305_IonXpress_075.base.cov.xls', 'Proton_A_845_20181220_IonXpress_040.base.cov.xls', 'Proton_A_878_20190305_IonXpress_072.base.cov.xls', 'Proton_A_878_20190305_IonXpress_072.stats.cov.txt', 'Proton_A_845_20181220_IonXpress_040.amplicon.cov.xls', 'Proton_A_868_20190125_IonXpress_062_TSVC_variants.vcf', 'Proton_A_878_20190305_IonXpress_076.stats.cov.txt', 'Proton_A_890_20190328_IonXpress_065.amplicon.cov.xls', 'Proton_A_878_20190305_IonXpress_077.base.cov.xls', 'Proton_A_868_20190125_IonXpress_093_TSVC_variants.vcf', 'Proton_A_878_20190305_IonXpress_077.stats.cov.txt', 'Proton_A_878_20190305_IonXpress_073.stats.cov.txt', 'Proton_A_845_20181220_IonXpress_040.stats.cov.txt', 'Proton_A_868_20190125_IonXpress_096_TSVC_variants.vcf', 'Proton_A_878_20190305_IonXpress_076.base.cov.xls', 'Proton_A_878_20190305_IonXpress_074.stats.cov.txt', 'Proton_A_878_20190305_IonXpress_071.base.cov.xls', 'Proton_A_845_20181220_IonXpress_039.amplicon.cov.xls', 'Proton_A_845_20181220_IonXpress_037.stats.cov.txt', 'Proton_A_878_20190305_IonXpress_074.amplicon.cov.xls', 'Proton_A_845_20181220_IonXpress_039.stats.cov.txt', 'Proton_A_891_20190402_IonXpress_071_TSVC_variants.vcf', 'Proton_A_845_20181220_IonXpress_037.amplicon.cov.xls', 'Proton_A_845_20181220_IonXpress_038.base.cov.xls', 'Proton_A_878_20190305_IonXpress_071.amplicon.cov.xls', 'Proton_A_891_20190402_IonXpress_068_TSVC_variants.vcf', 'Proton_A_868_20190125_IonXpress_094_TSVC_variants.vcf', 'Proton_A_890_20190328_IonXpress_066.base.cov.xls', 'Proton_A_845_20181220_IonXpress_039.base.cov.xls', 'Proton_A_891_20190402_IonXpress_070_TSVC_variants.vcf', 'Proton_A_845_20181220_IonXpress_038.amplicon.cov.xls', 'Proton_A_868_20190125_IonXpress_090_TSVC_variants.vcf', 'Proton_A_868_20190125_IonXpress_059_TSVC_variants.vcf', 'Proton_A_878_20190305_IonXpress_075.amplicon.cov.xls', 'Proton_A_890_20190328_IonXpress_063.stats.cov.txt', 'Proton_A_868_20190125_IonXpress_095_TSVC_variants.vcf']\n"
     ]
    }
   ],
   "source": [
    "for root, subdirs, files in os.walk('/Users/diploderma/Documents/GitHub/pyResources/python101_demo_data/data_wo_subdir/') :\n",
    "    print(root, subdirs, files)"
   ]
  },
  {
   "cell_type": "code",
   "execution_count": 74,
   "metadata": {},
   "outputs": [
    {
     "name": "stdout",
     "output_type": "stream",
     "text": [
      "Proton_A_890_20190328_IonXpress_066.stats.cov.txt\n",
      " ['Coverage Analysis Report', '', 'Sample Name: F00535_D1', 'Reference Genome: hg19', 'Target Regions: 4Pool_ONCOv2_Designed_plus_PGx_20170704']\n",
      "Proton_A_890_20190328_IonXpress_062.stats.cov.txt\n",
      " ['Coverage Analysis Report', '', 'Sample Name: F00532_D1', 'Reference Genome: hg19', 'Target Regions: 4Pool_ONCOv2_Designed_plus_PGx_20170704']\n",
      "Proton_A_890_20190328_IonXpress_065.stats.cov.txt\n",
      " ['Coverage Analysis Report', '', 'Sample Name: F00534_D1', 'Reference Genome: hg19', 'Target Regions: 4Pool_ONCOv2_Designed_plus_PGx_20170704']\n",
      "Proton_A_845_20181220_IonXpress_038.stats.cov.txt\n",
      " ['Coverage Analysis Report', '', 'Sample Name: E02148_D1', 'Reference Genome: hg19', 'Target Regions: 4Pool_ONCOv2_Designed_plus_PGx_20170704']\n",
      "Proton_A_878_20190305_IonXpress_071.stats.cov.txt\n",
      " ['Coverage Analysis Report', '', 'Sample Name: F00369_D1', 'Reference Genome: hg19', 'Target Regions: Onco2M7_Designed_20180402']\n",
      "Proton_A_878_20190305_IonXpress_075.stats.cov.txt\n",
      " ['Coverage Analysis Report', '', 'Sample Name: F00373_D1', 'Reference Genome: hg19', 'Target Regions: ACTBRCA_ACTBRCAv2_PA026_20180425']\n",
      "Proton_A_878_20190305_IonXpress_072.stats.cov.txt\n",
      " ['Coverage Analysis Report', '', 'Sample Name: F00371_D1', 'Reference Genome: hg19', 'Target Regions: Onco2M7_Designed_20180402']\n",
      "Proton_A_878_20190305_IonXpress_076.stats.cov.txt\n",
      " ['Coverage Analysis Report', '', 'Sample Name: F00378_D1', 'Reference Genome: hg19', 'Target Regions: ACTDrugv4_PNID_PA027M1']\n",
      "Proton_A_878_20190305_IonXpress_077.stats.cov.txt\n",
      " ['Coverage Analysis Report', '', 'Sample Name: F00378_R1', 'Reference Genome: hg19', 'Target Regions: CHP2.20131001.designed']\n",
      "Proton_A_878_20190305_IonXpress_073.stats.cov.txt\n",
      " ['Coverage Analysis Report', '', 'Sample Name: F00365_D1', 'Reference Genome: hg19', 'Target Regions: PA013_ACTRisk_IAD93167_182_Designed']\n",
      "Proton_A_845_20181220_IonXpress_040.stats.cov.txt\n",
      " ['Coverage Analysis Report', '', 'Sample Name: E02163_D1', 'Reference Genome: hg19', 'Target Regions: 4Pool_ONCOv2_Designed_plus_PGx_20170704']\n",
      "Proton_A_878_20190305_IonXpress_074.stats.cov.txt\n",
      " ['Coverage Analysis Report', '', 'Sample Name: F00374_D1', 'Reference Genome: hg19', 'Target Regions: PA015_MoniLungv2_IAD124247_231_Designed_addMET']\n",
      "Proton_A_845_20181220_IonXpress_037.stats.cov.txt\n",
      " ['Coverage Analysis Report', '', 'Sample Name: E02140_D1', 'Reference Genome: hg19', 'Target Regions: 4Pool_ONCOv2_Designed_plus_PGx_20170704']\n",
      "Proton_A_845_20181220_IonXpress_039.stats.cov.txt\n",
      " ['Coverage Analysis Report', '', 'Sample Name: E02162_D1', 'Reference Genome: hg19', 'Target Regions: 4Pool_ONCOv2_Designed_plus_PGx_20170704']\n",
      "Proton_A_890_20190328_IonXpress_063.stats.cov.txt\n",
      " ['Coverage Analysis Report', '', 'Sample Name: F00533_D1', 'Reference Genome: hg19', 'Target Regions: 4Pool_ONCOv2_Designed_plus_PGx_20170704']\n"
     ]
    }
   ],
   "source": [
    "for root, subdirs, files in os.walk('/Users/diploderma/Documents/GitHub/pyResources/python101_demo_data/data_wo_subdir/') :\n",
    "    for file in files :\n",
    "        if file.endswith('txt') :\n",
    "            with open(os.path.join(root, file)) as rf :\n",
    "                print(file + '\\n', rf.read().splitlines()[0:5])\n",
    "# 使用os.walk可以不用煩惱所有subdir的路徑，若只使用os.listdir，只能尋找該路徑下的目錄，不能包含子目錄"
   ]
  },
  {
   "cell_type": "code",
   "execution_count": null,
   "metadata": {},
   "outputs": [],
   "source": []
  },
  {
   "cell_type": "code",
   "execution_count": null,
   "metadata": {},
   "outputs": [],
   "source": []
  },
  {
   "cell_type": "code",
   "execution_count": null,
   "metadata": {},
   "outputs": [],
   "source": []
  },
  {
   "cell_type": "code",
   "execution_count": null,
   "metadata": {},
   "outputs": [],
   "source": []
  },
  {
   "cell_type": "code",
   "execution_count": null,
   "metadata": {},
   "outputs": [],
   "source": []
  }
 ],
 "metadata": {
  "kernelspec": {
   "display_name": "Python 3",
   "language": "python",
   "name": "python3"
  },
  "language_info": {
   "codemirror_mode": {
    "name": "ipython",
    "version": 3
   },
   "file_extension": ".py",
   "mimetype": "text/x-python",
   "name": "python",
   "nbconvert_exporter": "python",
   "pygments_lexer": "ipython3",
   "version": "3.7.1"
  }
 },
 "nbformat": 4,
 "nbformat_minor": 2
}
