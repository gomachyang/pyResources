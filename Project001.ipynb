{
 "cells": [
  {
   "cell_type": "code",
   "execution_count": null,
   "metadata": {},
   "outputs": [],
   "source": [
    "## First project\n",
    "\n",
    "### search .ipynb in projects\n",
    "\n",
    " - number\n",
    " - file name"
   ]
  },
  {
   "cell_type": "code",
   "execution_count": 1,
   "metadata": {},
   "outputs": [],
   "source": [
    "import os"
   ]
  },
  {
   "cell_type": "code",
   "execution_count": 2,
   "metadata": {},
   "outputs": [
    {
     "data": {
      "text/plain": [
       "['demo002.ipynb',\n",
       " 'demo000.ipynb',\n",
       " 'demo004.py',\n",
       " 'demo001.ipynb',\n",
       " 'demo003.ipynb',\n",
       " 'README.md',\n",
       " 'python_code.py',\n",
       " 'index.md',\n",
       " '_config.yml',\n",
       " 'project001.ipynb',\n",
       " '.ipynb_checkpoints',\n",
       " '.git',\n",
       " 'animals_hero_lizards.jpg']"
      ]
     },
     "execution_count": 2,
     "metadata": {},
     "output_type": "execute_result"
    }
   ],
   "source": [
    "os.listdir()"
   ]
  },
  {
   "cell_type": "code",
   "execution_count": 3,
   "metadata": {},
   "outputs": [
    {
     "data": {
      "text/plain": [
       "['demo002.ipynb',\n",
       " 'demo000.ipynb',\n",
       " 'demo004.py',\n",
       " 'demo001.ipynb',\n",
       " 'demo003.ipynb',\n",
       " 'README.md',\n",
       " 'python_code.py',\n",
       " 'index.md',\n",
       " '_config.yml',\n",
       " 'project001.ipynb',\n",
       " '.ipynb_checkpoints',\n",
       " '.git',\n",
       " 'animals_hero_lizards.jpg']"
      ]
     },
     "execution_count": 3,
     "metadata": {},
     "output_type": "execute_result"
    }
   ],
   "source": [
    "os.listdir()"
   ]
  },
  {
   "cell_type": "code",
   "execution_count": 24,
   "metadata": {},
   "outputs": [],
   "source": [
    "files = os.listdir()"
   ]
  },
  {
   "cell_type": "code",
   "execution_count": 8,
   "metadata": {},
   "outputs": [
    {
     "data": {
      "text/plain": [
       "['demo002.ipynb',\n",
       " 'demo000.ipynb',\n",
       " 'demo004.py',\n",
       " 'demo001.ipynb',\n",
       " 'demo003.ipynb',\n",
       " 'README.md',\n",
       " 'python_code.py',\n",
       " 'index.md',\n",
       " '_config.yml',\n",
       " 'project001.ipynb',\n",
       " '.ipynb_checkpoints',\n",
       " '.git',\n",
       " 'animals_hero_lizards.jpg']"
      ]
     },
     "execution_count": 8,
     "metadata": {},
     "output_type": "execute_result"
    }
   ],
   "source": [
    "files"
   ]
  },
  {
   "cell_type": "code",
   "execution_count": 9,
   "metadata": {},
   "outputs": [
    {
     "data": {
      "text/plain": [
       "13"
      ]
     },
     "execution_count": 9,
     "metadata": {},
     "output_type": "execute_result"
    }
   ],
   "source": [
    "len(files)"
   ]
  },
  {
   "cell_type": "code",
   "execution_count": 4,
   "metadata": {},
   "outputs": [
    {
     "data": {
      "text/plain": [
       "range(0, 10)"
      ]
     },
     "execution_count": 4,
     "metadata": {},
     "output_type": "execute_result"
    }
   ],
   "source": [
    "range(10)"
   ]
  },
  {
   "cell_type": "code",
   "execution_count": 5,
   "metadata": {},
   "outputs": [
    {
     "ename": "SyntaxError",
     "evalue": "unexpected EOF while parsing (<ipython-input-5-e61162350cc4>, line 1)",
     "output_type": "error",
     "traceback": [
      "\u001b[0;36m  File \u001b[0;32m\"<ipython-input-5-e61162350cc4>\"\u001b[0;36m, line \u001b[0;32m1\u001b[0m\n\u001b[0;31m    for i in range(10):\u001b[0m\n\u001b[0m                       ^\u001b[0m\n\u001b[0;31mSyntaxError\u001b[0m\u001b[0;31m:\u001b[0m unexpected EOF while parsing\n"
     ]
    }
   ],
   "source": [
    "for i in range(10):"
   ]
  },
  {
   "cell_type": "code",
   "execution_count": 6,
   "metadata": {},
   "outputs": [
    {
     "name": "stdout",
     "output_type": "stream",
     "text": [
      "0\n",
      "1\n",
      "2\n",
      "3\n",
      "4\n",
      "5\n",
      "6\n",
      "7\n",
      "8\n",
      "9\n"
     ]
    }
   ],
   "source": [
    "for i in range(10):\n",
    "    print(i)"
   ]
  },
  {
   "cell_type": "code",
   "execution_count": 10,
   "metadata": {},
   "outputs": [
    {
     "data": {
      "text/plain": [
       "'demo002.ipynb'"
      ]
     },
     "execution_count": 10,
     "metadata": {},
     "output_type": "execute_result"
    }
   ],
   "source": [
    "files[0]"
   ]
  },
  {
   "cell_type": "code",
   "execution_count": 11,
   "metadata": {},
   "outputs": [
    {
     "ename": "TypeError",
     "evalue": "'int' object is not iterable",
     "output_type": "error",
     "traceback": [
      "\u001b[0;31m---------------------------------------------------------------------------\u001b[0m",
      "\u001b[0;31mTypeError\u001b[0m                                 Traceback (most recent call last)",
      "\u001b[0;32m<ipython-input-11-232e21df73bb>\u001b[0m in \u001b[0;36m<module>\u001b[0;34m\u001b[0m\n\u001b[0;32m----> 1\u001b[0;31m \u001b[0;32mfor\u001b[0m \u001b[0mi\u001b[0m \u001b[0;32min\u001b[0m \u001b[0mlen\u001b[0m\u001b[0;34m(\u001b[0m\u001b[0mfiles\u001b[0m\u001b[0;34m)\u001b[0m\u001b[0;34m:\u001b[0m\u001b[0;34m\u001b[0m\u001b[0;34m\u001b[0m\u001b[0m\n\u001b[0m\u001b[1;32m      2\u001b[0m     \u001b[0mprint\u001b[0m\u001b[0;34m(\u001b[0m\u001b[0mi\u001b[0m\u001b[0;34m)\u001b[0m\u001b[0;34m\u001b[0m\u001b[0;34m\u001b[0m\u001b[0m\n",
      "\u001b[0;31mTypeError\u001b[0m: 'int' object is not iterable"
     ]
    }
   ],
   "source": [
    "for i in len(files):\n",
    "    print(i)"
   ]
  },
  {
   "cell_type": "code",
   "execution_count": 12,
   "metadata": {},
   "outputs": [
    {
     "name": "stdout",
     "output_type": "stream",
     "text": [
      "0\n",
      "1\n",
      "2\n",
      "3\n",
      "4\n",
      "5\n",
      "6\n",
      "7\n",
      "8\n",
      "9\n",
      "10\n",
      "11\n",
      "12\n"
     ]
    }
   ],
   "source": [
    "for i in range(len(files)):\n",
    "    print(i)"
   ]
  },
  {
   "cell_type": "code",
   "execution_count": 13,
   "metadata": {},
   "outputs": [
    {
     "name": "stdout",
     "output_type": "stream",
     "text": [
      "demo002.ipynb\n",
      "demo000.ipynb\n",
      "demo004.py\n",
      "demo001.ipynb\n",
      "demo003.ipynb\n",
      "README.md\n",
      "python_code.py\n",
      "index.md\n",
      "_config.yml\n",
      "project001.ipynb\n",
      ".ipynb_checkpoints\n",
      ".git\n",
      "animals_hero_lizards.jpg\n"
     ]
    }
   ],
   "source": [
    "for i in files:\n",
    "    print(i)"
   ]
  },
  {
   "cell_type": "code",
   "execution_count": 18,
   "metadata": {},
   "outputs": [
    {
     "name": "stdout",
     "output_type": "stream",
     "text": [
      "0demo002.ipynb\n",
      "0demo000.ipynb\n",
      "0demo004.py\n",
      "0demo001.ipynb\n",
      "0demo003.ipynb\n",
      "0README.md\n",
      "0python_code.py\n",
      "0index.md\n",
      "0_config.yml\n",
      "0project001.ipynb\n",
      "0.ipynb_checkpoints\n",
      "0.git\n",
      "0animals_hero_lizards.jpg\n"
     ]
    }
   ],
   "source": [
    "i = 0\n",
    "for files in files:\n",
    "    print (str(i+i) + files)"
   ]
  },
  {
   "cell_type": "code",
   "execution_count": 19,
   "metadata": {},
   "outputs": [
    {
     "name": "stdout",
     "output_type": "stream",
     "text": [
      "0a\n",
      "0n\n",
      "0i\n",
      "0m\n",
      "0a\n",
      "0l\n",
      "0s\n",
      "0_\n",
      "0h\n",
      "0e\n",
      "0r\n",
      "0o\n",
      "0_\n",
      "0l\n",
      "0i\n",
      "0z\n",
      "0a\n",
      "0r\n",
      "0d\n",
      "0s\n",
      "0.\n",
      "0j\n",
      "0p\n",
      "0g\n"
     ]
    }
   ],
   "source": [
    "i = 0\n",
    "for files in files:\n",
    "    print (str(i+i) + files)"
   ]
  },
  {
   "cell_type": "code",
   "execution_count": 20,
   "metadata": {},
   "outputs": [
    {
     "name": "stdout",
     "output_type": "stream",
     "text": [
      "1g\n"
     ]
    }
   ],
   "source": [
    "i = 0\n",
    "for files in files:\n",
    "    print (str(i+1) + files)"
   ]
  },
  {
   "cell_type": "code",
   "execution_count": 21,
   "metadata": {},
   "outputs": [
    {
     "name": "stdout",
     "output_type": "stream",
     "text": [
      "0g\n"
     ]
    }
   ],
   "source": [
    "i = 0\n",
    "for _ in files :\n",
    "    print (str(i+i) + files)"
   ]
  },
  {
   "cell_type": "code",
   "execution_count": 22,
   "metadata": {},
   "outputs": [],
   "source": [
    "i = 0\n",
    "for _ in files :\n",
    "    i = i + 1\n",
    "    if '.ipynb' in _ : \n",
    "        print (str(i) + files)"
   ]
  },
  {
   "cell_type": "code",
   "execution_count": 23,
   "metadata": {},
   "outputs": [],
   "source": [
    "i = 0\n",
    "for files in files :\n",
    "    i = i + 1\n",
    "    if '.ipynb' in files : \n",
    "        print (str(i) + files)"
   ]
  },
  {
   "cell_type": "code",
   "execution_count": 25,
   "metadata": {},
   "outputs": [],
   "source": [
    "files = os.listdir()"
   ]
  },
  {
   "cell_type": "code",
   "execution_count": 26,
   "metadata": {},
   "outputs": [
    {
     "data": {
      "text/plain": [
       "['demo002.ipynb',\n",
       " 'demo000.ipynb',\n",
       " 'demo004.py',\n",
       " 'demo001.ipynb',\n",
       " 'demo003.ipynb',\n",
       " 'README.md',\n",
       " 'python_code.py',\n",
       " 'index.md',\n",
       " '_config.yml',\n",
       " 'project001.ipynb',\n",
       " '.ipynb_checkpoints',\n",
       " '.git',\n",
       " 'animals_hero_lizards.jpg']"
      ]
     },
     "execution_count": 26,
     "metadata": {},
     "output_type": "execute_result"
    }
   ],
   "source": [
    "files\n"
   ]
  },
  {
   "cell_type": "code",
   "execution_count": 28,
   "metadata": {},
   "outputs": [],
   "source": [
    "i = 0\n",
    "j = 0\n",
    "for files in files :\n",
    "    i = i + 1\n",
    "    if '.ipynb' in files : \n",
    "        j = j + 1\n",
    "        print (str(i) + files)"
   ]
  },
  {
   "cell_type": "code",
   "execution_count": 32,
   "metadata": {},
   "outputs": [],
   "source": [
    "i = 0\n",
    "for files in files :\n",
    "    if '.ipynb' in files : \n",
    "        print (str(i+1) + files)\n",
    "        i = i + 1"
   ]
  },
  {
   "cell_type": "code",
   "execution_count": 33,
   "metadata": {},
   "outputs": [],
   "source": [
    "files = os.listdir()\n"
   ]
  },
  {
   "cell_type": "code",
   "execution_count": 34,
   "metadata": {},
   "outputs": [
    {
     "name": "stdout",
     "output_type": "stream",
     "text": [
      "1demo002.ipynb\n",
      "2demo000.ipynb\n",
      "3demo001.ipynb\n",
      "4demo003.ipynb\n",
      "5project001.ipynb\n",
      "6.ipynb_checkpoints\n"
     ]
    }
   ],
   "source": [
    "i = 0\n",
    "for files in files :\n",
    "    if '.ipynb' in files : \n",
    "        print (str(i+1) + files)\n",
    "        i = i + 1"
   ]
  },
  {
   "cell_type": "code",
   "execution_count": 35,
   "metadata": {},
   "outputs": [],
   "source": [
    "i = 0\n",
    "for files in files :\n",
    "    if '.ipynb' in files : \n",
    "        print (str(i+1) + files)\n",
    "        i = i + 1"
   ]
  },
  {
   "cell_type": "code",
   "execution_count": 36,
   "metadata": {},
   "outputs": [],
   "source": [
    "i = 0\n",
    "for files in files :\n",
    "    if '.ipynb' in files : \n",
    "        print (str(i+1) + files)\n",
    "        i = i + 1"
   ]
  },
  {
   "cell_type": "code",
   "execution_count": 41,
   "metadata": {},
   "outputs": [],
   "source": [
    "files = os.listdir()"
   ]
  },
  {
   "cell_type": "code",
   "execution_count": 42,
   "metadata": {},
   "outputs": [
    {
     "name": "stdout",
     "output_type": "stream",
     "text": [
      "1demo002.ipynb\n",
      "2demo000.ipynb\n",
      "3demo001.ipynb\n",
      "4demo003.ipynb\n",
      "5project001.ipynb\n",
      "6.ipynb_checkpoints\n"
     ]
    }
   ],
   "source": [
    "i = 0\n",
    "for files in files :\n",
    "    if '.ipynb' in files : \n",
    "        print (str(i+1) + files)\n",
    "        i = i + 1"
   ]
  },
  {
   "cell_type": "code",
   "execution_count": 43,
   "metadata": {},
   "outputs": [],
   "source": [
    "i = 0\n",
    "for files in files :\n",
    "    if '.ipynb' in files : \n",
    "        print (str(i+1) + files)\n",
    "        i = i + 1"
   ]
  },
  {
   "cell_type": "code",
   "execution_count": 44,
   "metadata": {},
   "outputs": [],
   "source": [
    "files = os.listdir()"
   ]
  },
  {
   "cell_type": "code",
   "execution_count": 48,
   "metadata": {},
   "outputs": [],
   "source": [
    "i = 0\n",
    "for file in files :\n",
    "    if '.ipynb' in files : \n",
    "        print (str(i+1) + files)\n",
    "        i = i + 1"
   ]
  },
  {
   "cell_type": "code",
   "execution_count": 46,
   "metadata": {},
   "outputs": [
    {
     "data": {
      "text/plain": [
       "'animals_hero_lizards.jpg'"
      ]
     },
     "execution_count": 46,
     "metadata": {},
     "output_type": "execute_result"
    }
   ],
   "source": [
    "files\n"
   ]
  },
  {
   "cell_type": "code",
   "execution_count": 47,
   "metadata": {},
   "outputs": [
    {
     "data": {
      "text/plain": [
       "'animals_hero_lizards.jpg'"
      ]
     },
     "execution_count": 47,
     "metadata": {},
     "output_type": "execute_result"
    }
   ],
   "source": [
    "files"
   ]
  },
  {
   "cell_type": "code",
   "execution_count": 49,
   "metadata": {},
   "outputs": [],
   "source": [
    "files = os.listdir()\n"
   ]
  },
  {
   "cell_type": "code",
   "execution_count": 52,
   "metadata": {},
   "outputs": [
    {
     "name": "stdout",
     "output_type": "stream",
     "text": [
      "1demo002.ipynb\n",
      "2demo000.ipynb\n",
      "3demo001.ipynb\n",
      "4demo003.ipynb\n",
      "5project001.ipynb\n",
      "6.ipynb_checkpoints\n"
     ]
    }
   ],
   "source": [
    "i = 0\n",
    "for a in files :\n",
    "    if '.ipynb' in a : \n",
    "        print (str(i+1) + a)\n",
    "        i = i + 1"
   ]
  },
  {
   "cell_type": "code",
   "execution_count": 53,
   "metadata": {},
   "outputs": [
    {
     "data": {
      "text/plain": [
       "['demo002.ipynb',\n",
       " 'demo000.ipynb',\n",
       " 'demo004.py',\n",
       " 'demo001.ipynb',\n",
       " 'demo003.ipynb',\n",
       " 'README.md',\n",
       " 'python_code.py',\n",
       " 'index.md',\n",
       " '_config.yml',\n",
       " 'project001.ipynb',\n",
       " '.ipynb_checkpoints',\n",
       " '.git',\n",
       " 'animals_hero_lizards.jpg']"
      ]
     },
     "execution_count": 53,
     "metadata": {},
     "output_type": "execute_result"
    }
   ],
   "source": [
    "files\n"
   ]
  },
  {
   "cell_type": "code",
   "execution_count": 54,
   "metadata": {},
   "outputs": [
    {
     "name": "stdout",
     "output_type": "stream",
     "text": [
      "1demo002.ipynb\n",
      "2demo000.ipynb\n",
      "3demo001.ipynb\n",
      "4demo003.ipynb\n",
      "5project001.ipynb\n",
      "6.ipynb_checkpoints\n",
      "6\n"
     ]
    }
   ],
   "source": [
    "i = 0\n",
    "for a in files :\n",
    "    if '.ipynb' in a : \n",
    "        print (str(i+1) + a)\n",
    "        i = i + 1\n",
    "print(i)"
   ]
  },
  {
   "cell_type": "code",
   "execution_count": 1,
   "metadata": {},
   "outputs": [
    {
     "name": "stdout",
     "output_type": "stream",
     "text": [
      "I am Thomas\n"
     ]
    }
   ],
   "source": [
    "print(\"I am Thomas\")"
   ]
  },
  {
   "cell_type": "code",
   "execution_count": 1,
   "metadata": {},
   "outputs": [],
   "source": [
    "a = 5\n"
   ]
  },
  {
   "cell_type": "code",
   "execution_count": 2,
   "metadata": {},
   "outputs": [
    {
     "data": {
      "text/plain": [
       "5"
      ]
     },
     "execution_count": 2,
     "metadata": {},
     "output_type": "execute_result"
    }
   ],
   "source": [
    "a "
   ]
  },
  {
   "cell_type": "code",
   "execution_count": null,
   "metadata": {},
   "outputs": [],
   "source": [
    "# %load python101_0326.md\n",
    "## python101_0326\n",
    "\n",
    "1. Anaconda install\n",
    "\n",
    "2. Using jupyterlab as our coding tool\n",
    "\n",
    "3. jupyterlab \n",
    "\n",
    "   - command mode :  press 'ESC' \n",
    "   - edit mode : press 'Enter'\n",
    "   - each cell : \n",
    "     - markdown (in command mode : press 'm')\n",
    "     - code (in command mode : press 'y')\n",
    "\n",
    "   - write some codes in cell and execute\n",
    "     - Alt + Enter (execute code and add new cell below)\n",
    "     - Ctrl + Enter (execute code only)\n",
    "     - Shift + Enter (execute code and move to new cell below)\n",
    "\n",
    "   - install package/module in cell\n",
    "     - !pip install emoji (if you want to install python packages you are interesting)\n",
    "     - pypi is the official python packages/modules source\n",
    "\n",
    "   - %run xxx.ipynb or %run xxxx.py (run ipynb or py file in the cell)\n",
    "   - data = 'data here , please using me', %store data and using the data in another ipynb file\n",
    "   - %%wirtefile pythocode.py (output the cell content to pythoncode.py)\n",
    "\n",
    "4. python101 : \n",
    "\n",
    "   - 4 data_type\n",
    "     - int : interger (1, 3, 5)\n",
    "     - float : 小數 (1.3, 2.5)\n",
    "     - string : 字串 ('i am a python string')\n",
    "     - bool : True/False\n",
    "\n",
    "   - assign variable using *=*\n",
    "     - a = 15, b = 'i am a python string'\n",
    "   - compare using *==*(等於) or *!=*(不等於)\n",
    "     - a == 15, a !=16\n",
    "     - b == 'i am a python string', b!='i am not a python string'\n",
    "\n",
    "   - ```python\n",
    "     if a is True:\n",
    "         print (a) # 假設a這個是對的話，則執行下面這件事情\n",
    "     ```"
   ]
  },
  {
   "cell_type": "code",
   "execution_count": 5,
   "metadata": {},
   "outputs": [
    {
     "name": "stdout",
     "output_type": "stream",
     "text": [
      "10\n"
     ]
    }
   ],
   "source": [
    "# %load demo004.py\n",
    "a = 4\n",
    "b = 6\n",
    "print(a+b)"
   ]
  },
  {
   "cell_type": "code",
   "execution_count": 1,
   "metadata": {},
   "outputs": [
    {
     "ename": "SyntaxError",
     "evalue": "invalid syntax (<ipython-input-1-1d67122640cd>, line 1)",
     "output_type": "error",
     "traceback": [
      "\u001b[0;36m  File \u001b[0;32m\"<ipython-input-1-1d67122640cd>\"\u001b[0;36m, line \u001b[0;32m1\u001b[0m\n\u001b[0;31m    type a\u001b[0m\n\u001b[0m         ^\u001b[0m\n\u001b[0;31mSyntaxError\u001b[0m\u001b[0;31m:\u001b[0m invalid syntax\n"
     ]
    }
   ],
   "source": [
    "type a"
   ]
  },
  {
   "cell_type": "code",
   "execution_count": 2,
   "metadata": {},
   "outputs": [
    {
     "ename": "NameError",
     "evalue": "name 'a' is not defined",
     "output_type": "error",
     "traceback": [
      "\u001b[0;31m---------------------------------------------------------------------------\u001b[0m",
      "\u001b[0;31mNameError\u001b[0m                                 Traceback (most recent call last)",
      "\u001b[0;32m<ipython-input-2-b152ec05ccbc>\u001b[0m in \u001b[0;36m<module>\u001b[0;34m\u001b[0m\n\u001b[0;32m----> 1\u001b[0;31m \u001b[0mtype\u001b[0m\u001b[0;34m(\u001b[0m\u001b[0ma\u001b[0m\u001b[0;34m)\u001b[0m\u001b[0;34m\u001b[0m\u001b[0;34m\u001b[0m\u001b[0m\n\u001b[0m",
      "\u001b[0;31mNameError\u001b[0m: name 'a' is not defined"
     ]
    }
   ],
   "source": [
    "type(a)"
   ]
  },
  {
   "cell_type": "code",
   "execution_count": 3,
   "metadata": {},
   "outputs": [],
   "source": [
    "a =5\n"
   ]
  },
  {
   "cell_type": "code",
   "execution_count": 4,
   "metadata": {},
   "outputs": [
    {
     "data": {
      "text/plain": [
       "int"
      ]
     },
     "execution_count": 4,
     "metadata": {},
     "output_type": "execute_result"
    }
   ],
   "source": [
    "type(a)"
   ]
  },
  {
   "cell_type": "code",
   "execution_count": 5,
   "metadata": {},
   "outputs": [],
   "source": [
    "b = 'me'"
   ]
  },
  {
   "cell_type": "code",
   "execution_count": 6,
   "metadata": {},
   "outputs": [
    {
     "data": {
      "text/plain": [
       "str"
      ]
     },
     "execution_count": 6,
     "metadata": {},
     "output_type": "execute_result"
    }
   ],
   "source": [
    "type(b)"
   ]
  },
  {
   "cell_type": "code",
   "execution_count": 7,
   "metadata": {},
   "outputs": [],
   "source": [
    "c = 4.5"
   ]
  },
  {
   "cell_type": "code",
   "execution_count": 8,
   "metadata": {},
   "outputs": [
    {
     "data": {
      "text/plain": [
       "float"
      ]
     },
     "execution_count": 8,
     "metadata": {},
     "output_type": "execute_result"
    }
   ],
   "source": [
    "type(c)"
   ]
  },
  {
   "cell_type": "code",
   "execution_count": 9,
   "metadata": {},
   "outputs": [],
   "source": [
    "d = True "
   ]
  },
  {
   "cell_type": "code",
   "execution_count": 10,
   "metadata": {},
   "outputs": [
    {
     "data": {
      "text/plain": [
       "bool"
      ]
     },
     "execution_count": 10,
     "metadata": {},
     "output_type": "execute_result"
    }
   ],
   "source": [
    "type(d)"
   ]
  },
  {
   "cell_type": "code",
   "execution_count": 11,
   "metadata": {},
   "outputs": [
    {
     "ename": "TypeError",
     "evalue": "type() takes 1 or 3 arguments",
     "output_type": "error",
     "traceback": [
      "\u001b[0;31m---------------------------------------------------------------------------\u001b[0m",
      "\u001b[0;31mTypeError\u001b[0m                                 Traceback (most recent call last)",
      "\u001b[0;32m<ipython-input-11-e4fd86dbeb74>\u001b[0m in \u001b[0;36m<module>\u001b[0;34m\u001b[0m\n\u001b[0;32m----> 1\u001b[0;31m \u001b[0mtype\u001b[0m\u001b[0;34m(\u001b[0m\u001b[0ma\u001b[0m\u001b[0;34m,\u001b[0m \u001b[0mb\u001b[0m\u001b[0;34m,\u001b[0m \u001b[0mc\u001b[0m\u001b[0;34m,\u001b[0m \u001b[0md\u001b[0m\u001b[0;34m)\u001b[0m\u001b[0;34m\u001b[0m\u001b[0;34m\u001b[0m\u001b[0m\n\u001b[0m",
      "\u001b[0;31mTypeError\u001b[0m: type() takes 1 or 3 arguments"
     ]
    }
   ],
   "source": [
    "type(a, b, c, d)"
   ]
  },
  {
   "cell_type": "code",
   "execution_count": 12,
   "metadata": {},
   "outputs": [
    {
     "name": "stdout",
     "output_type": "stream",
     "text": [
      "<class 'int'> <class 'str'> <class 'float'> <class 'bool'>\n"
     ]
    }
   ],
   "source": [
    "print(type(a), type(b), type(c), type(d))"
   ]
  },
  {
   "cell_type": "code",
   "execution_count": 13,
   "metadata": {},
   "outputs": [],
   "source": [
    "a=5\n",
    "b=8"
   ]
  },
  {
   "cell_type": "code",
   "execution_count": 17,
   "metadata": {},
   "outputs": [
    {
     "name": "stdout",
     "output_type": "stream",
     "text": [
      "yes\n"
     ]
    }
   ],
   "source": [
    "if a>8 :\n",
    "    print(\"a greater than 8\")\n",
    "elif a<8 :\n",
    "    print(\"yes\")\n",
    "else :\n",
    "    print(\"do nothing\")"
   ]
  },
  {
   "cell_type": "code",
   "execution_count": 18,
   "metadata": {},
   "outputs": [
    {
     "data": {
      "text/plain": [
       "False"
      ]
     },
     "execution_count": 18,
     "metadata": {},
     "output_type": "execute_result"
    }
   ],
   "source": [
    "a > 8"
   ]
  },
  {
   "cell_type": "code",
   "execution_count": 19,
   "metadata": {},
   "outputs": [
    {
     "data": {
      "text/plain": [
       "True"
      ]
     },
     "execution_count": 19,
     "metadata": {},
     "output_type": "execute_result"
    }
   ],
   "source": [
    "a < 8"
   ]
  },
  {
   "cell_type": "code",
   "execution_count": 20,
   "metadata": {},
   "outputs": [
    {
     "ename": "SyntaxError",
     "evalue": "unexpected EOF while parsing (<ipython-input-20-f23db37483ea>, line 1)",
     "output_type": "error",
     "traceback": [
      "\u001b[0;36m  File \u001b[0;32m\"<ipython-input-20-f23db37483ea>\"\u001b[0;36m, line \u001b[0;32m1\u001b[0m\n\u001b[0;31m    if a :\u001b[0m\n\u001b[0m          ^\u001b[0m\n\u001b[0;31mSyntaxError\u001b[0m\u001b[0;31m:\u001b[0m unexpected EOF while parsing\n"
     ]
    }
   ],
   "source": [
    "if a :"
   ]
  },
  {
   "cell_type": "code",
   "execution_count": 21,
   "metadata": {},
   "outputs": [
    {
     "name": "stdout",
     "output_type": "stream",
     "text": [
      "5\n"
     ]
    }
   ],
   "source": [
    "if a :\n",
    "    print(a)\n",
    "elif b :\n",
    "    print(b)\n",
    "elif c :\n",
    "    print(c)\n",
    "else :\n",
    "    print(d)"
   ]
  },
  {
   "cell_type": "code",
   "execution_count": 23,
   "metadata": {},
   "outputs": [
    {
     "ename": "NameError",
     "evalue": "name 'g' is not defined",
     "output_type": "error",
     "traceback": [
      "\u001b[0;31m---------------------------------------------------------------------------\u001b[0m",
      "\u001b[0;31mNameError\u001b[0m                                 Traceback (most recent call last)",
      "\u001b[0;32m<ipython-input-23-ecdd416996a7>\u001b[0m in \u001b[0;36m<module>\u001b[0;34m\u001b[0m\n\u001b[0;32m----> 1\u001b[0;31m \u001b[0;32mif\u001b[0m \u001b[0mg\u001b[0m \u001b[0;34m:\u001b[0m\u001b[0;34m\u001b[0m\u001b[0;34m\u001b[0m\u001b[0m\n\u001b[0m\u001b[1;32m      2\u001b[0m     \u001b[0mprint\u001b[0m\u001b[0;34m(\u001b[0m\u001b[0mg\u001b[0m\u001b[0;34m)\u001b[0m\u001b[0;34m\u001b[0m\u001b[0;34m\u001b[0m\u001b[0m\n",
      "\u001b[0;31mNameError\u001b[0m: name 'g' is not defined"
     ]
    }
   ],
   "source": [
    "if g :\n",
    "    print(g)"
   ]
  },
  {
   "cell_type": "code",
   "execution_count": 25,
   "metadata": {},
   "outputs": [],
   "source": [
    "g=''"
   ]
  },
  {
   "cell_type": "code",
   "execution_count": 26,
   "metadata": {},
   "outputs": [
    {
     "data": {
      "text/plain": [
       "False"
      ]
     },
     "execution_count": 26,
     "metadata": {},
     "output_type": "execute_result"
    }
   ],
   "source": [
    "bool(g)"
   ]
  },
  {
   "cell_type": "code",
   "execution_count": 28,
   "metadata": {},
   "outputs": [
    {
     "data": {
      "text/plain": [
       "False"
      ]
     },
     "execution_count": 28,
     "metadata": {},
     "output_type": "execute_result"
    }
   ],
   "source": [
    "bool(0)"
   ]
  },
  {
   "cell_type": "code",
   "execution_count": 29,
   "metadata": {},
   "outputs": [
    {
     "name": "stdout",
     "output_type": "stream",
     "text": [
      "of course\n"
     ]
    }
   ],
   "source": [
    "if 0 :\n",
    "    print(0)\n",
    "else :\n",
    "    print('of course')"
   ]
  },
  {
   "cell_type": "code",
   "execution_count": 30,
   "metadata": {},
   "outputs": [
    {
     "data": {
      "text/plain": [
       "list"
      ]
     },
     "execution_count": 30,
     "metadata": {},
     "output_type": "execute_result"
    }
   ],
   "source": [
    "list"
   ]
  },
  {
   "cell_type": "code",
   "execution_count": 31,
   "metadata": {},
   "outputs": [],
   "source": [
    "my_list = ['a', 'star', 6, 7.9, True, False]"
   ]
  },
  {
   "cell_type": "code",
   "execution_count": 32,
   "metadata": {},
   "outputs": [
    {
     "data": {
      "text/plain": [
       "list"
      ]
     },
     "execution_count": 32,
     "metadata": {},
     "output_type": "execute_result"
    }
   ],
   "source": [
    "type(my_list)"
   ]
  },
  {
   "cell_type": "code",
   "execution_count": 33,
   "metadata": {},
   "outputs": [],
   "source": [
    "my_list2 = ['a', ['b','c',7], True, 7]"
   ]
  },
  {
   "cell_type": "code",
   "execution_count": 34,
   "metadata": {},
   "outputs": [
    {
     "data": {
      "text/plain": [
       "['a', ['b', 'c', 7], True, 7]"
      ]
     },
     "execution_count": 34,
     "metadata": {},
     "output_type": "execute_result"
    }
   ],
   "source": [
    "my_list2"
   ]
  },
  {
   "cell_type": "code",
   "execution_count": 35,
   "metadata": {},
   "outputs": [
    {
     "data": {
      "text/plain": [
       "list"
      ]
     },
     "execution_count": 35,
     "metadata": {},
     "output_type": "execute_result"
    }
   ],
   "source": [
    "type(my_list2)"
   ]
  },
  {
   "cell_type": "code",
   "execution_count": 36,
   "metadata": {},
   "outputs": [],
   "source": [
    "my_questions = ['Q1', 'Q2', 'Q3', 'Q4', 'Q5']"
   ]
  },
  {
   "cell_type": "code",
   "execution_count": 38,
   "metadata": {},
   "outputs": [
    {
     "data": {
      "text/plain": [
       "'Q1'"
      ]
     },
     "execution_count": 38,
     "metadata": {},
     "output_type": "execute_result"
    }
   ],
   "source": [
    "my_questions[0]"
   ]
  },
  {
   "cell_type": "code",
   "execution_count": 39,
   "metadata": {},
   "outputs": [
    {
     "data": {
      "text/plain": [
       "'Q2'"
      ]
     },
     "execution_count": 39,
     "metadata": {},
     "output_type": "execute_result"
    }
   ],
   "source": [
    "my_questions[1]"
   ]
  },
  {
   "cell_type": "code",
   "execution_count": 40,
   "metadata": {},
   "outputs": [
    {
     "ename": "IndexError",
     "evalue": "list index out of range",
     "output_type": "error",
     "traceback": [
      "\u001b[0;31m---------------------------------------------------------------------------\u001b[0m",
      "\u001b[0;31mIndexError\u001b[0m                                Traceback (most recent call last)",
      "\u001b[0;32m<ipython-input-40-db256ee7dcaf>\u001b[0m in \u001b[0;36m<module>\u001b[0;34m\u001b[0m\n\u001b[0;32m----> 1\u001b[0;31m \u001b[0mmy_questions\u001b[0m\u001b[0;34m[\u001b[0m\u001b[0;36m5\u001b[0m\u001b[0;34m]\u001b[0m\u001b[0;34m\u001b[0m\u001b[0;34m\u001b[0m\u001b[0m\n\u001b[0m",
      "\u001b[0;31mIndexError\u001b[0m: list index out of range"
     ]
    }
   ],
   "source": [
    "my_questions[5]"
   ]
  },
  {
   "cell_type": "code",
   "execution_count": 41,
   "metadata": {},
   "outputs": [
    {
     "data": {
      "text/plain": [
       "'Q5'"
      ]
     },
     "execution_count": 41,
     "metadata": {},
     "output_type": "execute_result"
    }
   ],
   "source": [
    "my_questions[4]"
   ]
  },
  {
   "cell_type": "code",
   "execution_count": 43,
   "metadata": {},
   "outputs": [
    {
     "data": {
      "text/plain": [
       "True"
      ]
     },
     "execution_count": 43,
     "metadata": {},
     "output_type": "execute_result"
    }
   ],
   "source": [
    "my_list[4]"
   ]
  },
  {
   "cell_type": "code",
   "execution_count": 46,
   "metadata": {},
   "outputs": [
    {
     "data": {
      "text/plain": [
       "['Q1', 'Q2', 'Q3', 'Q4', 'Q5']"
      ]
     },
     "execution_count": 46,
     "metadata": {},
     "output_type": "execute_result"
    }
   ],
   "source": [
    "my_questions[0:5]"
   ]
  },
  {
   "cell_type": "code",
   "execution_count": 47,
   "metadata": {},
   "outputs": [
    {
     "data": {
      "text/plain": [
       "['Q1', 'Q2', 'Q3', 'Q4', 'Q5']"
      ]
     },
     "execution_count": 47,
     "metadata": {},
     "output_type": "execute_result"
    }
   ],
   "source": [
    "my_questions[:]"
   ]
  },
  {
   "cell_type": "code",
   "execution_count": 48,
   "metadata": {},
   "outputs": [
    {
     "data": {
      "text/plain": [
       "['Q1', 'Q3', 'Q5']"
      ]
     },
     "execution_count": 48,
     "metadata": {},
     "output_type": "execute_result"
    }
   ],
   "source": [
    "my_questions[::2]"
   ]
  },
  {
   "cell_type": "code",
   "execution_count": 49,
   "metadata": {},
   "outputs": [
    {
     "data": {
      "text/plain": [
       "['Q1', 'Q4']"
      ]
     },
     "execution_count": 49,
     "metadata": {},
     "output_type": "execute_result"
    }
   ],
   "source": [
    "my_questions[::3]"
   ]
  },
  {
   "cell_type": "code",
   "execution_count": 50,
   "metadata": {},
   "outputs": [
    {
     "data": {
      "text/plain": [
       "5"
      ]
     },
     "execution_count": 50,
     "metadata": {},
     "output_type": "execute_result"
    }
   ],
   "source": [
    "len(my_questions)"
   ]
  },
  {
   "cell_type": "code",
   "execution_count": 51,
   "metadata": {},
   "outputs": [],
   "source": [
    "my_questions.append('Q6')"
   ]
  },
  {
   "cell_type": "code",
   "execution_count": 52,
   "metadata": {},
   "outputs": [
    {
     "data": {
      "text/plain": [
       "['Q1', 'Q2', 'Q3', 'Q4', 'Q5', 'Q6']"
      ]
     },
     "execution_count": 52,
     "metadata": {},
     "output_type": "execute_result"
    }
   ],
   "source": [
    "my_questions"
   ]
  },
  {
   "cell_type": "code",
   "execution_count": 53,
   "metadata": {},
   "outputs": [],
   "source": [
    "my_questions.remove('Q2')"
   ]
  },
  {
   "cell_type": "code",
   "execution_count": 54,
   "metadata": {},
   "outputs": [
    {
     "data": {
      "text/plain": [
       "['Q1', 'Q3', 'Q4', 'Q5', 'Q6']"
      ]
     },
     "execution_count": 54,
     "metadata": {},
     "output_type": "execute_result"
    }
   ],
   "source": [
    "my_questions"
   ]
  },
  {
   "cell_type": "code",
   "execution_count": 55,
   "metadata": {},
   "outputs": [],
   "source": [
    "my_questions.insert(0, 'str')"
   ]
  },
  {
   "cell_type": "code",
   "execution_count": 56,
   "metadata": {},
   "outputs": [
    {
     "data": {
      "text/plain": [
       "['str', 'Q1', 'Q3', 'Q4', 'Q5', 'Q6']"
      ]
     },
     "execution_count": 56,
     "metadata": {},
     "output_type": "execute_result"
    }
   ],
   "source": [
    "my_questions"
   ]
  },
  {
   "cell_type": "code",
   "execution_count": 57,
   "metadata": {},
   "outputs": [
    {
     "data": {
      "text/plain": [
       "['Q6', 'Q5', 'Q4', 'Q3', 'Q1', 'str']"
      ]
     },
     "execution_count": 57,
     "metadata": {},
     "output_type": "execute_result"
    }
   ],
   "source": [
    "my_questions[::-1]"
   ]
  },
  {
   "cell_type": "code",
   "execution_count": 58,
   "metadata": {},
   "outputs": [
    {
     "data": {
      "text/plain": [
       "['str', 'Q1', 'Q3', 'Q4', 'Q5', 'Q6']"
      ]
     },
     "execution_count": 58,
     "metadata": {},
     "output_type": "execute_result"
    }
   ],
   "source": [
    "my_questions[::1]"
   ]
  },
  {
   "cell_type": "code",
   "execution_count": 59,
   "metadata": {},
   "outputs": [],
   "source": [
    "tt = [1,2,3,4,5]"
   ]
  },
  {
   "cell_type": "code",
   "execution_count": 60,
   "metadata": {},
   "outputs": [
    {
     "data": {
      "text/plain": [
       "[1, 2, 3, 4, 5]"
      ]
     },
     "execution_count": 60,
     "metadata": {},
     "output_type": "execute_result"
    }
   ],
   "source": [
    "tt"
   ]
  },
  {
   "cell_type": "code",
   "execution_count": 61,
   "metadata": {},
   "outputs": [
    {
     "data": {
      "text/plain": [
       "[5, 4, 3, 2, 1]"
      ]
     },
     "execution_count": 61,
     "metadata": {},
     "output_type": "execute_result"
    }
   ],
   "source": [
    "tt[::-1]"
   ]
  },
  {
   "cell_type": "code",
   "execution_count": 62,
   "metadata": {},
   "outputs": [],
   "source": [
    "tt.reverse()"
   ]
  },
  {
   "cell_type": "code",
   "execution_count": 63,
   "metadata": {},
   "outputs": [
    {
     "data": {
      "text/plain": [
       "[5, 4, 3, 2, 1]"
      ]
     },
     "execution_count": 63,
     "metadata": {},
     "output_type": "execute_result"
    }
   ],
   "source": [
    "tt"
   ]
  },
  {
   "cell_type": "code",
   "execution_count": 64,
   "metadata": {},
   "outputs": [],
   "source": [
    "tt.sort()"
   ]
  },
  {
   "cell_type": "code",
   "execution_count": 65,
   "metadata": {},
   "outputs": [
    {
     "data": {
      "text/plain": [
       "[1, 2, 3, 4, 5]"
      ]
     },
     "execution_count": 65,
     "metadata": {},
     "output_type": "execute_result"
    }
   ],
   "source": [
    "tt"
   ]
  },
  {
   "cell_type": "code",
   "execution_count": 70,
   "metadata": {},
   "outputs": [
    {
     "name": "stdout",
     "output_type": "stream",
     "text": [
      "0\n",
      "1\n",
      "2\n",
      "3\n",
      "4\n",
      "5\n",
      "6\n",
      "7\n",
      "8\n",
      "9\n"
     ]
    }
   ],
   "source": [
    "for _ in range(10) :\n",
    "    print (_)"
   ]
  },
  {
   "cell_type": "code",
   "execution_count": 71,
   "metadata": {},
   "outputs": [
    {
     "name": "stdout",
     "output_type": "stream",
     "text": [
      "range(0, 10)\n"
     ]
    }
   ],
   "source": [
    "print(range(10))"
   ]
  },
  {
   "cell_type": "code",
   "execution_count": 72,
   "metadata": {},
   "outputs": [
    {
     "name": "stdout",
     "output_type": "stream",
     "text": [
      "str\n",
      "Q1\n",
      "Q3\n",
      "Q4\n",
      "Q5\n",
      "Q6\n"
     ]
    }
   ],
   "source": [
    "for _ in my_questions:\n",
    "    print(_)"
   ]
  },
  {
   "cell_type": "code",
   "execution_count": 73,
   "metadata": {},
   "outputs": [
    {
     "name": "stdout",
     "output_type": "stream",
     "text": [
      "<built-in method lower of str object at 0x107eea4c8>\n",
      "<built-in method lower of str object at 0x10a46ea40>\n",
      "<built-in method lower of str object at 0x10a4805a8>\n",
      "<built-in method lower of str object at 0x10a480768>\n",
      "<built-in method lower of str object at 0x10a480848>\n",
      "<built-in method lower of str object at 0x10a55a0a0>\n"
     ]
    }
   ],
   "source": [
    "for _ in my_questions:\n",
    "    print(_.lower)"
   ]
  },
  {
   "cell_type": "code",
   "execution_count": 74,
   "metadata": {},
   "outputs": [
    {
     "name": "stdout",
     "output_type": "stream",
     "text": [
      "str\n",
      "q1\n",
      "q3\n",
      "q4\n",
      "q5\n",
      "q6\n"
     ]
    }
   ],
   "source": [
    "for _ in my_questions:\n",
    "    print(_.lower())"
   ]
  },
  {
   "cell_type": "code",
   "execution_count": 75,
   "metadata": {},
   "outputs": [
    {
     "ename": "AttributeError",
     "evalue": "'str' object has no attribute 'Upper'",
     "output_type": "error",
     "traceback": [
      "\u001b[0;31m---------------------------------------------------------------------------\u001b[0m",
      "\u001b[0;31mAttributeError\u001b[0m                            Traceback (most recent call last)",
      "\u001b[0;32m<ipython-input-75-f9dcc7d1c398>\u001b[0m in \u001b[0;36m<module>\u001b[0;34m\u001b[0m\n\u001b[1;32m      1\u001b[0m \u001b[0;32mfor\u001b[0m \u001b[0m_\u001b[0m \u001b[0;32min\u001b[0m \u001b[0mmy_questions\u001b[0m\u001b[0;34m:\u001b[0m\u001b[0;34m\u001b[0m\u001b[0;34m\u001b[0m\u001b[0m\n\u001b[0;32m----> 2\u001b[0;31m     \u001b[0mprint\u001b[0m\u001b[0;34m(\u001b[0m\u001b[0m_\u001b[0m\u001b[0;34m.\u001b[0m\u001b[0mUpper\u001b[0m\u001b[0;34m(\u001b[0m\u001b[0;34m)\u001b[0m\u001b[0;34m)\u001b[0m\u001b[0;34m\u001b[0m\u001b[0;34m\u001b[0m\u001b[0m\n\u001b[0m",
      "\u001b[0;31mAttributeError\u001b[0m: 'str' object has no attribute 'Upper'"
     ]
    }
   ],
   "source": [
    "for _ in my_questions:\n",
    "    print(_.Upper())"
   ]
  },
  {
   "cell_type": "code",
   "execution_count": 76,
   "metadata": {},
   "outputs": [
    {
     "name": "stdout",
     "output_type": "stream",
     "text": [
      "Str\n",
      "Q1\n",
      "Q3\n",
      "Q4\n",
      "Q5\n",
      "Q6\n"
     ]
    }
   ],
   "source": [
    "for _ in my_questions:\n",
    "    print(_.capitalize())"
   ]
  },
  {
   "cell_type": "code",
   "execution_count": 77,
   "metadata": {},
   "outputs": [
    {
     "name": "stdout",
     "output_type": "stream",
     "text": [
      "STR\n",
      "Q1\n",
      "Q3\n",
      "Q4\n",
      "Q5\n",
      "Q6\n"
     ]
    }
   ],
   "source": [
    "for _ in my_questions:\n",
    "    print(_.upper())"
   ]
  },
  {
   "cell_type": "code",
   "execution_count": 78,
   "metadata": {},
   "outputs": [],
   "source": [
    "a = [3, 6, -1, 7, -4, 100]"
   ]
  },
  {
   "cell_type": "code",
   "execution_count": 87,
   "metadata": {},
   "outputs": [
    {
     "name": "stdout",
     "output_type": "stream",
     "text": [
      "3\n",
      "6\n",
      "-1\n",
      "7\n",
      "100\n"
     ]
    }
   ],
   "source": [
    "for i in a :\n",
    "    if (i + 5) * 3 > 10 :\n",
    "        print (i)"
   ]
  },
  {
   "cell_type": "code",
   "execution_count": 88,
   "metadata": {},
   "outputs": [
    {
     "name": "stdout",
     "output_type": "stream",
     "text": [
      "3\n",
      "6\n",
      "-1\n",
      "7\n",
      "100\n"
     ]
    }
   ],
   "source": [
    "for i in a :\n",
    "    temp = i + 5\n",
    "    temp = temp * 3\n",
    "    if temp > 10 :\n",
    "        print (i)"
   ]
  },
  {
   "cell_type": "code",
   "execution_count": 93,
   "metadata": {},
   "outputs": [
    {
     "name": "stdout",
     "output_type": "stream",
     "text": [
      "demo002.ipynb 13\n",
      "demo000.ipynb 13\n",
      "Untitled.ipynb 14\n",
      "demo001.ipynb 13\n",
      "demo003.ipynb 13\n",
      "project001.ipynb 16\n"
     ]
    }
   ],
   "source": [
    "for _ in os.listdir():\n",
    "    if _.endswith('ipynb'):\n",
    "        length = len(_)\n",
    "        print(_, length)"
   ]
  },
  {
   "cell_type": "code",
   "execution_count": 94,
   "metadata": {},
   "outputs": [],
   "source": [
    "a = 'string'"
   ]
  },
  {
   "cell_type": "code",
   "execution_count": 95,
   "metadata": {},
   "outputs": [
    {
     "data": {
      "text/plain": [
       "str"
      ]
     },
     "execution_count": 95,
     "metadata": {},
     "output_type": "execute_result"
    }
   ],
   "source": [
    "type(a)"
   ]
  },
  {
   "cell_type": "code",
   "execution_count": 96,
   "metadata": {},
   "outputs": [
    {
     "data": {
      "text/plain": [
       "<function str.lower()>"
      ]
     },
     "execution_count": 96,
     "metadata": {},
     "output_type": "execute_result"
    }
   ],
   "source": [
    "a.lower"
   ]
  },
  {
   "cell_type": "code",
   "execution_count": 97,
   "metadata": {},
   "outputs": [
    {
     "data": {
      "text/plain": [
       "'string'"
      ]
     },
     "execution_count": 97,
     "metadata": {},
     "output_type": "execute_result"
    }
   ],
   "source": [
    "a.lower()"
   ]
  },
  {
   "cell_type": "code",
   "execution_count": 98,
   "metadata": {},
   "outputs": [
    {
     "data": {
      "text/plain": [
       "'STRING'"
      ]
     },
     "execution_count": 98,
     "metadata": {},
     "output_type": "execute_result"
    }
   ],
   "source": [
    "a.upper()"
   ]
  },
  {
   "cell_type": "code",
   "execution_count": 99,
   "metadata": {},
   "outputs": [],
   "source": [
    "my_questions.sort()"
   ]
  },
  {
   "cell_type": "code",
   "execution_count": 100,
   "metadata": {},
   "outputs": [
    {
     "data": {
      "text/plain": [
       "['Q1', 'Q3', 'Q4', 'Q5', 'Q6', 'str']"
      ]
     },
     "execution_count": 100,
     "metadata": {},
     "output_type": "execute_result"
    }
   ],
   "source": [
    "my_questions"
   ]
  },
  {
   "cell_type": "code",
   "execution_count": 101,
   "metadata": {},
   "outputs": [
    {
     "name": "stdout",
     "output_type": "stream",
     "text": [
      "string\n"
     ]
    }
   ],
   "source": [
    "print(a)"
   ]
  },
  {
   "cell_type": "code",
   "execution_count": 1,
   "metadata": {},
   "outputs": [
    {
     "ename": "NameError",
     "evalue": "name 'my_questions' is not defined",
     "output_type": "error",
     "traceback": [
      "\u001b[0;31m---------------------------------------------------------------------------\u001b[0m",
      "\u001b[0;31mNameError\u001b[0m                                 Traceback (most recent call last)",
      "\u001b[0;32m<ipython-input-1-cce36c4fdbc7>\u001b[0m in \u001b[0;36m<module>\u001b[0;34m\u001b[0m\n\u001b[0;32m----> 1\u001b[0;31m \u001b[0mmy_questions\u001b[0m\u001b[0;34m\u001b[0m\u001b[0;34m\u001b[0m\u001b[0m\n\u001b[0m",
      "\u001b[0;31mNameError\u001b[0m: name 'my_questions' is not defined"
     ]
    }
   ],
   "source": [
    "my_questions"
   ]
  },
  {
   "cell_type": "code",
   "execution_count": 2,
   "metadata": {},
   "outputs": [],
   "source": [
    "my_questions = ['Q1', 'Q3', 'Q4', 'Q5', 'Q6', 'str']\n"
   ]
  },
  {
   "cell_type": "code",
   "execution_count": 3,
   "metadata": {},
   "outputs": [
    {
     "data": {
      "text/plain": [
       "['Q1', 'Q3', 'Q4', 'Q5', 'Q6', 'str']"
      ]
     },
     "execution_count": 3,
     "metadata": {},
     "output_type": "execute_result"
    }
   ],
   "source": [
    "my_questions"
   ]
  },
  {
   "cell_type": "code",
   "execution_count": 4,
   "metadata": {},
   "outputs": [],
   "source": [
    "a = 'AAAATTTCCCCGGGG'"
   ]
  },
  {
   "cell_type": "code",
   "execution_count": 5,
   "metadata": {},
   "outputs": [
    {
     "data": {
      "text/plain": [
       "4"
      ]
     },
     "execution_count": 5,
     "metadata": {},
     "output_type": "execute_result"
    }
   ],
   "source": [
    "a.count('A')"
   ]
  },
  {
   "cell_type": "code",
   "execution_count": 6,
   "metadata": {},
   "outputs": [
    {
     "data": {
      "text/plain": [
       "4"
      ]
     },
     "execution_count": 6,
     "metadata": {},
     "output_type": "execute_result"
    }
   ],
   "source": [
    "a.count('C')"
   ]
  },
  {
   "cell_type": "code",
   "execution_count": 9,
   "metadata": {},
   "outputs": [
    {
     "data": {
      "text/plain": [
       "['Q1', 'Q3']"
      ]
     },
     "execution_count": 9,
     "metadata": {},
     "output_type": "execute_result"
    }
   ],
   "source": [
    "my_questions[0:2]"
   ]
  },
  {
   "cell_type": "code",
   "execution_count": 10,
   "metadata": {},
   "outputs": [
    {
     "data": {
      "text/plain": [
       "\u001b[0;31mSignature:\u001b[0m \u001b[0mmy_questions\u001b[0m\u001b[0;34m.\u001b[0m\u001b[0msort\u001b[0m\u001b[0;34m(\u001b[0m\u001b[0;34m*\u001b[0m\u001b[0;34m,\u001b[0m \u001b[0mkey\u001b[0m\u001b[0;34m=\u001b[0m\u001b[0;32mNone\u001b[0m\u001b[0;34m,\u001b[0m \u001b[0mreverse\u001b[0m\u001b[0;34m=\u001b[0m\u001b[0;32mFalse\u001b[0m\u001b[0;34m)\u001b[0m\u001b[0;34m\u001b[0m\u001b[0;34m\u001b[0m\u001b[0m\n",
       "\u001b[0;31mDocstring:\u001b[0m Stable sort *IN PLACE*.\n",
       "\u001b[0;31mType:\u001b[0m      builtin_function_or_method\n"
      ]
     },
     "metadata": {},
     "output_type": "display_data"
    }
   ],
   "source": [
    "?my_questions.sort"
   ]
  },
  {
   "cell_type": "code",
   "execution_count": 11,
   "metadata": {},
   "outputs": [
    {
     "data": {
      "text/plain": [
       "'AAAATTTCCCCGGGG'"
      ]
     },
     "execution_count": 11,
     "metadata": {},
     "output_type": "execute_result"
    }
   ],
   "source": [
    "a"
   ]
  },
  {
   "cell_type": "code",
   "execution_count": 12,
   "metadata": {},
   "outputs": [
    {
     "data": {
      "text/plain": [
       "'A'"
      ]
     },
     "execution_count": 12,
     "metadata": {},
     "output_type": "execute_result"
    }
   ],
   "source": [
    "a[0]"
   ]
  },
  {
   "cell_type": "code",
   "execution_count": 13,
   "metadata": {},
   "outputs": [
    {
     "data": {
      "text/plain": [
       "'AAA'"
      ]
     },
     "execution_count": 13,
     "metadata": {},
     "output_type": "execute_result"
    }
   ],
   "source": [
    "a[0:3]"
   ]
  },
  {
   "cell_type": "raw",
   "metadata": {},
   "source": [
    "for "
   ]
  },
  {
   "cell_type": "code",
   "execution_count": 21,
   "metadata": {},
   "outputs": [
    {
     "name": "stdout",
     "output_type": "stream",
     "text": [
      "A +1\n",
      "A +1\n",
      "A +1\n",
      "A +1\n",
      "T +1\n",
      "T +1\n",
      "T +1\n",
      "C +1\n",
      "C +1\n",
      "C +1\n",
      "C +1\n",
      "G +1\n",
      "G +1\n",
      "G +1\n",
      "G +1\n"
     ]
    }
   ],
   "source": [
    "for i in a :\n",
    "    print(i,\"+1\")"
   ]
  },
  {
   "cell_type": "code",
   "execution_count": 23,
   "metadata": {},
   "outputs": [
    {
     "name": "stdout",
     "output_type": "stream",
     "text": [
      "elif\n"
     ]
    }
   ],
   "source": [
    "if False :\n",
    "    print('True')\n",
    "elif True:\n",
    "    print('elif')"
   ]
  },
  {
   "cell_type": "code",
   "execution_count": 53,
   "metadata": {},
   "outputs": [
    {
     "name": "stdout",
     "output_type": "stream",
     "text": [
      "demo002.ipynb 13\n",
      "demo000.ipynb 13\n",
      "Untitled.ipynb 14\n",
      "demo001.ipynb 13\n",
      "demo003.ipynb 13\n",
      "project001.ipynb 16\n"
     ]
    }
   ],
   "source": [
    "import os\n",
    "for _ in os.listdir():\n",
    "    if _.endswith('ipynb'):\n",
    "        length = len(_)\n",
    "        print(_, length)"
   ]
  },
  {
   "cell_type": "code",
   "execution_count": 25,
   "metadata": {},
   "outputs": [],
   "source": [
    "import os "
   ]
  },
  {
   "cell_type": "code",
   "execution_count": 66,
   "metadata": {},
   "outputs": [
    {
     "name": "stdout",
     "output_type": "stream",
     "text": [
      "Proton_A_890_20190328_IonXpress_063.base.cov.xls 44\n",
      "Proton_A_868_20190125_IonXpress_002_TSVC_variants.vcf 49\n",
      "Proton_A_868_20190125_IonXpress_064_TSVC_variants.vcf 49\n",
      "Proton_A_890_20190328_IonXpress_066.stats.cov.txt 45\n",
      "Proton_A_890_20190328_IonXpress_062.stats.cov.txt 45\n",
      "Proton_A_878_20190305_IonXpress_072.amplicon.cov.xls 48\n",
      "Proton_A_890_20190328_IonXpress_065.stats.cov.txt 45\n",
      "Proton_A_890_20190328_IonXpress_063.amplicon.cov.xls 48\n",
      "Proton_A_878_20190305_IonXpress_076.amplicon.cov.xls 48\n",
      "Proton_A_868_20190125_IonXpress_003_TSVC_variants.vcf 49\n",
      "Proton_A_890_20190328_IonXpress_065.base.cov.xls 44\n",
      "Proton_A_890_20190328_IonXpress_062.base.cov.xls 44\n",
      "Proton_A_868_20190125_IonXpress_065_TSVC_variants.vcf 49\n",
      "Proton_A_845_20181220_IonXpress_038.stats.cov.txt 45\n",
      "Proton_A_868_20190125_IonXpress_060_TSVC_variants.vcf 49\n",
      "Proton_A_878_20190305_IonXpress_073.base.cov.xls 44\n",
      "Proton_A_878_20190305_IonXpress_074.base.cov.xls 44\n",
      "Proton_A_878_20190305_IonXpress_071.stats.cov.txt 45\n",
      "Proton_A_878_20190305_IonXpress_075.stats.cov.txt 45\n",
      "Proton_A_868_20190125_IonXpress_066_TSVC_variants.vcf 49\n",
      "Proton_A_878_20190305_IonXpress_073.amplicon.cov.xls 48\n",
      "Proton_A_890_20190328_IonXpress_066.amplicon.cov.xls 48\n",
      "Proton_A_845_20181220_IonXpress_037.base.cov.xls 44\n",
      "Proton_A_891_20190402_IonXpress_067_TSVC_variants.vcf 49\n",
      "Proton_A_868_20190125_IonXpress_063_TSVC_variants.vcf 49\n",
      "Proton_A_868_20190125_IonXpress_001_TSVC_variants.vcf 49\n",
      "Proton_A_878_20190305_IonXpress_077.amplicon.cov.xls 48\n",
      "Proton_A_890_20190328_IonXpress_062.amplicon.cov.xls 48\n",
      "Proton_A_878_20190305_IonXpress_075.base.cov.xls 44\n",
      "Proton_A_845_20181220_IonXpress_040.base.cov.xls 44\n",
      "Proton_A_878_20190305_IonXpress_072.base.cov.xls 44\n",
      "Proton_A_878_20190305_IonXpress_072.stats.cov.txt 45\n",
      "Proton_A_845_20181220_IonXpress_040.amplicon.cov.xls 48\n",
      "Proton_A_868_20190125_IonXpress_062_TSVC_variants.vcf 49\n",
      "Proton_A_878_20190305_IonXpress_076.stats.cov.txt 45\n",
      "Proton_A_890_20190328_IonXpress_065.amplicon.cov.xls 48\n",
      "Proton_A_878_20190305_IonXpress_077.base.cov.xls 44\n",
      "Proton_A_868_20190125_IonXpress_093_TSVC_variants.vcf 49\n",
      "Proton_A_878_20190305_IonXpress_077.stats.cov.txt 45\n",
      "Proton_A_878_20190305_IonXpress_073.stats.cov.txt 45\n",
      "Proton_A_845_20181220_IonXpress_040.stats.cov.txt 45\n",
      "Proton_A_868_20190125_IonXpress_096_TSVC_variants.vcf 49\n",
      "Proton_A_878_20190305_IonXpress_076.base.cov.xls 44\n",
      "Proton_A_878_20190305_IonXpress_074.stats.cov.txt 45\n",
      "Proton_A_878_20190305_IonXpress_071.base.cov.xls 44\n",
      "Proton_A_845_20181220_IonXpress_039.amplicon.cov.xls 48\n",
      "Proton_A_845_20181220_IonXpress_037.stats.cov.txt 45\n",
      "Proton_A_878_20190305_IonXpress_074.amplicon.cov.xls 48\n",
      "Proton_A_845_20181220_IonXpress_039.stats.cov.txt 45\n",
      "Proton_A_891_20190402_IonXpress_071_TSVC_variants.vcf 49\n",
      "Proton_A_845_20181220_IonXpress_037.amplicon.cov.xls 48\n",
      "Proton_A_845_20181220_IonXpress_038.base.cov.xls 44\n",
      "Proton_A_878_20190305_IonXpress_071.amplicon.cov.xls 48\n",
      "Proton_A_891_20190402_IonXpress_068_TSVC_variants.vcf 49\n",
      "Proton_A_868_20190125_IonXpress_094_TSVC_variants.vcf 49\n",
      "Proton_A_890_20190328_IonXpress_066.base.cov.xls 44\n",
      "Proton_A_845_20181220_IonXpress_039.base.cov.xls 44\n",
      "Proton_A_891_20190402_IonXpress_070_TSVC_variants.vcf 49\n",
      "Proton_A_845_20181220_IonXpress_038.amplicon.cov.xls 48\n",
      "Proton_A_868_20190125_IonXpress_090_TSVC_variants.vcf 49\n",
      "Proton_A_868_20190125_IonXpress_059_TSVC_variants.vcf 49\n",
      "Proton_A_878_20190305_IonXpress_075.amplicon.cov.xls 48\n",
      "Proton_A_890_20190328_IonXpress_063.stats.cov.txt 45\n",
      "Proton_A_868_20190125_IonXpress_095_TSVC_variants.vcf 49\n",
      ".xls files number : 30\n",
      ".vcf files number : 19\n",
      ".txt files number : 15\n"
     ]
    }
   ],
   "source": [
    "xls = []\n",
    "vcf = []\n",
    "txt = []\n",
    "for _ in os.listdir('/Users/diploderma/Documents/GitHub/pyResources/python101_demo_data/data_wo_sudir'):\n",
    "    if _.endswith('.xls'):\n",
    "        print(_, len(_)-4)\n",
    "        xls.append(_)\n",
    "    elif _.endswith('.vcf'):\n",
    "        print(_, len(_)-4)\n",
    "        vcf.append(_)\n",
    "    elif _.endswith('.txt'):\n",
    "        print(_, len(_)-4)\n",
    "        txt.append(_)\n",
    "print('.xls files number :', len(xls))\n",
    "print('.vcf files number :', len(vcf))\n",
    "print('.txt files number :', len(txt))"
   ]
  },
  {
   "cell_type": "code",
   "execution_count": 31,
   "metadata": {},
   "outputs": [
    {
     "name": "stdout",
     "output_type": "stream",
     "text": [
      "Proton_A_868_20190125_IonXpress_002_TSVC_variants.vcf 49\n",
      "Proton_A_868_20190125_IonXpress_064_TSVC_variants.vcf 49\n",
      "Proton_A_868_20190125_IonXpress_003_TSVC_variants.vcf 49\n",
      "Proton_A_868_20190125_IonXpress_065_TSVC_variants.vcf 49\n",
      "Proton_A_868_20190125_IonXpress_060_TSVC_variants.vcf 49\n",
      "Proton_A_868_20190125_IonXpress_066_TSVC_variants.vcf 49\n",
      "Proton_A_891_20190402_IonXpress_067_TSVC_variants.vcf 49\n",
      "Proton_A_868_20190125_IonXpress_063_TSVC_variants.vcf 49\n",
      "Proton_A_868_20190125_IonXpress_001_TSVC_variants.vcf 49\n",
      "Proton_A_868_20190125_IonXpress_062_TSVC_variants.vcf 49\n",
      "Proton_A_868_20190125_IonXpress_093_TSVC_variants.vcf 49\n",
      "Proton_A_868_20190125_IonXpress_096_TSVC_variants.vcf 49\n",
      "Proton_A_891_20190402_IonXpress_071_TSVC_variants.vcf 49\n",
      "Proton_A_891_20190402_IonXpress_068_TSVC_variants.vcf 49\n",
      "Proton_A_868_20190125_IonXpress_094_TSVC_variants.vcf 49\n",
      "Proton_A_891_20190402_IonXpress_070_TSVC_variants.vcf 49\n",
      "Proton_A_868_20190125_IonXpress_090_TSVC_variants.vcf 49\n",
      "Proton_A_868_20190125_IonXpress_059_TSVC_variants.vcf 49\n",
      "Proton_A_868_20190125_IonXpress_095_TSVC_variants.vcf 49\n"
     ]
    }
   ],
   "source": [
    "for _ in os.listdir('/Users/diploderma/Documents/GitHub/pyResources/python101_demo_data/data_wo_sudir'):\n",
    "    if _.endswith('.vcf'):\n",
    "        length = len(_)\n",
    "        print(_, length-4)"
   ]
  },
  {
   "cell_type": "code",
   "execution_count": 32,
   "metadata": {},
   "outputs": [
    {
     "name": "stdout",
     "output_type": "stream",
     "text": [
      "Proton_A_890_20190328_IonXpress_066.stats.cov.txt 45\n",
      "Proton_A_890_20190328_IonXpress_062.stats.cov.txt 45\n",
      "Proton_A_890_20190328_IonXpress_065.stats.cov.txt 45\n",
      "Proton_A_845_20181220_IonXpress_038.stats.cov.txt 45\n",
      "Proton_A_878_20190305_IonXpress_071.stats.cov.txt 45\n",
      "Proton_A_878_20190305_IonXpress_075.stats.cov.txt 45\n",
      "Proton_A_878_20190305_IonXpress_072.stats.cov.txt 45\n",
      "Proton_A_878_20190305_IonXpress_076.stats.cov.txt 45\n",
      "Proton_A_878_20190305_IonXpress_077.stats.cov.txt 45\n",
      "Proton_A_878_20190305_IonXpress_073.stats.cov.txt 45\n",
      "Proton_A_845_20181220_IonXpress_040.stats.cov.txt 45\n",
      "Proton_A_878_20190305_IonXpress_074.stats.cov.txt 45\n",
      "Proton_A_845_20181220_IonXpress_037.stats.cov.txt 45\n",
      "Proton_A_845_20181220_IonXpress_039.stats.cov.txt 45\n",
      "Proton_A_890_20190328_IonXpress_063.stats.cov.txt 45\n"
     ]
    }
   ],
   "source": [
    "for _ in os.listdir('/Users/diploderma/Documents/GitHub/pyResources/python101_demo_data/data_wo_sudir'):\n",
    "    if _.endswith('.txt'):\n",
    "        length = len(_)\n",
    "        print(_, length-4)"
   ]
  },
  {
   "cell_type": "code",
   "execution_count": 88,
   "metadata": {},
   "outputs": [
    {
     "name": "stdout",
     "output_type": "stream",
     "text": [
      "['CNV', 'VCF']\n",
      "['.DS_Store']\n",
      "['Proton_A_816_20181115', 'Proton_A_858_20181228', 'Proton_A_884_20190315']\n",
      "['.DS_Store']\n",
      "[]\n",
      "['Proton_A_816_20181115_IonXpress_011.stats.cov.txt', 'Proton_A_816_20181115_IonXpress_014.amplicon.cov.xls', 'Proton_A_816_20181115_IonXpress_009.base.cov.xls', 'Proton_A_816_20181115_IonXpress_010.amplicon.cov.xls', 'Proton_A_816_20181115_IonXpress_012.stats.cov.txt', 'Proton_A_816_20181115_IonXpress_036.stats.cov.txt', 'Proton_A_816_20181115_IonXpress_011.base.cov.xls', 'Proton_A_816_20181115_IonXpress_011.amplicon.cov.xls', 'Proton_A_816_20181115_IonXpress_010.base.cov.xls', 'Proton_A_816_20181115_IonXpress_036.base.cov.xls', 'Proton_A_816_20181115_IonXpress_007.base.cov.xls', 'Proton_A_816_20181115_IonXpress_009.stats.cov.txt', 'Proton_A_816_20181115_IonXpress_009.amplicon.cov.xls', 'Proton_A_816_20181115_IonXpress_012.base.cov.xls', 'Proton_A_816_20181115_IonXpress_037.amplicon.cov.xls', 'Proton_A_816_20181115_IonXpress_037.base.cov.xls', 'Proton_A_816_20181115_IonXpress_037.stats.cov.txt', 'Proton_A_816_20181115_IonXpress_012.amplicon.cov.xls', 'Proton_A_816_20181115_IonXpress_013.base.cov.xls', 'Proton_A_816_20181115_IonXpress_014.base.cov.xls', 'Proton_A_816_20181115_IonXpress_036.amplicon.cov.xls', 'Proton_A_816_20181115_IonXpress_013.stats.cov.txt', 'Proton_A_816_20181115_IonXpress_013.amplicon.cov.xls', 'Proton_A_816_20181115_IonXpress_007.stats.cov.txt', 'Proton_A_816_20181115_IonXpress_010.stats.cov.txt', 'Proton_A_816_20181115_IonXpress_014.stats.cov.txt', 'Proton_A_816_20181115_IonXpress_007.amplicon.cov.xls']\n",
      "['.ipynb_checkpoints']\n",
      "['Proton_A_858_20181228_IonXpress_083.base.cov.xls', 'Proton_A_858_20181228_IonXpress_083.stats.cov.txt', 'Proton_A_858_20181228_IonXpress_082.amplicon.cov.xls', 'Proton_A_858_20181228_IonXpress_082.base.cov.xls', 'Proton_A_858_20181228_IonXpress_080.stats.cov.txt', 'Proton_A_858_20181228_IonXpress_083.amplicon.cov.xls', 'Proton_A_858_20181228_IonXpress_080.amplicon.cov.xls', 'Proton_A_858_20181228_IonXpress_081.amplicon.cov.xls', 'Proton_A_858_20181228_IonXpress_080.base.cov.xls', 'Proton_A_858_20181228_IonXpress_081.stats.cov.txt', 'Proton_A_858_20181228_IonXpress_081.base.cov.xls', 'Proton_A_858_20181228_IonXpress_082.stats.cov.txt']\n",
      "[]\n",
      "['Proton_A_858_20181228_IonXpress_080.amplicon.cov-checkpoint.xls']\n",
      "[]\n",
      "['Proton_A_884_20190315_IonXpress_074.amplicon.cov.xls', 'Proton_A_884_20190315_IonXpress_076.stats.cov.txt', 'Proton_A_884_20190315_IonXpress_075.amplicon.cov.xls', 'Proton_A_884_20190315_IonXpress_076.base.cov.xls', 'Proton_A_884_20190315_IonXpress_075.stats.cov.txt', 'Proton_A_884_20190315_IonXpress_076.amplicon.cov.xls', 'Proton_A_884_20190315_IonXpress_074.stats.cov.txt', 'Proton_A_884_20190315_IonXpress_075.base.cov.xls', 'Proton_A_884_20190315_IonXpress_074.base.cov.xls']\n",
      "['Proton_A_870_20190131', 'Proton_A_879_20190307', 'Proton_A_894_20190403']\n",
      "['.DS_Store']\n",
      "[]\n",
      "['Proton_A_870_20190131_IonXpress_028_TSVC_variants.vcf', 'Proton_A_870_20190131_IonXpress_034_TSVC_variants.vcf', 'Proton_A_870_20190131_IonXpress_029_TSVC_variants.vcf', 'Proton_A_870_20190131_IonXpress_035_TSVC_variants.vcf', 'Proton_A_870_20190131_IonXpress_007_TSVC_variants.vcf', 'Proton_A_870_20190131_IonXpress_033_TSVC_variants.vcf', 'Proton_A_870_20190131_IonXpress_036_TSVC_variants.vcf', 'Proton_A_870_20190131_IonXpress_032_TSVC_variants.vcf', 'Proton_A_870_20190131_IonXpress_037_TSVC_variants.vcf', 'Proton_A_870_20190131_IonXpress_040_TSVC_variants.vcf', 'Proton_A_870_20190131_IonXpress_038_TSVC_variants.vcf']\n",
      "[]\n",
      "['Proton_A_879_20190307_IonXpress_009_TSVC_variants.vcf', 'Proton_A_879_20190307_IonXpress_010_TSVC_variants.vcf', 'Proton_A_879_20190307_IonXpress_008_TSVC_variants.vcf', 'Proton_A_879_20190307_IonXpress_096_TSVC_variants.vcf', 'Proton_A_879_20190307_IonXpress_093_TSVC_variants.vcf', 'Proton_A_879_20190307_IonXpress_004_TSVC_variants.vcf', 'Proton_A_879_20190307_IonXpress_005_TSVC_variants.vcf', 'Proton_A_879_20190307_IonXpress_003_TSVC_variants.vcf', 'Proton_A_879_20190307_IonXpress_081_TSVC_variants.vcf']\n",
      "[]\n",
      "['Proton_A_894_20190403_IonXpress_082_TSVC_variants.vcf', 'Proton_A_894_20190403_IonXpress_087_TSVC_variants.vcf', 'Proton_A_894_20190403_IonXpress_083_TSVC_variants.vcf', 'Proton_A_894_20190403_IonXpress_086_TSVC_variants.vcf', 'Proton_A_894_20190403_IonXpress_064_TSVC_variants.vcf', 'Proton_A_894_20190403_IonXpress_085_TSVC_variants.vcf', 'Proton_A_894_20190403_IonXpress_081_TSVC_variants.vcf', 'Proton_A_894_20190403_IonXpress_084_TSVC_variants.vcf', 'Proton_A_894_20190403_IonXpress_041_TSVC_variants.vcf', 'Proton_A_894_20190403_IonXpress_088_TSVC_variants.vcf', 'Proton_A_894_20190403_IonXpress_042_TSVC_variants.vcf']\n"
     ]
    }
   ],
   "source": [
    "for root, subdirs, files in os.walk('/Users/diploderma/Documents/GitHub/pyResources/python101_demo_data/data_with_subdir'):\n",
    "    print(subdirs)\n",
    "    print(files)"
   ]
  },
  {
   "cell_type": "code",
   "execution_count": 94,
   "metadata": {},
   "outputs": [
    {
     "name": "stdout",
     "output_type": "stream",
     "text": [
      "Proton_A_816_20181115_IonXpress_011.stats.cov.txt 45\n",
      "Proton_A_816_20181115_IonXpress_014.amplicon.cov.xls 48\n",
      "Proton_A_816_20181115_IonXpress_009.base.cov.xls 44\n",
      "Proton_A_816_20181115_IonXpress_010.amplicon.cov.xls 48\n",
      "Proton_A_816_20181115_IonXpress_012.stats.cov.txt 45\n",
      "Proton_A_816_20181115_IonXpress_036.stats.cov.txt 45\n",
      "Proton_A_816_20181115_IonXpress_011.base.cov.xls 44\n",
      "Proton_A_816_20181115_IonXpress_011.amplicon.cov.xls 48\n",
      "Proton_A_816_20181115_IonXpress_010.base.cov.xls 44\n",
      "Proton_A_816_20181115_IonXpress_036.base.cov.xls 44\n",
      "Proton_A_816_20181115_IonXpress_007.base.cov.xls 44\n",
      "Proton_A_816_20181115_IonXpress_009.stats.cov.txt 45\n",
      "Proton_A_816_20181115_IonXpress_009.amplicon.cov.xls 48\n",
      "Proton_A_816_20181115_IonXpress_012.base.cov.xls 44\n",
      "Proton_A_816_20181115_IonXpress_037.amplicon.cov.xls 48\n",
      "Proton_A_816_20181115_IonXpress_037.base.cov.xls 44\n",
      "Proton_A_816_20181115_IonXpress_037.stats.cov.txt 45\n",
      "Proton_A_816_20181115_IonXpress_012.amplicon.cov.xls 48\n",
      "Proton_A_816_20181115_IonXpress_013.base.cov.xls 44\n",
      "Proton_A_816_20181115_IonXpress_014.base.cov.xls 44\n",
      "Proton_A_816_20181115_IonXpress_036.amplicon.cov.xls 48\n",
      "Proton_A_816_20181115_IonXpress_013.stats.cov.txt 45\n",
      "Proton_A_816_20181115_IonXpress_013.amplicon.cov.xls 48\n",
      "Proton_A_816_20181115_IonXpress_007.stats.cov.txt 45\n",
      "Proton_A_816_20181115_IonXpress_010.stats.cov.txt 45\n",
      "Proton_A_816_20181115_IonXpress_014.stats.cov.txt 45\n",
      "Proton_A_816_20181115_IonXpress_007.amplicon.cov.xls 48\n",
      "Proton_A_858_20181228_IonXpress_083.base.cov.xls 44\n",
      "Proton_A_858_20181228_IonXpress_083.stats.cov.txt 45\n",
      "Proton_A_858_20181228_IonXpress_082.amplicon.cov.xls 48\n",
      "Proton_A_858_20181228_IonXpress_082.base.cov.xls 44\n",
      "Proton_A_858_20181228_IonXpress_080.stats.cov.txt 45\n",
      "Proton_A_858_20181228_IonXpress_083.amplicon.cov.xls 48\n",
      "Proton_A_858_20181228_IonXpress_080.amplicon.cov.xls 48\n",
      "Proton_A_858_20181228_IonXpress_081.amplicon.cov.xls 48\n",
      "Proton_A_858_20181228_IonXpress_080.base.cov.xls 44\n",
      "Proton_A_858_20181228_IonXpress_081.stats.cov.txt 45\n",
      "Proton_A_858_20181228_IonXpress_081.base.cov.xls 44\n",
      "Proton_A_858_20181228_IonXpress_082.stats.cov.txt 45\n",
      "Proton_A_858_20181228_IonXpress_080.amplicon.cov-checkpoint.xls 59\n",
      "Proton_A_884_20190315_IonXpress_074.amplicon.cov.xls 48\n",
      "Proton_A_884_20190315_IonXpress_076.stats.cov.txt 45\n",
      "Proton_A_884_20190315_IonXpress_075.amplicon.cov.xls 48\n",
      "Proton_A_884_20190315_IonXpress_076.base.cov.xls 44\n",
      "Proton_A_884_20190315_IonXpress_075.stats.cov.txt 45\n",
      "Proton_A_884_20190315_IonXpress_076.amplicon.cov.xls 48\n",
      "Proton_A_884_20190315_IonXpress_074.stats.cov.txt 45\n",
      "Proton_A_884_20190315_IonXpress_075.base.cov.xls 44\n",
      "Proton_A_884_20190315_IonXpress_074.base.cov.xls 44\n",
      "Proton_A_870_20190131_IonXpress_028_TSVC_variants.vcf 49\n",
      "Proton_A_870_20190131_IonXpress_034_TSVC_variants.vcf 49\n",
      "Proton_A_870_20190131_IonXpress_029_TSVC_variants.vcf 49\n",
      "Proton_A_870_20190131_IonXpress_035_TSVC_variants.vcf 49\n",
      "Proton_A_870_20190131_IonXpress_007_TSVC_variants.vcf 49\n",
      "Proton_A_870_20190131_IonXpress_033_TSVC_variants.vcf 49\n",
      "Proton_A_870_20190131_IonXpress_036_TSVC_variants.vcf 49\n",
      "Proton_A_870_20190131_IonXpress_032_TSVC_variants.vcf 49\n",
      "Proton_A_870_20190131_IonXpress_037_TSVC_variants.vcf 49\n",
      "Proton_A_870_20190131_IonXpress_040_TSVC_variants.vcf 49\n",
      "Proton_A_870_20190131_IonXpress_038_TSVC_variants.vcf 49\n",
      "Proton_A_879_20190307_IonXpress_009_TSVC_variants.vcf 49\n",
      "Proton_A_879_20190307_IonXpress_010_TSVC_variants.vcf 49\n",
      "Proton_A_879_20190307_IonXpress_008_TSVC_variants.vcf 49\n",
      "Proton_A_879_20190307_IonXpress_096_TSVC_variants.vcf 49\n",
      "Proton_A_879_20190307_IonXpress_093_TSVC_variants.vcf 49\n",
      "Proton_A_879_20190307_IonXpress_004_TSVC_variants.vcf 49\n",
      "Proton_A_879_20190307_IonXpress_005_TSVC_variants.vcf 49\n",
      "Proton_A_879_20190307_IonXpress_003_TSVC_variants.vcf 49\n",
      "Proton_A_879_20190307_IonXpress_081_TSVC_variants.vcf 49\n",
      "Proton_A_894_20190403_IonXpress_082_TSVC_variants.vcf 49\n",
      "Proton_A_894_20190403_IonXpress_087_TSVC_variants.vcf 49\n",
      "Proton_A_894_20190403_IonXpress_083_TSVC_variants.vcf 49\n",
      "Proton_A_894_20190403_IonXpress_086_TSVC_variants.vcf 49\n",
      "Proton_A_894_20190403_IonXpress_064_TSVC_variants.vcf 49\n",
      "Proton_A_894_20190403_IonXpress_085_TSVC_variants.vcf 49\n",
      "Proton_A_894_20190403_IonXpress_081_TSVC_variants.vcf 49\n",
      "Proton_A_894_20190403_IonXpress_084_TSVC_variants.vcf 49\n",
      "Proton_A_894_20190403_IonXpress_041_TSVC_variants.vcf 49\n",
      "Proton_A_894_20190403_IonXpress_088_TSVC_variants.vcf 49\n",
      "Proton_A_894_20190403_IonXpress_042_TSVC_variants.vcf 49\n",
      ".xls files number : 33\n",
      ".vcf files number : 31\n",
      ".txt files number : 16\n"
     ]
    }
   ],
   "source": [
    "xls = []\n",
    "vcf = []\n",
    "txt = []\n",
    "for root, subdirs, files in os.walk('/Users/diploderma/Documents/GitHub/pyResources/python101_demo_data/data_with_subdir'):\n",
    "    for _ in files:\n",
    "        if _.endswith('.xls'):\n",
    "            print(_, len(_)-4)\n",
    "            xls.append(_)\n",
    "        elif _.endswith('.vcf'):\n",
    "            print(_, len(_)-4)\n",
    "            vcf.append(_)\n",
    "        elif _.endswith('.txt'):\n",
    "            print(_, len(_)-4)\n",
    "            txt.append(_)\n",
    "print('.xls files number :', len(xls))\n",
    "print('.vcf files number :', len(vcf))\n",
    "print('.txt files number :', len(txt))"
   ]
  },
  {
   "cell_type": "code",
   "execution_count": 1,
   "metadata": {},
   "outputs": [],
   "source": [
    "a = 'dog'"
   ]
  },
  {
   "cell_type": "code",
   "execution_count": 2,
   "metadata": {},
   "outputs": [
    {
     "data": {
      "text/plain": [
       "str"
      ]
     },
     "execution_count": 2,
     "metadata": {},
     "output_type": "execute_result"
    }
   ],
   "source": [
    "type(a)"
   ]
  },
  {
   "cell_type": "code",
   "execution_count": 3,
   "metadata": {},
   "outputs": [
    {
     "data": {
      "text/plain": [
       "'DOG'"
      ]
     },
     "execution_count": 3,
     "metadata": {},
     "output_type": "execute_result"
    }
   ],
   "source": [
    "a.upper()"
   ]
  },
  {
   "cell_type": "code",
   "execution_count": 2,
   "metadata": {},
   "outputs": [],
   "source": [
    "b = 'ATTTCCGGGGAAATCCGG'"
   ]
  },
  {
   "cell_type": "code",
   "execution_count": 3,
   "metadata": {},
   "outputs": [
    {
     "name": "stdout",
     "output_type": "stream",
     "text": [
      "g\n"
     ]
    }
   ],
   "source": [
    "for i in b :\n",
    "    if i == 'A' :\n",
    "        i = 'a'\n",
    "    elif i == 'T' :\n",
    "        i = 't'\n",
    "    elif i == 'C' :\n",
    "        i = 'c'\n",
    "    else :\n",
    "        i = 'g'\n",
    "print(i)"
   ]
  },
  {
   "cell_type": "code",
   "execution_count": 4,
   "metadata": {},
   "outputs": [
    {
     "data": {
      "text/plain": [
       "0.5555555555555556"
      ]
     },
     "execution_count": 4,
     "metadata": {},
     "output_type": "execute_result"
    }
   ],
   "source": [
    "(b.count('C') + b.count('G')) / len(b)"
   ]
  },
  {
   "cell_type": "code",
   "execution_count": 14,
   "metadata": {},
   "outputs": [
    {
     "data": {
      "text/plain": [
       "'ATTTCCGGGGAAATCCGGATTTCCGGGGAAATCCGGATTTCCGGGGAAATCCGG'"
      ]
     },
     "execution_count": 14,
     "metadata": {},
     "output_type": "execute_result"
    }
   ],
   "source": [
    "b*3"
   ]
  },
  {
   "cell_type": "code",
   "execution_count": 15,
   "metadata": {},
   "outputs": [
    {
     "name": "stdout",
     "output_type": "stream",
     "text": [
      "10\n"
     ]
    }
   ],
   "source": [
    "a = 6\n",
    "b = 10\n",
    "\n",
    "if a<10 :\n",
    "    print(b)"
   ]
  },
  {
   "cell_type": "code",
   "execution_count": 16,
   "metadata": {},
   "outputs": [
    {
     "data": {
      "text/plain": [
       "True"
      ]
     },
     "execution_count": 16,
     "metadata": {},
     "output_type": "execute_result"
    }
   ],
   "source": [
    "a<10"
   ]
  },
  {
   "cell_type": "code",
   "execution_count": 17,
   "metadata": {},
   "outputs": [
    {
     "data": {
      "text/plain": [
       "False"
      ]
     },
     "execution_count": 17,
     "metadata": {},
     "output_type": "execute_result"
    }
   ],
   "source": [
    "a>10"
   ]
  },
  {
   "cell_type": "code",
   "execution_count": 22,
   "metadata": {},
   "outputs": [],
   "source": [
    "e = ['you', 'you', 'you', 'me', 'me', 'me', 'ha', 'ha']"
   ]
  },
  {
   "cell_type": "code",
   "execution_count": 23,
   "metadata": {},
   "outputs": [
    {
     "data": {
      "text/plain": [
       "['you', 'you', 'you', 'me', 'me', 'me', 'ha', 'ha']"
      ]
     },
     "execution_count": 23,
     "metadata": {},
     "output_type": "execute_result"
    }
   ],
   "source": [
    "e"
   ]
  },
  {
   "cell_type": "code",
   "execution_count": 24,
   "metadata": {},
   "outputs": [],
   "source": [
    "upper_str = []\n",
    "for _ in e :\n",
    "    upper_string = _.upper()\n",
    "    upper_str.append(upper_string)"
   ]
  },
  {
   "cell_type": "code",
   "execution_count": 25,
   "metadata": {},
   "outputs": [
    {
     "data": {
      "text/plain": [
       "['YOU', 'YOU', 'YOU', 'ME', 'ME', 'ME', 'HA', 'HA']"
      ]
     },
     "execution_count": 25,
     "metadata": {},
     "output_type": "execute_result"
    }
   ],
   "source": [
    "upper_str"
   ]
  },
  {
   "cell_type": "code",
   "execution_count": 26,
   "metadata": {},
   "outputs": [
    {
     "data": {
      "text/plain": [
       "list"
      ]
     },
     "execution_count": 26,
     "metadata": {},
     "output_type": "execute_result"
    }
   ],
   "source": [
    "type(e)"
   ]
  },
  {
   "cell_type": "code",
   "execution_count": 27,
   "metadata": {},
   "outputs": [
    {
     "data": {
      "text/plain": [
       "['you', 'you', 'me']"
      ]
     },
     "execution_count": 27,
     "metadata": {},
     "output_type": "execute_result"
    }
   ],
   "source": [
    "e[1:4]"
   ]
  },
  {
   "cell_type": "code",
   "execution_count": 28,
   "metadata": {},
   "outputs": [
    {
     "data": {
      "text/plain": [
       "8"
      ]
     },
     "execution_count": 28,
     "metadata": {},
     "output_type": "execute_result"
    }
   ],
   "source": [
    "len(e)"
   ]
  },
  {
   "cell_type": "code",
   "execution_count": 29,
   "metadata": {},
   "outputs": [
    {
     "data": {
      "text/plain": [
       "['you', 'you', 'you', 'me', 'me', 'me', 'ha', 'ha']"
      ]
     },
     "execution_count": 29,
     "metadata": {},
     "output_type": "execute_result"
    }
   ],
   "source": [
    "e"
   ]
  },
  {
   "cell_type": "code",
   "execution_count": 30,
   "metadata": {},
   "outputs": [],
   "source": [
    "a, b, c, d = 1, 2, 3, 4"
   ]
  },
  {
   "cell_type": "code",
   "execution_count": 31,
   "metadata": {},
   "outputs": [
    {
     "data": {
      "text/plain": [
       "1"
      ]
     },
     "execution_count": 31,
     "metadata": {},
     "output_type": "execute_result"
    }
   ],
   "source": [
    "a"
   ]
  },
  {
   "cell_type": "code",
   "execution_count": 32,
   "metadata": {},
   "outputs": [
    {
     "data": {
      "text/plain": [
       "2"
      ]
     },
     "execution_count": 32,
     "metadata": {},
     "output_type": "execute_result"
    }
   ],
   "source": [
    "b"
   ]
  },
  {
   "cell_type": "code",
   "execution_count": 39,
   "metadata": {},
   "outputs": [],
   "source": [
    "import os "
   ]
  },
  {
   "cell_type": "code",
   "execution_count": 52,
   "metadata": {},
   "outputs": [
    {
     "name": "stdout",
     "output_type": "stream",
     "text": [
      ".xls files number : 30\n",
      ".vcf files number : 19\n",
      ".txt files number : 15\n"
     ]
    }
   ],
   "source": [
    "xls = []\n",
    "vcf = []\n",
    "txt = []\n",
    "for _ in os.listdir('/Users/diploderma/Documents/GitHub/pyResources/python101_demo_data/data_wo_subdir'):\n",
    "    file_len = len(_) - 4\n",
    "    if _.endswith('.xls'):\n",
    "        xls.append((_, file_len))\n",
    "    elif _.endswith('.vcf'):\n",
    "        vcf.append((_, file_len))\n",
    "    elif _.endswith('.txt'):\n",
    "        txt.append((_, file_len))\n",
    "print('.xls files number :', len(xls))\n",
    "print('.vcf files number :', len(vcf))\n",
    "print('.txt files number :', len(txt))"
   ]
  },
  {
   "cell_type": "code",
   "execution_count": 41,
   "metadata": {},
   "outputs": [
    {
     "data": {
      "text/plain": [
       "[('Proton_A_868_20190125_IonXpress_002_TSVC_variants.vcf', 49),\n",
       " ('Proton_A_868_20190125_IonXpress_064_TSVC_variants.vcf', 49),\n",
       " ('Proton_A_868_20190125_IonXpress_003_TSVC_variants.vcf', 49),\n",
       " ('Proton_A_868_20190125_IonXpress_065_TSVC_variants.vcf', 49),\n",
       " ('Proton_A_868_20190125_IonXpress_060_TSVC_variants.vcf', 49),\n",
       " ('Proton_A_868_20190125_IonXpress_066_TSVC_variants.vcf', 49),\n",
       " ('Proton_A_891_20190402_IonXpress_067_TSVC_variants.vcf', 49),\n",
       " ('Proton_A_868_20190125_IonXpress_063_TSVC_variants.vcf', 49),\n",
       " ('Proton_A_868_20190125_IonXpress_001_TSVC_variants.vcf', 49),\n",
       " ('Proton_A_868_20190125_IonXpress_062_TSVC_variants.vcf', 49),\n",
       " ('Proton_A_868_20190125_IonXpress_093_TSVC_variants.vcf', 49),\n",
       " ('Proton_A_868_20190125_IonXpress_096_TSVC_variants.vcf', 49),\n",
       " ('Proton_A_891_20190402_IonXpress_071_TSVC_variants.vcf', 49),\n",
       " ('Proton_A_891_20190402_IonXpress_068_TSVC_variants.vcf', 49),\n",
       " ('Proton_A_868_20190125_IonXpress_094_TSVC_variants.vcf', 49),\n",
       " ('Proton_A_891_20190402_IonXpress_070_TSVC_variants.vcf', 49),\n",
       " ('Proton_A_868_20190125_IonXpress_090_TSVC_variants.vcf', 49),\n",
       " ('Proton_A_868_20190125_IonXpress_059_TSVC_variants.vcf', 49),\n",
       " ('Proton_A_868_20190125_IonXpress_095_TSVC_variants.vcf', 49)]"
      ]
     },
     "execution_count": 41,
     "metadata": {},
     "output_type": "execute_result"
    }
   ],
   "source": [
    "vcf"
   ]
  },
  {
   "cell_type": "code",
   "execution_count": 42,
   "metadata": {},
   "outputs": [
    {
     "data": {
      "text/plain": [
       "[('Proton_A_890_20190328_IonXpress_066.stats.cov.txt', 45),\n",
       " ('Proton_A_890_20190328_IonXpress_062.stats.cov.txt', 45),\n",
       " ('Proton_A_890_20190328_IonXpress_065.stats.cov.txt', 45),\n",
       " ('Proton_A_845_20181220_IonXpress_038.stats.cov.txt', 45),\n",
       " ('Proton_A_878_20190305_IonXpress_071.stats.cov.txt', 45),\n",
       " ('Proton_A_878_20190305_IonXpress_075.stats.cov.txt', 45),\n",
       " ('Proton_A_878_20190305_IonXpress_072.stats.cov.txt', 45),\n",
       " ('Proton_A_878_20190305_IonXpress_076.stats.cov.txt', 45),\n",
       " ('Proton_A_878_20190305_IonXpress_077.stats.cov.txt', 45),\n",
       " ('Proton_A_878_20190305_IonXpress_073.stats.cov.txt', 45),\n",
       " ('Proton_A_845_20181220_IonXpress_040.stats.cov.txt', 45),\n",
       " ('Proton_A_878_20190305_IonXpress_074.stats.cov.txt', 45),\n",
       " ('Proton_A_845_20181220_IonXpress_037.stats.cov.txt', 45),\n",
       " ('Proton_A_845_20181220_IonXpress_039.stats.cov.txt', 45),\n",
       " ('Proton_A_890_20190328_IonXpress_063.stats.cov.txt', 45)]"
      ]
     },
     "execution_count": 42,
     "metadata": {},
     "output_type": "execute_result"
    }
   ],
   "source": [
    "txt"
   ]
  },
  {
   "cell_type": "code",
   "execution_count": 43,
   "metadata": {},
   "outputs": [
    {
     "data": {
      "text/plain": [
       "[('Proton_A_890_20190328_IonXpress_063.base.cov.xls', 44),\n",
       " ('Proton_A_878_20190305_IonXpress_072.amplicon.cov.xls', 48),\n",
       " ('Proton_A_890_20190328_IonXpress_063.amplicon.cov.xls', 48),\n",
       " ('Proton_A_878_20190305_IonXpress_076.amplicon.cov.xls', 48),\n",
       " ('Proton_A_890_20190328_IonXpress_065.base.cov.xls', 44),\n",
       " ('Proton_A_890_20190328_IonXpress_062.base.cov.xls', 44),\n",
       " ('Proton_A_878_20190305_IonXpress_073.base.cov.xls', 44),\n",
       " ('Proton_A_878_20190305_IonXpress_074.base.cov.xls', 44),\n",
       " ('Proton_A_878_20190305_IonXpress_073.amplicon.cov.xls', 48),\n",
       " ('Proton_A_890_20190328_IonXpress_066.amplicon.cov.xls', 48),\n",
       " ('Proton_A_845_20181220_IonXpress_037.base.cov.xls', 44),\n",
       " ('Proton_A_878_20190305_IonXpress_077.amplicon.cov.xls', 48),\n",
       " ('Proton_A_890_20190328_IonXpress_062.amplicon.cov.xls', 48),\n",
       " ('Proton_A_878_20190305_IonXpress_075.base.cov.xls', 44),\n",
       " ('Proton_A_845_20181220_IonXpress_040.base.cov.xls', 44),\n",
       " ('Proton_A_878_20190305_IonXpress_072.base.cov.xls', 44),\n",
       " ('Proton_A_845_20181220_IonXpress_040.amplicon.cov.xls', 48),\n",
       " ('Proton_A_890_20190328_IonXpress_065.amplicon.cov.xls', 48),\n",
       " ('Proton_A_878_20190305_IonXpress_077.base.cov.xls', 44),\n",
       " ('Proton_A_878_20190305_IonXpress_076.base.cov.xls', 44),\n",
       " ('Proton_A_878_20190305_IonXpress_071.base.cov.xls', 44),\n",
       " ('Proton_A_845_20181220_IonXpress_039.amplicon.cov.xls', 48),\n",
       " ('Proton_A_878_20190305_IonXpress_074.amplicon.cov.xls', 48),\n",
       " ('Proton_A_845_20181220_IonXpress_037.amplicon.cov.xls', 48),\n",
       " ('Proton_A_845_20181220_IonXpress_038.base.cov.xls', 44),\n",
       " ('Proton_A_878_20190305_IonXpress_071.amplicon.cov.xls', 48),\n",
       " ('Proton_A_890_20190328_IonXpress_066.base.cov.xls', 44),\n",
       " ('Proton_A_845_20181220_IonXpress_039.base.cov.xls', 44),\n",
       " ('Proton_A_845_20181220_IonXpress_038.amplicon.cov.xls', 48),\n",
       " ('Proton_A_878_20190305_IonXpress_075.amplicon.cov.xls', 48)]"
      ]
     },
     "execution_count": 43,
     "metadata": {},
     "output_type": "execute_result"
    }
   ],
   "source": [
    "xls"
   ]
  },
  {
   "cell_type": "code",
   "execution_count": 46,
   "metadata": {},
   "outputs": [
    {
     "name": "stdout",
     "output_type": "stream",
     "text": [
      "CNV\n",
      "VCF\n",
      "Proton_A_816_20181115\n",
      "Proton_A_858_20181228\n",
      "Proton_A_884_20190315\n",
      ".ipynb_checkpoints\n",
      "Proton_A_870_20190131\n",
      "Proton_A_879_20190307\n",
      "Proton_A_894_20190403\n"
     ]
    }
   ],
   "source": [
    "xls = []\n",
    "vcf = []\n",
    "txt = []\n",
    "for root, subdirs, files in os.walk('/Users/diploderma/Documents/GitHub/pyResources/python101_demo_data/data_with_subdir'):\n",
    "    for subdir in subdirs :\n",
    "        print(subdir)"
   ]
  },
  {
   "cell_type": "code",
   "execution_count": 49,
   "metadata": {},
   "outputs": [
    {
     "data": {
      "text/plain": [
       "['CNV', '.DS_Store', 'VCF']"
      ]
     },
     "execution_count": 49,
     "metadata": {},
     "output_type": "execute_result"
    }
   ],
   "source": [
    "os.listdir('/Users/diploderma/Documents/GitHub/pyResources/python101_demo_data/data_with_subdir')"
   ]
  },
  {
   "cell_type": "code",
   "execution_count": 51,
   "metadata": {},
   "outputs": [],
   "source": [
    "import pathlib2"
   ]
  },
  {
   "cell_type": "code",
   "execution_count": 54,
   "metadata": {},
   "outputs": [],
   "source": [
    "import sys"
   ]
  },
  {
   "cell_type": "code",
   "execution_count": 56,
   "metadata": {},
   "outputs": [],
   "source": [
    "import os"
   ]
  },
  {
   "cell_type": "code",
   "execution_count": 57,
   "metadata": {},
   "outputs": [
    {
     "name": "stdout",
     "output_type": "stream",
     "text": [
      "['/Users/diploderma/Documents/GitHub/pyResources', '/anaconda3/lib/python37.zip', '/anaconda3/lib/python3.7', '/anaconda3/lib/python3.7/lib-dynload', '', '/anaconda3/lib/python3.7/site-packages', '/anaconda3/lib/python3.7/site-packages/aeosa', '/anaconda3/lib/python3.7/site-packages/IPython/extensions', '/Users/diploderma/.ipython']\n"
     ]
    }
   ],
   "source": [
    "print(sys.path)"
   ]
  },
  {
   "cell_type": "code",
   "execution_count": 67,
   "metadata": {},
   "outputs": [],
   "source": [
    "import my_module"
   ]
  },
  {
   "cell_type": "code",
   "execution_count": 68,
   "metadata": {},
   "outputs": [
    {
     "data": {
      "text/plain": [
       "'I am a string'"
      ]
     },
     "execution_count": 68,
     "metadata": {},
     "output_type": "execute_result"
    }
   ],
   "source": [
    "my_module.abc"
   ]
  },
  {
   "cell_type": "code",
   "execution_count": 69,
   "metadata": {},
   "outputs": [
    {
     "data": {
      "text/plain": [
       "568"
      ]
     },
     "execution_count": 69,
     "metadata": {},
     "output_type": "execute_result"
    }
   ],
   "source": [
    "my_module.de"
   ]
  },
  {
   "cell_type": "code",
   "execution_count": 72,
   "metadata": {},
   "outputs": [
    {
     "name": "stdout",
     "output_type": "stream",
     "text": [
      "22\n",
      "8\n",
      "4\n"
     ]
    }
   ],
   "source": [
    "a = 6\n",
    "b = 7\n",
    "c = 9\n",
    "\n",
    "print(a + b + c)\n",
    "print(a - b + c)\n",
    "print(a - c + b)"
   ]
  },
  {
   "cell_type": "code",
   "execution_count": 73,
   "metadata": {},
   "outputs": [
    {
     "name": "stdout",
     "output_type": "stream",
     "text": [
      "121\n",
      "99\n",
      "-79\n"
     ]
    }
   ],
   "source": [
    "a = 10\n",
    "b = 11\n",
    "c = 100\n",
    "\n",
    "print(a + b + c)\n",
    "print(a - b + c)\n",
    "print(a - c + b)"
   ]
  },
  {
   "cell_type": "code",
   "execution_count": 75,
   "metadata": {},
   "outputs": [],
   "source": [
    "def test(a, b, c):\n",
    "    print(a + b + c)\n",
    "    print(a - b + c)\n",
    "    print(a - c + b)"
   ]
  },
  {
   "cell_type": "code",
   "execution_count": 76,
   "metadata": {},
   "outputs": [
    {
     "name": "stdout",
     "output_type": "stream",
     "text": [
      "121\n",
      "99\n",
      "-79\n"
     ]
    }
   ],
   "source": [
    "test(10, 11, 100)"
   ]
  },
  {
   "cell_type": "code",
   "execution_count": 77,
   "metadata": {},
   "outputs": [
    {
     "data": {
      "text/plain": [
       "function"
      ]
     },
     "execution_count": 77,
     "metadata": {},
     "output_type": "execute_result"
    }
   ],
   "source": [
    "type(test)"
   ]
  },
  {
   "cell_type": "code",
   "execution_count": 80,
   "metadata": {},
   "outputs": [
    {
     "name": "stdout",
     "output_type": "stream",
     "text": [
      "111\n",
      "99\n",
      "-89\n"
     ]
    }
   ],
   "source": [
    "test(5,6,100)"
   ]
  },
  {
   "cell_type": "code",
   "execution_count": 83,
   "metadata": {},
   "outputs": [],
   "source": [
    "def test(a, b, c):\n",
    "    return(a + b + c, a - b + c, a - c + b)"
   ]
  },
  {
   "cell_type": "code",
   "execution_count": 84,
   "metadata": {},
   "outputs": [],
   "source": [
    "i, j, k = test(1, 3, 5)"
   ]
  },
  {
   "cell_type": "code",
   "execution_count": 85,
   "metadata": {},
   "outputs": [
    {
     "name": "stdout",
     "output_type": "stream",
     "text": [
      "9 3 -1\n"
     ]
    }
   ],
   "source": [
    "print(i, j, k)"
   ]
  },
  {
   "cell_type": "code",
   "execution_count": 90,
   "metadata": {},
   "outputs": [],
   "source": [
    "import my_python"
   ]
  },
  {
   "cell_type": "code",
   "execution_count": 91,
   "metadata": {},
   "outputs": [
    {
     "data": {
      "text/plain": [
       "3"
      ]
     },
     "execution_count": 91,
     "metadata": {},
     "output_type": "execute_result"
    }
   ],
   "source": [
    "my_python.add(1, 2)"
   ]
  },
  {
   "cell_type": "code",
   "execution_count": 92,
   "metadata": {},
   "outputs": [],
   "source": [
    "from my_python import add"
   ]
  },
  {
   "cell_type": "code",
   "execution_count": 93,
   "metadata": {},
   "outputs": [
    {
     "data": {
      "text/plain": [
       "13"
      ]
     },
     "execution_count": 93,
     "metadata": {},
     "output_type": "execute_result"
    }
   ],
   "source": [
    "add(6,7)"
   ]
  },
  {
   "cell_type": "code",
   "execution_count": 98,
   "metadata": {},
   "outputs": [],
   "source": [
    "def test(a, b, c = 10) :\n",
    "    i = a + b + c\n",
    "    j = a - b + c\n",
    "    k = a - c + b\n",
    "    \n",
    "    print(i, j, k)"
   ]
  },
  {
   "cell_type": "code",
   "execution_count": 99,
   "metadata": {},
   "outputs": [
    {
     "name": "stdout",
     "output_type": "stream",
     "text": [
      "15 7 -5\n"
     ]
    }
   ],
   "source": [
    "test(1, 4)"
   ]
  },
  {
   "cell_type": "code",
   "execution_count": 100,
   "metadata": {},
   "outputs": [
    {
     "data": {
      "text/plain": [
       "<function __main__.test(a, b, c=10)>"
      ]
     },
     "execution_count": 100,
     "metadata": {},
     "output_type": "execute_result"
    }
   ],
   "source": [
    "test"
   ]
  },
  {
   "cell_type": "code",
   "execution_count": 101,
   "metadata": {},
   "outputs": [
    {
     "data": {
      "text/plain": [
       "function"
      ]
     },
     "execution_count": 101,
     "metadata": {},
     "output_type": "execute_result"
    }
   ],
   "source": [
    "type(test)"
   ]
  },
  {
   "cell_type": "code",
   "execution_count": 102,
   "metadata": {},
   "outputs": [],
   "source": [
    "x = ['c', test]"
   ]
  },
  {
   "cell_type": "code",
   "execution_count": 103,
   "metadata": {},
   "outputs": [
    {
     "name": "stdout",
     "output_type": "stream",
     "text": [
      "15 7 -5\n"
     ]
    }
   ],
   "source": [
    "x[1](1, 4)"
   ]
  },
  {
   "cell_type": "code",
   "execution_count": 5,
   "metadata": {},
   "outputs": [],
   "source": [
    "import os"
   ]
  },
  {
   "cell_type": "code",
   "execution_count": 6,
   "metadata": {},
   "outputs": [],
   "source": [
    "a = 'dog'"
   ]
  },
  {
   "cell_type": "code",
   "execution_count": 7,
   "metadata": {},
   "outputs": [
    {
     "data": {
      "text/plain": [
       "str"
      ]
     },
     "execution_count": 7,
     "metadata": {},
     "output_type": "execute_result"
    }
   ],
   "source": [
    "type(a)"
   ]
  },
  {
   "cell_type": "code",
   "execution_count": 8,
   "metadata": {},
   "outputs": [
    {
     "data": {
      "text/plain": [
       "'DOG'"
      ]
     },
     "execution_count": 8,
     "metadata": {},
     "output_type": "execute_result"
    }
   ],
   "source": [
    "a.upper()"
   ]
  },
  {
   "cell_type": "code",
   "execution_count": 9,
   "metadata": {},
   "outputs": [
    {
     "data": {
      "text/plain": [
       "'Dog'"
      ]
     },
     "execution_count": 9,
     "metadata": {},
     "output_type": "execute_result"
    }
   ],
   "source": [
    "a.capitalize()"
   ]
  },
  {
   "cell_type": "code",
   "execution_count": 11,
   "metadata": {},
   "outputs": [
    {
     "name": "stdout",
     "output_type": "stream",
     "text": [
      "d\n",
      "o\n",
      "g\n"
     ]
    }
   ],
   "source": [
    "for i in a :\n",
    "    print(i)"
   ]
  },
  {
   "cell_type": "code",
   "execution_count": 18,
   "metadata": {},
   "outputs": [],
   "source": [
    "my_list = ['a', 1, 4.6, True, [1, 2]]"
   ]
  },
  {
   "cell_type": "code",
   "execution_count": 19,
   "metadata": {},
   "outputs": [
    {
     "data": {
      "text/plain": [
       "['a', 1, 4.6, True, [1, 2]]"
      ]
     },
     "execution_count": 19,
     "metadata": {},
     "output_type": "execute_result"
    }
   ],
   "source": [
    "my_list"
   ]
  },
  {
   "cell_type": "code",
   "execution_count": 20,
   "metadata": {},
   "outputs": [
    {
     "name": "stdout",
     "output_type": "stream",
     "text": [
      "a\n"
     ]
    }
   ],
   "source": [
    "for i in my_list :\n",
    "    if type(i) == str :\n",
    "        print(i)"
   ]
  },
  {
   "cell_type": "code",
   "execution_count": 21,
   "metadata": {},
   "outputs": [
    {
     "name": "stdout",
     "output_type": "stream",
     "text": [
      "a <class 'str'>\n",
      "1 <class 'int'>\n",
      "4.6 <class 'float'>\n",
      "True <class 'bool'>\n",
      "[1, 2] <class 'list'>\n"
     ]
    }
   ],
   "source": [
    "for i in my_list :\n",
    "    print(i, type(i))"
   ]
  },
  {
   "cell_type": "code",
   "execution_count": 33,
   "metadata": {},
   "outputs": [],
   "source": [
    "def calculator(a, b, c) :\n",
    "    i = (a + b - c)*7\n",
    "    print(i)"
   ]
  },
  {
   "cell_type": "code",
   "execution_count": 25,
   "metadata": {},
   "outputs": [
    {
     "name": "stdout",
     "output_type": "stream",
     "text": [
      "0\n"
     ]
    }
   ],
   "source": [
    "calculator(1, 2, 3)"
   ]
  },
  {
   "cell_type": "code",
   "execution_count": 26,
   "metadata": {},
   "outputs": [
    {
     "name": "stdout",
     "output_type": "stream",
     "text": [
      "-28\n"
     ]
    }
   ],
   "source": [
    "calculator(1, 2, 7)"
   ]
  },
  {
   "cell_type": "code",
   "execution_count": 27,
   "metadata": {},
   "outputs": [
    {
     "name": "stdout",
     "output_type": "stream",
     "text": [
      "35\n"
     ]
    }
   ],
   "source": [
    "calculator(7, 8, 10)"
   ]
  },
  {
   "cell_type": "code",
   "execution_count": 34,
   "metadata": {},
   "outputs": [],
   "source": [
    "def calculator(*args) :\n",
    "    print(len(args))"
   ]
  },
  {
   "cell_type": "code",
   "execution_count": 29,
   "metadata": {},
   "outputs": [
    {
     "name": "stdout",
     "output_type": "stream",
     "text": [
      "6\n"
     ]
    }
   ],
   "source": [
    "calculator(1, 4, 6, 8, 0, 9)"
   ]
  },
  {
   "cell_type": "code",
   "execution_count": 39,
   "metadata": {},
   "outputs": [],
   "source": [
    "def calculator(*args) :\n",
    "    print(type(args))"
   ]
  },
  {
   "cell_type": "code",
   "execution_count": 32,
   "metadata": {},
   "outputs": [
    {
     "name": "stdout",
     "output_type": "stream",
     "text": [
      "<class 'tuple'>\n"
     ]
    }
   ],
   "source": [
    "calculator()"
   ]
  },
  {
   "cell_type": "code",
   "execution_count": 35,
   "metadata": {},
   "outputs": [],
   "source": [
    "my_tuple = tuple(my_list)"
   ]
  },
  {
   "cell_type": "code",
   "execution_count": 36,
   "metadata": {},
   "outputs": [
    {
     "data": {
      "text/plain": [
       "('a', 1, 4.6, True, [1, 2])"
      ]
     },
     "execution_count": 36,
     "metadata": {},
     "output_type": "execute_result"
    }
   ],
   "source": [
    "my_tuple"
   ]
  },
  {
   "cell_type": "code",
   "execution_count": 37,
   "metadata": {},
   "outputs": [],
   "source": [
    "def calculator(*args) :\n",
    "    for _ in args :\n",
    "        print(type(_))"
   ]
  },
  {
   "cell_type": "code",
   "execution_count": 38,
   "metadata": {},
   "outputs": [
    {
     "name": "stdout",
     "output_type": "stream",
     "text": [
      "<class 'str'>\n",
      "<class 'int'>\n",
      "<class 'list'>\n",
      "<class 'bool'>\n",
      "<class 'float'>\n"
     ]
    }
   ],
   "source": [
    "calculator('a', 1, [1, 2, 5], True, 5.6)"
   ]
  },
  {
   "cell_type": "code",
   "execution_count": 56,
   "metadata": {},
   "outputs": [],
   "source": [
    "def my_fun() :\n",
    "    print('hello')"
   ]
  },
  {
   "cell_type": "code",
   "execution_count": 51,
   "metadata": {},
   "outputs": [
    {
     "data": {
      "text/plain": [
       "'hello'"
      ]
     },
     "execution_count": 51,
     "metadata": {},
     "output_type": "execute_result"
    }
   ],
   "source": [
    "my_fun()"
   ]
  },
  {
   "cell_type": "code",
   "execution_count": 47,
   "metadata": {},
   "outputs": [
    {
     "name": "stdout",
     "output_type": "stream",
     "text": [
      "hello\n"
     ]
    }
   ],
   "source": [
    "b = my_fun()"
   ]
  },
  {
   "cell_type": "code",
   "execution_count": 48,
   "metadata": {},
   "outputs": [
    {
     "name": "stdout",
     "output_type": "stream",
     "text": [
      "None\n"
     ]
    }
   ],
   "source": [
    "print(b)"
   ]
  },
  {
   "cell_type": "code",
   "execution_count": 49,
   "metadata": {},
   "outputs": [],
   "source": [
    "def my_fun() :\n",
    "    return('hello')"
   ]
  },
  {
   "cell_type": "code",
   "execution_count": 50,
   "metadata": {},
   "outputs": [
    {
     "data": {
      "text/plain": [
       "'hello'"
      ]
     },
     "execution_count": 50,
     "metadata": {},
     "output_type": "execute_result"
    }
   ],
   "source": [
    "my_fun()"
   ]
  },
  {
   "cell_type": "code",
   "execution_count": 52,
   "metadata": {},
   "outputs": [],
   "source": [
    "def my_function() :\n",
    "    print('hello')"
   ]
  },
  {
   "cell_type": "code",
   "execution_count": 55,
   "metadata": {},
   "outputs": [
    {
     "name": "stdout",
     "output_type": "stream",
     "text": [
      "hello\n"
     ]
    }
   ],
   "source": [
    "my_function()"
   ]
  },
  {
   "cell_type": "code",
   "execution_count": 57,
   "metadata": {},
   "outputs": [
    {
     "data": {
      "text/plain": [
       "function"
      ]
     },
     "execution_count": 57,
     "metadata": {},
     "output_type": "execute_result"
    }
   ],
   "source": [
    "type(my_function)"
   ]
  },
  {
   "cell_type": "code",
   "execution_count": 74,
   "metadata": {},
   "outputs": [],
   "source": [
    "def calculator(*args) :\n",
    "    if args[-1] == '+' :\n",
    "        print(args[0]+args[1]+args[2]+args[3])\n",
    "    elif args[-1] == '-' :\n",
    "        print(args[0]-args[1]-args[2]-args[3])\n",
    "    elif args[-1] == 'X' :\n",
    "        print(args[0]*args[1]*args[2]*args[3])\n",
    "    elif args[-1] == '/' :\n",
    "        print(args[0]/args[1]/args[2]/args[3])"
   ]
  },
  {
   "cell_type": "code",
   "execution_count": 102,
   "metadata": {},
   "outputs": [],
   "source": [
    "def calculator(*args) :\n",
    "    if '+' in args :\n",
    "        a = args[0]\n",
    "        for i in args[1:-1] :\n",
    "            a = a + i\n",
    "    elif '-' in args :\n",
    "        a = args[0]\n",
    "        for i in args[1:-1] :\n",
    "            a = a - i\n",
    "    elif '*' in args :\n",
    "        a = args[0]\n",
    "        for i in args[1:-1] :\n",
    "            a = a * i\n",
    "    elif '/' in args :\n",
    "        a = args[0]\n",
    "        for i in args[1:-1] :\n",
    "            a = a / i\n",
    "    return(a)"
   ]
  },
  {
   "cell_type": "code",
   "execution_count": 96,
   "metadata": {},
   "outputs": [
    {
     "data": {
      "text/plain": [
       "10"
      ]
     },
     "execution_count": 96,
     "metadata": {},
     "output_type": "execute_result"
    }
   ],
   "source": [
    "calculator(1, 2, 3, 4, '+')"
   ]
  },
  {
   "cell_type": "code",
   "execution_count": 103,
   "metadata": {},
   "outputs": [],
   "source": [
    "def calculator(*args) :\n",
    "    a = args[0]\n",
    "    if '+' in args :\n",
    "        for i in args[1:-1] :\n",
    "            a = a + i\n",
    "    elif '-' in args :\n",
    "        for i in args[1:-1] :\n",
    "            a = a - i\n",
    "    elif '*' in args :\n",
    "        for i in args[1:-1] :\n",
    "            a = a * i\n",
    "    elif '/' in args :\n",
    "        for i in args[1:-1] :\n",
    "            a = a / i\n",
    "    return(a)"
   ]
  },
  {
   "cell_type": "code",
   "execution_count": 98,
   "metadata": {},
   "outputs": [
    {
     "data": {
      "text/plain": [
       "10"
      ]
     },
     "execution_count": 98,
     "metadata": {},
     "output_type": "execute_result"
    }
   ],
   "source": [
    "calculator(1, 2, 3, 4, '+')"
   ]
  },
  {
   "cell_type": "code",
   "execution_count": 99,
   "metadata": {},
   "outputs": [],
   "source": [
    "my_dict = {'a':1, 'b':2, 'c':3}"
   ]
  },
  {
   "cell_type": "code",
   "execution_count": 101,
   "metadata": {},
   "outputs": [
    {
     "data": {
      "text/plain": [
       "1"
      ]
     },
     "execution_count": 101,
     "metadata": {},
     "output_type": "execute_result"
    }
   ],
   "source": [
    "my_dict['a']"
   ]
  },
  {
   "cell_type": "code",
   "execution_count": null,
   "metadata": {},
   "outputs": [],
   "source": []
  }
 ],
 "metadata": {
  "kernelspec": {
   "display_name": "Python 3",
   "language": "python",
   "name": "python3"
  },
  "language_info": {
   "codemirror_mode": {
    "name": "ipython",
    "version": 3
   },
   "file_extension": ".py",
   "mimetype": "text/x-python",
   "name": "python",
   "nbconvert_exporter": "python",
   "pygments_lexer": "ipython3",
   "version": "3.7.1"
  }
 },
 "nbformat": 4,
 "nbformat_minor": 2
}
