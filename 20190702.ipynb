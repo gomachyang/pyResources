{
 "cells": [
  {
   "cell_type": "code",
   "execution_count": 1,
   "metadata": {},
   "outputs": [],
   "source": [
    "import re"
   ]
  },
  {
   "cell_type": "code",
   "execution_count": 2,
   "metadata": {},
   "outputs": [],
   "source": [
    "my_data_1 = \"\"\"\n",
    "Proton_A_176_20199876_IonXpress_098_CNV.txt,\n",
    "Proton_B_654_20190412_ionXpress_065_cnv.txt,\n",
    "protonb_765_20190421_ionXPRESS-099-vnc.TXT,\n",
    "Proton_A-765-20190123_IONXPRESS-056_cnn.txt\n",
    "\"\"\""
   ]
  },
  {
   "cell_type": "code",
   "execution_count": 3,
   "metadata": {},
   "outputs": [],
   "source": [
    "pattern = re.compile(r'(\\w{6}).?([AaBb]).?(\\d{3}).?(\\d{8}).?(\\w{9}).?(\\d{3}).?(\\w{3}).?(\\w{3})')"
   ]
  },
  {
   "cell_type": "code",
   "execution_count": 6,
   "metadata": {},
   "outputs": [],
   "source": [
    "result = pattern.findall(my_data_1)"
   ]
  },
  {
   "cell_type": "code",
   "execution_count": 7,
   "metadata": {},
   "outputs": [
    {
     "data": {
      "text/plain": [
       "[('Proton', 'A', '176', '20199876', 'IonXpress', '098', 'CNV', 'txt'),\n",
       " ('Proton', 'B', '654', '20190412', 'ionXpress', '065', 'cnv', 'txt'),\n",
       " ('proton', 'b', '765', '20190421', 'ionXPRESS', '099', 'vnc', 'TXT'),\n",
       " ('Proton', 'A', '765', '20190123', 'IONXPRESS', '056', 'cnn', 'txt')]"
      ]
     },
     "execution_count": 7,
     "metadata": {},
     "output_type": "execute_result"
    }
   ],
   "source": [
    "result"
   ]
  },
  {
   "cell_type": "code",
   "execution_count": 10,
   "metadata": {},
   "outputs": [
    {
     "name": "stdout",
     "output_type": "stream",
     "text": [
      "[('Proton', 'A', '176', '20199876', 'IonXpress', '098', 'CNV', 'txt'), ('Proton', 'B', '654', '20190412', 'ionXpress', '065', 'cnv', 'txt'), ('proton', 'b', '765', '20190421', 'ionXPRESS', '099', 'vnc', 'TXT'), ('Proton', 'A', '765', '20190123', 'IONXPRESS', '056', 'cnn', 'txt')]\n"
     ]
    }
   ],
   "source": [
    "print(result)"
   ]
  },
  {
   "cell_type": "code",
   "execution_count": 13,
   "metadata": {},
   "outputs": [
    {
     "name": "stdout",
     "output_type": "stream",
     "text": [
      "Proton A 176 20199876 IonXpress 098 CNV txt\n",
      "Proton B 654 20190412 ionXpress 065 cnv txt\n",
      "proton b 765 20190421 ionXPRESS 099 vnc TXT\n",
      "Proton A 765 20190123 IONXPRESS 056 cnn txt\n"
     ]
    }
   ],
   "source": [
    "for _ in result :\n",
    "    print(_[0], _[1], _[2], _[3], _[4], _[5], _[6], _[7])"
   ]
  },
  {
   "cell_type": "code",
   "execution_count": null,
   "metadata": {},
   "outputs": [],
   "source": []
  }
 ],
 "metadata": {
  "kernelspec": {
   "display_name": "Python 3",
   "language": "python",
   "name": "python3"
  },
  "language_info": {
   "codemirror_mode": {
    "name": "ipython",
    "version": 3
   },
   "file_extension": ".py",
   "mimetype": "text/x-python",
   "name": "python",
   "nbconvert_exporter": "python",
   "pygments_lexer": "ipython3",
   "version": "3.7.1"
  }
 },
 "nbformat": 4,
 "nbformat_minor": 2
}
