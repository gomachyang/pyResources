{
 "cells": [
  {
   "cell_type": "code",
   "execution_count": null,
   "metadata": {},
   "outputs": [],
   "source": [
    "# read and write file"
   ]
  },
  {
   "cell_type": "code",
   "execution_count": 1,
   "metadata": {},
   "outputs": [],
   "source": [
    "import os"
   ]
  },
  {
   "cell_type": "code",
   "execution_count": null,
   "metadata": {},
   "outputs": [],
   "source": [
    "# get current folder"
   ]
  },
  {
   "cell_type": "code",
   "execution_count": 2,
   "metadata": {},
   "outputs": [
    {
     "data": {
      "text/plain": [
       "'/Users/diploderma/Documents/GitHub/pyResources'"
      ]
     },
     "execution_count": 2,
     "metadata": {},
     "output_type": "execute_result"
    }
   ],
   "source": [
    "os.getcwd()"
   ]
  },
  {
   "cell_type": "code",
   "execution_count": null,
   "metadata": {},
   "outputs": [],
   "source": [
    "# read file 很像linux裡面的cat "
   ]
  },
  {
   "cell_type": "code",
   "execution_count": 14,
   "metadata": {},
   "outputs": [
    {
     "data": {
      "text/plain": [
       "['def add(a, b):', '    return (a + b)']"
      ]
     },
     "execution_count": 14,
     "metadata": {},
     "output_type": "execute_result"
    }
   ],
   "source": [
    "open_file = open('./my_python.py', 'r')\n",
    "content = open_file.read().splitlines()\n",
    "open_file.close()\n",
    "content"
   ]
  },
  {
   "cell_type": "code",
   "execution_count": 11,
   "metadata": {},
   "outputs": [
    {
     "data": {
      "text/plain": [
       "'def add(a, b):\\n    return (a + b)'"
      ]
     },
     "execution_count": 11,
     "metadata": {},
     "output_type": "execute_result"
    }
   ],
   "source": [
    "open_file = open('./my_python.py', 'r')\n",
    "content = open_file.read()\n",
    "open_file.close()\n",
    "content"
   ]
  },
  {
   "cell_type": "code",
   "execution_count": 17,
   "metadata": {},
   "outputs": [
    {
     "data": {
      "text/plain": [
       "['def add(a, b):\\n', '    return (a + b)']"
      ]
     },
     "execution_count": 17,
     "metadata": {},
     "output_type": "execute_result"
    }
   ],
   "source": [
    "open_file = open('./my_python.py', 'r')\n",
    "content = open_file.readlines()\n",
    "open_file.close()\n",
    "content"
   ]
  },
  {
   "cell_type": "code",
   "execution_count": 27,
   "metadata": {},
   "outputs": [
    {
     "data": {
      "text/plain": [
       "['def add(a, b):', '    return (a + b)']"
      ]
     },
     "execution_count": 27,
     "metadata": {},
     "output_type": "execute_result"
    }
   ],
   "source": [
    "with open('./my_python.py', 'r') as rf :\n",
    "    content = rf.read().splitlines()\n",
    "content"
   ]
  },
  {
   "cell_type": "code",
   "execution_count": 18,
   "metadata": {},
   "outputs": [],
   "source": [
    "# write file"
   ]
  },
  {
   "cell_type": "code",
   "execution_count": 35,
   "metadata": {},
   "outputs": [],
   "source": [
    "wf = open('./my_python2.py', 'w')\n",
    "wf.write('i am happy \\nyou are happy too')\n",
    "wf.close()"
   ]
  },
  {
   "cell_type": "code",
   "execution_count": 38,
   "metadata": {},
   "outputs": [],
   "source": [
    "with open('./my_python3.py', 'w') as wf :\n",
    "    wf.write('yoooo')"
   ]
  },
  {
   "cell_type": "code",
   "execution_count": 37,
   "metadata": {},
   "outputs": [],
   "source": [
    "with open('./my_python3.py', 'w') as wf :\n",
    "    wf.write('koooooo')"
   ]
  },
  {
   "cell_type": "code",
   "execution_count": 40,
   "metadata": {},
   "outputs": [],
   "source": [
    "list_a = ['me','you','he','her']"
   ]
  },
  {
   "cell_type": "code",
   "execution_count": 45,
   "metadata": {},
   "outputs": [],
   "source": [
    "with open('./my_python4.py', 'a') as wf :\n",
    "    for _ in list_a :\n",
    "        wf.write(_ + '\\n')"
   ]
  },
  {
   "cell_type": "code",
   "execution_count": 43,
   "metadata": {},
   "outputs": [
    {
     "data": {
      "text/plain": [
       "'me_you_he_her'"
      ]
     },
     "execution_count": 43,
     "metadata": {},
     "output_type": "execute_result"
    }
   ],
   "source": [
    "'_'.join(list_a)"
   ]
  },
  {
   "cell_type": "code",
   "execution_count": 44,
   "metadata": {},
   "outputs": [],
   "source": [
    "with open('./my_python5.py', 'w') as wf :\n",
    "    list_a_concat = '\\n'.join(list_a)\n",
    "    wf.write(list_a_concat)"
   ]
  },
  {
   "cell_type": "code",
   "execution_count": 46,
   "metadata": {},
   "outputs": [],
   "source": [
    "# read multiple txt file and write line1-20 to file"
   ]
  },
  {
   "cell_type": "code",
   "execution_count": 70,
   "metadata": {},
   "outputs": [],
   "source": [
    "data_path = '/Users/diploderma/Documents/GitHub/pyResources/python101_demo_data/data_wo_subdir'\n",
    "for file in os.listdir(data_path) :\n",
    "    if file.endswith('.txt') :\n",
    "        with open(os.path.join(data_path + '/' + file), 'r') as rf :\n",
    "            content_1to20 = rf.read().splitlines()[0:20]\n",
    "            with open('./result.txt', 'a') as wf :\n",
    "                wf.write('-'*100 + '\\n')\n",
    "            for line in content_1to20 :\n",
    "                with open('./result.txt', 'a') as wf :\n",
    "                    wf.write(file + '\\t' + line + '\\n')"
   ]
  },
  {
   "cell_type": "code",
   "execution_count": 73,
   "metadata": {},
   "outputs": [],
   "source": [
    "data_path = '/Users/diploderma/Documents/GitHub/pyResources/python101_demo_data/data_wo_subdir'\n",
    "for file in os.listdir(data_path) :\n",
    "    if file.endswith('.txt') :\n",
    "        with open(os.path.join(data_path + '/' + file), 'r') as rf :\n",
    "            content_1to20 = rf.read().splitlines()[0:20]\n",
    "            with open('./result.txt', 'a') as wf :\n",
    "                wf.write('-'*100 + '\\n')\n",
    "                for line in content_1to20 :\n",
    "                    wf.write(file + '\\t' + line + '\\n')"
   ]
  },
  {
   "cell_type": "code",
   "execution_count": 78,
   "metadata": {},
   "outputs": [],
   "source": [
    "data_path = '/Users/diploderma/Documents/GitHub/pyResources/python101_demo_data/data_wo_subdir'\n",
    "for file in os.listdir(data_path) :\n",
    "    if file.endswith('.txt') :\n",
    "        with open(os.path.join(data_path + '/' + file), 'r') as rf :\n",
    "            content = rf.readlines()\n",
    "            with open('./result.txt', 'a') as wf :\n",
    "                wf.write('-'*100 + '\\n')\n",
    "            for line in content :\n",
    "                if 'amplicon' in line :\n",
    "                    with open('./result.txt', 'a') as wf :\n",
    "                        wf.write(file + '\\t' + line + '\\n')"
   ]
  },
  {
   "cell_type": "code",
   "execution_count": null,
   "metadata": {},
   "outputs": [],
   "source": []
  },
  {
   "cell_type": "code",
   "execution_count": null,
   "metadata": {},
   "outputs": [],
   "source": []
  },
  {
   "cell_type": "code",
   "execution_count": null,
   "metadata": {},
   "outputs": [],
   "source": []
  },
  {
   "cell_type": "code",
   "execution_count": null,
   "metadata": {},
   "outputs": [],
   "source": []
  },
  {
   "cell_type": "code",
   "execution_count": null,
   "metadata": {},
   "outputs": [],
   "source": []
  }
 ],
 "metadata": {
  "kernelspec": {
   "display_name": "Python 3",
   "language": "python",
   "name": "python3"
  },
  "language_info": {
   "codemirror_mode": {
    "name": "ipython",
    "version": 3
   },
   "file_extension": ".py",
   "mimetype": "text/x-python",
   "name": "python",
   "nbconvert_exporter": "python",
   "pygments_lexer": "ipython3",
   "version": "3.7.4"
  }
 },
 "nbformat": 4,
 "nbformat_minor": 4
}
