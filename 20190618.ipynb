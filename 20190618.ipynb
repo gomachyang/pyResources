{
 "cells": [
  {
   "cell_type": "code",
   "execution_count": 1,
   "metadata": {},
   "outputs": [],
   "source": [
    "import re"
   ]
  },
  {
   "cell_type": "code",
   "execution_count": 2,
   "metadata": {},
   "outputs": [],
   "source": [
    "with open('20190618_data.txt', 'r') as rf :\n",
    "    data_content = rf.read().splitlines()"
   ]
  },
  {
   "cell_type": "code",
   "execution_count": 4,
   "metadata": {},
   "outputs": [
    {
     "data": {
      "text/plain": [
       "['Proton_A_20190421_IonXpress_012_F00129_CNV.txt',\n",
       " 'Proton_B_20190512_IonXpress_037_F00876_CNV.txt',\n",
       " 'S5PR_A_20190311_IonXpress_055_E00675_VCF.txt',\n",
       " 'S5PR_B_20190219_IonXpress_085_E00564_VCF.txt']"
      ]
     },
     "execution_count": 4,
     "metadata": {},
     "output_type": "execute_result"
    }
   ],
   "source": [
    "data_content"
   ]
  },
  {
   "cell_type": "code",
   "execution_count": 5,
   "metadata": {},
   "outputs": [
    {
     "name": "stdout",
     "output_type": "stream",
     "text": [
      "Proton_A 20190421 IonXpress_012 F00129 CNV\n",
      "Proton_B 20190512 IonXpress_037 F00876 CNV\n",
      "S5PR_A 20190311 IonXpress_055 E00675 VCF\n",
      "S5PR_B 20190219 IonXpress_085 E00564 VCF\n"
     ]
    }
   ],
   "source": [
    "for _ in data_content : \n",
    "    machine = '_'.join(_.split('_')[0:2])\n",
    "    date = _.split('_')[2]\n",
    "    barcode = '_'.join(_.split('_')[3:5])\n",
    "    sample = _.split('_')[5]\n",
    "    data_type = _.split('_')[-1].split('.')[0]\n",
    "    print(machine, date, barcode, sample, data_type)"
   ]
  },
  {
   "cell_type": "code",
   "execution_count": 8,
   "metadata": {},
   "outputs": [
    {
     "name": "stdout",
     "output_type": "stream",
     "text": [
      "Proton_A\n",
      "Proton_B\n",
      "S5PR_A\n",
      "S5PR_B\n"
     ]
    }
   ],
   "source": [
    "for _ in data_content :\n",
    "    data_split = _.split('_')\n",
    "    machine = '_'.join(data_split[0:2])\n",
    "    print(machine)"
   ]
  },
  {
   "cell_type": "code",
   "execution_count": 10,
   "metadata": {},
   "outputs": [],
   "source": [
    "# Regular expression"
   ]
  },
  {
   "cell_type": "code",
   "execution_count": 26,
   "metadata": {},
   "outputs": [],
   "source": [
    "import re"
   ]
  },
  {
   "cell_type": "code",
   "execution_count": 25,
   "metadata": {},
   "outputs": [],
   "source": [
    "pattern = re.compile(r'(\\w+_[AB])_(\\d{8})')"
   ]
  },
  {
   "cell_type": "code",
   "execution_count": 27,
   "metadata": {},
   "outputs": [
    {
     "name": "stdout",
     "output_type": "stream",
     "text": [
      "Proton_A 20190421\n",
      "Proton_B 20190512\n",
      "S5PR_A 20190311\n",
      "S5PR_B 20190219\n"
     ]
    }
   ],
   "source": [
    "import re\n",
    "\n",
    "pattern = re.compile(r'(\\w+_[AB])_(\\d{8})')\n",
    "\n",
    "for i in data_content : \n",
    "    output = pattern.search(i)\n",
    "    machine = output.group(1)\n",
    "    date = output.group(2)\n",
    "    print(machine, date)"
   ]
  },
  {
   "cell_type": "code",
   "execution_count": null,
   "metadata": {},
   "outputs": [],
   "source": []
  },
  {
   "cell_type": "code",
   "execution_count": null,
   "metadata": {},
   "outputs": [],
   "source": []
  }
 ],
 "metadata": {
  "kernelspec": {
   "display_name": "Python 3",
   "language": "python",
   "name": "python3"
  },
  "language_info": {
   "codemirror_mode": {
    "name": "ipython",
    "version": 3
   },
   "file_extension": ".py",
   "mimetype": "text/x-python",
   "name": "python",
   "nbconvert_exporter": "python",
   "pygments_lexer": "ipython3",
   "version": "3.7.1"
  }
 },
 "nbformat": 4,
 "nbformat_minor": 2
}
