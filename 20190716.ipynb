{
 "cells": [
  {
   "cell_type": "code",
   "execution_count": 1,
   "metadata": {},
   "outputs": [],
   "source": [
    "import re "
   ]
  },
  {
   "cell_type": "code",
   "execution_count": 2,
   "metadata": {},
   "outputs": [],
   "source": [
    "import os "
   ]
  },
  {
   "cell_type": "code",
   "execution_count": 8,
   "metadata": {},
   "outputs": [
    {
     "name": "stdout",
     "output_type": "stream",
     "text": [
      "snp_testing_3.txt\n",
      "snp_testing_2.txt\n",
      "snp_testing_1.txt\n"
     ]
    }
   ],
   "source": [
    "for file in os.listdir('./') :\n",
    "    if file.startswith('snp') :\n",
    "        print(file)"
   ]
  },
  {
   "cell_type": "code",
   "execution_count": 42,
   "metadata": {},
   "outputs": [],
   "source": [
    "with open('SNP_testing_select.txt', 'w') as wf :\n",
    "    wf.write('file_name\\tid\\tvaf\\tdp\\n')\n",
    "for file in os.listdir('./') :\n",
    "    if file.startswith('snp') :\n",
    "        with open(file, 'r') as rf :\n",
    "            content = rf.read().splitlines()\n",
    "        for line in content[3:] :   \n",
    "            pattern_SNP = re.compile(r'(\\w{3}\\d{1}_\\d{8}_[A-Z]+>[A-Z]+).+VAF=(\\d.\\d{4}).+;DP=(\\d+)')\n",
    "            result = pattern_SNP.search(line)\n",
    "            # Check if not match by re pattern, then print it out.\n",
    "            if not result :\n",
    "                print(line)\n",
    "            line_output = '\\t'.join([file, result.group(1), result.group(2), result.group(3)]) + '\\n'\n",
    "            with open('SNP_testing_select.txt', 'a') as wf :\n",
    "                wf.write(line_output)\n",
    "                \n",
    "            # print(file, result.group(1), result.group(2), result.group(3))"
   ]
  },
  {
   "cell_type": "code",
   "execution_count": null,
   "metadata": {},
   "outputs": [],
   "source": []
  }
 ],
 "metadata": {
  "kernelspec": {
   "display_name": "Python 3",
   "language": "python",
   "name": "python3"
  },
  "language_info": {
   "codemirror_mode": {
    "name": "ipython",
    "version": 3
   },
   "file_extension": ".py",
   "mimetype": "text/x-python",
   "name": "python",
   "nbconvert_exporter": "python",
   "pygments_lexer": "ipython3",
   "version": "3.7.1"
  }
 },
 "nbformat": 4,
 "nbformat_minor": 2
}
